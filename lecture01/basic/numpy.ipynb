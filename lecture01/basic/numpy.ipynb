{
 "cells": [
  {
   "cell_type": "markdown",
   "metadata": {
    "toc": "true"
   },
   "source": [
    "<h1>Table of Contents<span class=\"tocSkip\"></span></h1>\n",
    "<div class=\"toc\"><ul class=\"toc-item\"><li><span><a href=\"#2.1.-Numpy-ndarray---создание\" data-toc-modified-id=\"2.1.-Numpy-ndarray---создание-1\"><span class=\"toc-item-num\">1&nbsp;&nbsp;</span>2.1. Numpy ndarray - создание</a></span></li><li><span><a href=\"#2.2.-Numpy-ndarray---индексы\" data-toc-modified-id=\"2.2.-Numpy-ndarray---индексы-2\"><span class=\"toc-item-num\">2&nbsp;&nbsp;</span>2.2. Numpy ndarray - индексы</a></span><ul class=\"toc-item\"><li><span><a href=\"#TLDR:\" data-toc-modified-id=\"TLDR:-2.1\"><span class=\"toc-item-num\">2.1&nbsp;&nbsp;</span>TLDR:</a></span></li></ul></li><li><span><a href=\"#2.3.-Numpy-ndarray---элементарные-операции-с-массивами\" data-toc-modified-id=\"2.3.-Numpy-ndarray---элементарные-операции-с-массивами-3\"><span class=\"toc-item-num\">3&nbsp;&nbsp;</span>2.3. Numpy ndarray - элементарные операции с массивами</a></span><ul class=\"toc-item\"><li><span><a href=\"#TLDR:\" data-toc-modified-id=\"TLDR:-3.1\"><span class=\"toc-item-num\">3.1&nbsp;&nbsp;</span>TLDR:</a></span></li></ul></li><li><span><a href=\"#2.4.-Numpy---основные-функции.\" data-toc-modified-id=\"2.4.-Numpy---основные-функции.-4\"><span class=\"toc-item-num\">4&nbsp;&nbsp;</span>2.4. Numpy - основные функции.</a></span><ul class=\"toc-item\"><li><span><a href=\"#TLDR:\" data-toc-modified-id=\"TLDR:-4.1\"><span class=\"toc-item-num\">4.1&nbsp;&nbsp;</span>TLDR:</a></span></li></ul></li><li><span><a href=\"#2.5.-Numpy---I/O.\" data-toc-modified-id=\"2.5.-Numpy---I/O.-5\"><span class=\"toc-item-num\">5&nbsp;&nbsp;</span>2.5. Numpy - I/O.</a></span></li></ul></div>"
   ]
  },
  {
   "cell_type": "code",
   "execution_count": 19,
   "metadata": {
    "ExecuteTime": {
     "end_time": "2021-03-10T15:54:08.656864Z",
     "start_time": "2021-03-10T15:54:08.009508Z"
    }
   },
   "outputs": [],
   "source": [
    "%matplotlib inline\n",
    "import matplotlib.pyplot as plt"
   ]
  },
  {
   "cell_type": "markdown",
   "metadata": {},
   "source": [
    "# 2.1. Numpy ndarray - создание"
   ]
  },
  {
   "cell_type": "markdown",
   "metadata": {},
   "source": [
    "Numpy - библиотека для векторизованных вычислений в Python'e. Написана на C. Основной объект в numpy - nddarray, который располагается напрерывно в памяти и позволяет производить быстрые вычисления."
   ]
  },
  {
   "cell_type": "code",
   "execution_count": 20,
   "metadata": {
    "ExecuteTime": {
     "end_time": "2021-03-10T15:54:39.438084Z",
     "start_time": "2021-03-10T15:54:39.434569Z"
    }
   },
   "outputs": [],
   "source": [
    "import numpy as np"
   ]
  },
  {
   "cell_type": "code",
   "execution_count": 21,
   "metadata": {
    "ExecuteTime": {
     "end_time": "2021-03-10T15:55:06.501509Z",
     "start_time": "2021-03-10T15:55:04.490579Z"
    }
   },
   "outputs": [
    {
     "name": "stdout",
     "output_type": "stream",
     "text": [
      "81.6 µs ± 9.74 µs per loop (mean ± std. dev. of 7 runs, 10000 loops each)\n"
     ]
    }
   ],
   "source": [
    "%%timeit\n",
    "[[i**2 for i in list(range(100))]]"
   ]
  },
  {
   "cell_type": "code",
   "execution_count": 22,
   "metadata": {
    "ExecuteTime": {
     "end_time": "2021-03-10T15:55:13.422613Z",
     "start_time": "2021-03-10T15:55:06.503344Z"
    }
   },
   "outputs": [
    {
     "name": "stdout",
     "output_type": "stream",
     "text": [
      "33.9 µs ± 6.33 µs per loop (mean ± std. dev. of 7 runs, 10000 loops each)\n"
     ]
    }
   ],
   "source": [
    "%%timeit\n",
    "a = np.array(list(range(100)))\n",
    "a * a"
   ]
  },
  {
   "cell_type": "code",
   "execution_count": 23,
   "metadata": {
    "ExecuteTime": {
     "end_time": "2021-03-10T15:55:35.612007Z",
     "start_time": "2021-03-10T15:55:28.391680Z"
    }
   },
   "outputs": [
    {
     "name": "stdout",
     "output_type": "stream",
     "text": [
      "24.3 µs ± 4.75 µs per loop (mean ± std. dev. of 7 runs, 10000 loops each)\n"
     ]
    }
   ],
   "source": [
    "%%timeit\n",
    "a = np.array(list(range(100)))\n",
    "a ** 2"
   ]
  },
  {
   "cell_type": "markdown",
   "metadata": {},
   "source": [
    "Создание массива"
   ]
  },
  {
   "cell_type": "code",
   "execution_count": 24,
   "metadata": {
    "ExecuteTime": {
     "end_time": "2021-03-10T15:56:44.195467Z",
     "start_time": "2021-03-10T15:56:44.191585Z"
    }
   },
   "outputs": [
    {
     "data": {
      "text/plain": [
       "array([1, 2, 3, 4])"
      ]
     },
     "execution_count": 24,
     "metadata": {},
     "output_type": "execute_result"
    }
   ],
   "source": [
    "a = np.array([1, 2, 3, 4])\n",
    "a"
   ]
  },
  {
   "cell_type": "code",
   "execution_count": 25,
   "metadata": {
    "ExecuteTime": {
     "end_time": "2021-03-10T15:56:51.978682Z",
     "start_time": "2021-03-10T15:56:51.974801Z"
    }
   },
   "outputs": [
    {
     "data": {
      "text/plain": [
       "(4,)"
      ]
     },
     "execution_count": 25,
     "metadata": {},
     "output_type": "execute_result"
    }
   ],
   "source": [
    "a.shape"
   ]
  },
  {
   "cell_type": "markdown",
   "metadata": {},
   "source": [
    "Shape - кортеж, который указывает число элементов в каждом измерении. "
   ]
  },
  {
   "cell_type": "code",
   "execution_count": 26,
   "metadata": {
    "ExecuteTime": {
     "end_time": "2021-03-10T15:57:16.392658Z",
     "start_time": "2021-03-10T15:57:16.389581Z"
    }
   },
   "outputs": [],
   "source": [
    "a = np.array([[1, 2], [3, 4]], dtype=int)"
   ]
  },
  {
   "cell_type": "code",
   "execution_count": 27,
   "metadata": {
    "ExecuteTime": {
     "end_time": "2021-03-10T15:57:22.100361Z",
     "start_time": "2021-03-10T15:57:22.093668Z"
    }
   },
   "outputs": [
    {
     "data": {
      "text/plain": [
       "4"
      ]
     },
     "execution_count": 27,
     "metadata": {},
     "output_type": "execute_result"
    }
   ],
   "source": [
    "a.size"
   ]
  },
  {
   "cell_type": "code",
   "execution_count": 28,
   "metadata": {
    "ExecuteTime": {
     "end_time": "2021-03-10T15:57:24.135916Z",
     "start_time": "2021-03-10T15:57:24.130844Z"
    }
   },
   "outputs": [
    {
     "data": {
      "text/plain": [
       "(2, 2)"
      ]
     },
     "execution_count": 28,
     "metadata": {},
     "output_type": "execute_result"
    }
   ],
   "source": [
    "a.shape"
   ]
  },
  {
   "cell_type": "code",
   "execution_count": 29,
   "metadata": {
    "ExecuteTime": {
     "end_time": "2021-03-10T15:57:43.852595Z",
     "start_time": "2021-03-10T15:57:43.848546Z"
    }
   },
   "outputs": [
    {
     "data": {
      "text/plain": [
       "dtype('int32')"
      ]
     },
     "execution_count": 29,
     "metadata": {},
     "output_type": "execute_result"
    }
   ],
   "source": [
    "a.dtype"
   ]
  },
  {
   "cell_type": "code",
   "execution_count": 30,
   "metadata": {
    "ExecuteTime": {
     "end_time": "2021-03-10T15:57:54.383671Z",
     "start_time": "2021-03-10T15:57:54.379528Z"
    }
   },
   "outputs": [
    {
     "data": {
      "text/plain": [
       "4"
      ]
     },
     "execution_count": 30,
     "metadata": {},
     "output_type": "execute_result"
    }
   ],
   "source": [
    "a.itemsize"
   ]
  },
  {
   "cell_type": "code",
   "execution_count": 31,
   "metadata": {
    "ExecuteTime": {
     "end_time": "2021-03-10T15:58:02.272355Z",
     "start_time": "2021-03-10T15:58:02.267791Z"
    }
   },
   "outputs": [
    {
     "data": {
      "text/plain": [
       "16"
      ]
     },
     "execution_count": 31,
     "metadata": {},
     "output_type": "execute_result"
    }
   ],
   "source": [
    "a.nbytes"
   ]
  },
  {
   "cell_type": "code",
   "execution_count": 32,
   "metadata": {
    "ExecuteTime": {
     "end_time": "2021-03-10T11:22:36.530677Z",
     "start_time": "2021-03-10T11:22:36.527120Z"
    }
   },
   "outputs": [
    {
     "data": {
      "text/plain": [
       "(8, 4)"
      ]
     },
     "execution_count": 32,
     "metadata": {},
     "output_type": "execute_result"
    }
   ],
   "source": [
    "a.strides"
   ]
  },
  {
   "cell_type": "code",
   "execution_count": 33,
   "metadata": {
    "ExecuteTime": {
     "end_time": "2021-03-10T16:01:59.146005Z",
     "start_time": "2021-03-10T16:01:59.142068Z"
    }
   },
   "outputs": [
    {
     "data": {
      "text/plain": [
       "array([[1],\n",
       "       [2],\n",
       "       [3],\n",
       "       [4]])"
      ]
     },
     "execution_count": 33,
     "metadata": {},
     "output_type": "execute_result"
    }
   ],
   "source": [
    "a.reshape(4, 1)"
   ]
  },
  {
   "cell_type": "code",
   "execution_count": 34,
   "metadata": {
    "ExecuteTime": {
     "end_time": "2021-03-10T16:02:02.857369Z",
     "start_time": "2021-03-10T16:02:02.853793Z"
    }
   },
   "outputs": [
    {
     "data": {
      "text/plain": [
       "(4, 4)"
      ]
     },
     "execution_count": 34,
     "metadata": {},
     "output_type": "execute_result"
    }
   ],
   "source": [
    "a.reshape(4, 1).strides"
   ]
  },
  {
   "cell_type": "code",
   "execution_count": 35,
   "metadata": {
    "ExecuteTime": {
     "end_time": "2021-03-10T11:23:22.522719Z",
     "start_time": "2021-03-10T11:23:22.517655Z"
    }
   },
   "outputs": [
    {
     "data": {
      "text/plain": [
       "(16, 4)"
      ]
     },
     "execution_count": 35,
     "metadata": {},
     "output_type": "execute_result"
    }
   ],
   "source": [
    "a.reshape(1, 4).strides"
   ]
  },
  {
   "cell_type": "code",
   "execution_count": 36,
   "metadata": {
    "ExecuteTime": {
     "end_time": "2021-03-10T16:02:48.308456Z",
     "start_time": "2021-03-10T16:02:48.300204Z"
    }
   },
   "outputs": [
    {
     "ename": "ValueError",
     "evalue": "cannot reshape array of size 4 into shape (1,3)",
     "output_type": "error",
     "traceback": [
      "\u001b[1;31m---------------------------------------------------------------------------\u001b[0m",
      "\u001b[1;31mValueError\u001b[0m                                Traceback (most recent call last)",
      "\u001b[1;32m<ipython-input-36-e02101df5fa7>\u001b[0m in \u001b[0;36m<module>\u001b[1;34m\u001b[0m\n\u001b[1;32m----> 1\u001b[1;33m \u001b[0ma\u001b[0m\u001b[1;33m.\u001b[0m\u001b[0mreshape\u001b[0m\u001b[1;33m(\u001b[0m\u001b[1;36m1\u001b[0m\u001b[1;33m,\u001b[0m \u001b[1;36m3\u001b[0m\u001b[1;33m)\u001b[0m\u001b[1;33m\u001b[0m\u001b[1;33m\u001b[0m\u001b[0m\n\u001b[0m",
      "\u001b[1;31mValueError\u001b[0m: cannot reshape array of size 4 into shape (1,3)"
     ]
    }
   ],
   "source": [
    "a.reshape(1, 3)"
   ]
  },
  {
   "cell_type": "code",
   "execution_count": 37,
   "metadata": {
    "ExecuteTime": {
     "end_time": "2021-03-10T16:03:24.261194Z",
     "start_time": "2021-03-10T16:03:24.257096Z"
    }
   },
   "outputs": [
    {
     "data": {
      "text/plain": [
       "array([[1, 2, 3, 4]])"
      ]
     },
     "execution_count": 37,
     "metadata": {},
     "output_type": "execute_result"
    }
   ],
   "source": [
    "a.reshape(1, -1)"
   ]
  },
  {
   "cell_type": "code",
   "execution_count": 38,
   "metadata": {
    "ExecuteTime": {
     "end_time": "2021-03-10T16:03:29.175537Z",
     "start_time": "2021-03-10T16:03:29.170326Z"
    }
   },
   "outputs": [
    {
     "data": {
      "text/plain": [
       "(1, 4)"
      ]
     },
     "execution_count": 38,
     "metadata": {},
     "output_type": "execute_result"
    }
   ],
   "source": [
    "a.reshape(1, -1).shape"
   ]
  },
  {
   "cell_type": "markdown",
   "metadata": {},
   "source": [
    "При желании, можно использовать np.size(np.object) и np.shape(np.object):"
   ]
  },
  {
   "cell_type": "code",
   "execution_count": 39,
   "metadata": {
    "ExecuteTime": {
     "end_time": "2021-03-10T16:03:32.439248Z",
     "start_time": "2021-03-10T16:03:32.435985Z"
    }
   },
   "outputs": [
    {
     "data": {
      "text/plain": [
       "4"
      ]
     },
     "execution_count": 39,
     "metadata": {},
     "output_type": "execute_result"
    }
   ],
   "source": [
    "np.size(a)"
   ]
  },
  {
   "cell_type": "code",
   "execution_count": 40,
   "metadata": {
    "ExecuteTime": {
     "end_time": "2021-03-10T16:03:38.527239Z",
     "start_time": "2021-03-10T16:03:38.522384Z"
    }
   },
   "outputs": [
    {
     "data": {
      "text/plain": [
       "(2, 2)"
      ]
     },
     "execution_count": 40,
     "metadata": {},
     "output_type": "execute_result"
    }
   ],
   "source": [
    "np.shape(a)"
   ]
  },
  {
   "cell_type": "markdown",
   "metadata": {},
   "source": [
    "При необходимости, не стоит принебрегать встроенной справкой:"
   ]
  },
  {
   "cell_type": "code",
   "execution_count": 41,
   "metadata": {
    "ExecuteTime": {
     "end_time": "2021-03-10T16:04:40.242391Z",
     "start_time": "2021-03-10T16:04:40.239083Z"
    }
   },
   "outputs": [
    {
     "ename": "TypeError",
     "evalue": "array() missing required argument 'object' (pos 1)",
     "output_type": "error",
     "traceback": [
      "\u001b[1;31m---------------------------------------------------------------------------\u001b[0m",
      "\u001b[1;31mTypeError\u001b[0m                                 Traceback (most recent call last)",
      "\u001b[1;32m<ipython-input-41-e4f3b47dc252>\u001b[0m in \u001b[0;36m<module>\u001b[1;34m\u001b[0m\n\u001b[1;32m----> 1\u001b[1;33m \u001b[0mnp\u001b[0m\u001b[1;33m.\u001b[0m\u001b[0marray\u001b[0m\u001b[1;33m(\u001b[0m\u001b[1;33m)\u001b[0m\u001b[1;33m\u001b[0m\u001b[1;33m\u001b[0m\u001b[0m\n\u001b[0m",
      "\u001b[1;31mTypeError\u001b[0m: array() missing required argument 'object' (pos 1)"
     ]
    }
   ],
   "source": [
    "np.array()"
   ]
  },
  {
   "cell_type": "markdown",
   "metadata": {},
   "source": [
    "И специальными функциями numpy:"
   ]
  },
  {
   "cell_type": "code",
   "execution_count": 42,
   "metadata": {
    "ExecuteTime": {
     "end_time": "2021-03-10T16:05:30.135112Z",
     "start_time": "2021-03-10T16:05:27.783095Z"
    },
    "scrolled": true
   },
   "outputs": [
    {
     "name": "stdout",
     "output_type": "stream",
     "text": [
      "Search results for 'create array'\n",
      "---------------------------------\n",
      "numpy.array\n",
      "    Create an array.\n",
      "numpy.memmap\n",
      "    Create a memory-map to an array stored in a *binary* file on disk.\n",
      "numpy.diagflat\n",
      "    Create a two-dimensional array with the flattened input as a diagonal.\n",
      "numpy.fromiter\n",
      "    Create a new 1-dimensional array from an iterable object.\n",
      "numpy.partition\n",
      "    Return a partitioned copy of an array.\n",
      "numpy.ctypeslib.as_array\n",
      "    Create a numpy array from a ctypes array or POINTER.\n",
      "numpy.ma.diagflat\n",
      "    Create a two-dimensional array with the flattened input as a diagonal.\n",
      "numpy.ma.make_mask\n",
      "    Create a boolean mask from an array.\n",
      "numpy.lib.Arrayterator\n",
      "    Buffered iterator for big arrays.\n",
      "numpy.ctypeslib.as_ctypes\n",
      "    Create and return a ctypes object from a numpy array.  Actually\n",
      "numpy.ma.mrecords.fromarrays\n",
      "    Creates a mrecarray from a (flat) list of masked arrays.\n",
      "numpy.ma.mvoid.__new__\n",
      "    Create a new masked array from scratch.\n",
      "numpy.ma.MaskedArray.__new__\n",
      "    Create a new masked array from scratch.\n",
      "numpy.ma.mrecords.fromtextfile\n",
      "    Creates a mrecarray from data stored in the file `filename`.\n",
      "numpy.asarray\n",
      "    Convert the input to an array.\n",
      "numpy.ndarray\n",
      "    ndarray(shape, dtype=float, buffer=None, offset=0,\n",
      "numpy.recarray\n",
      "    Construct an ndarray that allows field access using attributes.\n",
      "numpy.chararray\n",
      "    chararray(shape, itemsize=1, unicode=False, buffer=None, offset=0,\n",
      "numpy.exp\n",
      "    Calculate the exponential of all elements in the input array.\n",
      "numpy.pad\n",
      "    Pad an array.\n",
      "numpy.asanyarray\n",
      "    Convert the input to an ndarray, but pass ndarray subclasses through.\n",
      "numpy.cbrt\n",
      "    Return the cube-root of an array, element-wise.\n",
      "numpy.copy\n",
      "    Return an array copy of the given object.\n",
      "numpy.diag\n",
      "    Extract a diagonal or construct a diagonal array.\n",
      "numpy.exp2\n",
      "    Calculate `2**p` for all `p` in the input array.\n",
      "numpy.fmax\n",
      "    Element-wise maximum of array elements.\n",
      "numpy.fmin\n",
      "    Element-wise minimum of array elements.\n",
      "numpy.load\n",
      "    Load arrays or pickled objects from ``.npy``, ``.npz`` or pickled files.\n",
      "numpy.modf\n",
      "    Return the fractional and integral parts of an array, element-wise.\n",
      "numpy.rint\n",
      "    Round elements of the array to the nearest integer.\n",
      "numpy.sort\n",
      "    Return a sorted copy of an array.\n",
      "numpy.sqrt\n",
      "    Return the non-negative square-root of an array, element-wise.\n",
      "numpy.array_equiv\n",
      "    Returns True if input arrays are shape consistent and all elements equal.\n",
      "numpy.dtype\n",
      "    Create a data type object.\n",
      "numpy.expm1\n",
      "    Calculate ``exp(x) - 1`` for all elements in the array.\n",
      "numpy.isnan\n",
      "    Test element-wise for NaN and return result as a boolean array.\n",
      "numpy.isnat\n",
      "    Test element-wise for NaT (not a time) and return result as a boolean array.\n",
      "numpy.log10\n",
      "    Return the base 10 logarithm of the input array, element-wise.\n",
      "numpy.log1p\n",
      "    Return the natural logarithm of one plus the input array, element-wise.\n",
      "numpy.power\n",
      "    First array elements raised to powers from second array, element-wise.\n",
      "numpy.ufunc\n",
      "    Functions that operate element by element on whole arrays.\n",
      "numpy.choose\n",
      "    Construct an array from an index array and a set of arrays to choose from.\n",
      "numpy.nditer\n",
      "    Efficient multi-dimensional iterator object to iterate over arrays.\n",
      "numpy.maximum\n",
      "    Element-wise maximum of array elements.\n",
      "numpy.minimum\n",
      "    Element-wise minimum of array elements.\n",
      "numpy.swapaxes\n",
      "    Interchange two axes of an array.\n",
      "numpy.full_like\n",
      "    Return a full array with the same shape and type as a given array.\n",
      "numpy.ones_like\n",
      "    Return an array of ones with the same shape and type as a given array.\n",
      "numpy.bitwise_or\n",
      "    Compute the bit-wise OR of two arrays element-wise.\n",
      "numpy.empty_like\n",
      "    Return a new array with the same shape and type as a given array.\n",
      "numpy.zeros_like\n",
      "    Return an array of zeros with the same shape and type as a given array.\n",
      "numpy.asarray_chkfinite\n",
      "    Convert the input to an array, checking for NaNs or Infs.\n",
      "numpy.bitwise_and\n",
      "    Compute the bit-wise AND of two arrays element-wise.\n",
      "numpy.bitwise_xor\n",
      "    Compute the bit-wise XOR of two arrays element-wise.\n",
      "numpy.float_power\n",
      "    First array elements raised to powers from second array, element-wise.\n",
      "numpy.ma.exp\n",
      "    Calculate the exponential of all elements in the input array.\n",
      "numpy.diag_indices\n",
      "    Return the indices to access the main diagonal of an array.\n",
      "numpy.nested_iters\n",
      "    Create nditers for use in nested loops\n",
      "numpy.ma.mrecords.MaskedRecords.__new__\n",
      "    Create a new masked array from scratch.\n",
      "numpy.ma.sqrt\n",
      "    Return the non-negative square-root of an array, element-wise.\n",
      "numpy.ma.log10\n",
      "    Return the base 10 logarithm of the input array, element-wise.\n",
      "numpy.chararray.tolist\n",
      "    a.tolist()\n",
      "numpy.put_along_axis\n",
      "    Put values into the destination array by matching 1d index and data slices.\n",
      "numpy.ma.choose\n",
      "    Use an index array to construct a new array from a set of choices.\n",
      "numpy.ma.maximum\n",
      "    Element-wise maximum of array elements.\n",
      "numpy.ma.minimum\n",
      "    Element-wise minimum of array elements.\n",
      "numpy.savez_compressed\n",
      "    Save several arrays into a single file in compressed ``.npz`` format.\n",
      "numpy.matlib.rand\n",
      "    Return a matrix of random values with given shape.\n",
      "numpy.datetime_as_string\n",
      "    Convert an array of datetimes into an array of strings.\n",
      "numpy.ma.bitwise_or\n",
      "    Compute the bit-wise OR of two arrays element-wise.\n",
      "numpy.ma.bitwise_and\n",
      "    Compute the bit-wise AND of two arrays element-wise.\n",
      "numpy.ma.bitwise_xor\n",
      "    Compute the bit-wise XOR of two arrays element-wise.\n",
      "numpy.ma.make_mask_none\n",
      "    Return a boolean mask of the given shape, filled with False.\n",
      "numpy.ma.tests.test_subclassing.MSubArray.__new__\n",
      "    Create a new masked array from scratch.\n",
      "numpy.core._multiarray_umath.clip\n",
      "    Clip (limit) the values in an array.\n",
      "numpy.ma.tests.test_subclassing.SubMaskedArray.__new__\n",
      "    Create a new masked array from scratch.\n",
      "numpy.ma.mrecords.fromrecords\n",
      "    Creates a MaskedRecords from a list of records.\n",
      "numpy.core._multiarray_umath.empty_like\n",
      "    Return a new array with the same shape and type as a given array.\n",
      "numpy.core._dtype._construction_repr\n",
      "    Creates a string repr of the dtype, excluding the 'dtype()' part\n",
      "numpy.abs\n",
      "    Calculate the absolute value element-wise.\n",
      "numpy.add\n",
      "    Add arguments element-wise.\n",
      "numpy.cos\n",
      "    Cosine element-wise.\n",
      "numpy.log\n",
      "    Natural logarithm, element-wise.\n",
      "numpy.lib.recfunctions.require_fields\n",
      "    Casts a structured array to a new dtype using assignment by field-name.\n",
      "numpy.mod\n",
      "    Return element-wise remainder of division.\n",
      "numpy.sin\n",
      "    Trigonometric sine, element-wise.\n",
      "numpy.tan\n",
      "    Compute tangent element-wise.\n",
      "numpy.ceil\n",
      "    Return the ceiling of the input, element-wise.\n",
      "numpy.conj\n",
      "    Return the complex conjugate, element-wise.\n",
      "numpy.cosh\n",
      "    Hyperbolic cosine, element-wise.\n",
      "numpy.fabs\n",
      "    Compute the absolute values element-wise.\n",
      "numpy.fmod\n",
      "    Return the element-wise remainder of division.\n",
      "numpy.less\n",
      "    Return the truth value of (x1 < x2) element-wise.\n",
      "numpy.log2\n",
      "    Base-2 logarithm of `x`.\n",
      "numpy.sign\n",
      "    Returns an element-wise indication of the sign of a number.\n",
      "numpy.sinh\n",
      "    Hyperbolic sine, element-wise.\n",
      "numpy.tanh\n",
      "    Compute hyperbolic tangent element-wise.\n",
      "numpy.core._multiarray_umath.datetime_as_string\n",
      "    Convert an array of datetimes into an array of strings.\n",
      "numpy.equal\n",
      "    Return (x1 == x2) element-wise.\n",
      "numpy.floor\n",
      "    Return the floor of the input, element-wise.\n",
      "numpy.frexp\n",
      "    Decompose the elements of x into mantissa and twos exponent.\n",
      "numpy.hypot\n",
      "    Given the \"legs\" of a right triangle, return its hypotenuse.\n",
      "numpy.isinf\n",
      "    Test element-wise for positive or negative infinity.\n",
      "numpy.ldexp\n",
      "    Returns x1 * 2**x2, element-wise.\n",
      "numpy.trunc\n",
      "    Return the truncated value of the input, element-wise.\n",
      "numpy.arccos\n",
      "    Trigonometric inverse cosine, element-wise.\n",
      "numpy.arcsin\n",
      "    Inverse sine, element-wise.\n",
      "numpy.arctan\n",
      "    Trigonometric inverse tangent, element-wise.\n",
      "numpy.around\n",
      "    Evenly round to the given number of decimals.\n",
      "numpy.divide\n",
      "    Returns a true division of the inputs, element-wise.\n",
      "numpy.divmod\n",
      "    Return element-wise quotient and remainder simultaneously.\n",
      "numpy.source\n",
      "    Print or write to a file the source code for a NumPy object.\n",
      "numpy.square\n",
      "    Return the element-wise square of the input.\n",
      "numpy.arccosh\n",
      "    Inverse hyperbolic cosine, element-wise.\n",
      "numpy.arcsinh\n",
      "    Inverse hyperbolic sine element-wise.\n",
      "numpy.arctan2\n",
      "    Element-wise arc tangent of ``x1/x2`` choosing the quadrant correctly.\n",
      "numpy.arctanh\n",
      "    Inverse hyperbolic tangent element-wise.\n",
      "numpy.deg2rad\n",
      "    Convert angles from degrees to radians.\n",
      "numpy.degrees\n",
      "    Convert angles from radians to degrees.\n",
      "numpy.greater\n",
      "    Return the truth value of (x1 > x2) element-wise.\n",
      "numpy.rad2deg\n",
      "    Convert angles from radians to degrees.\n",
      "numpy.radians\n",
      "    Convert angles from degrees to radians.\n",
      "numpy.signbit\n",
      "    Returns element-wise True where signbit is set (less than zero).\n",
      "numpy.spacing\n",
      "    Return the distance between x and the nearest adjacent number.\n",
      "numpy.copysign\n",
      "    Change the sign of x1 to that of x2, element-wise.\n",
      "numpy.diagonal\n",
      "    Return specified diagonals.\n",
      "numpy.isfinite\n",
      "    Test element-wise for finiteness (not infinity or not Not a Number).\n",
      "numpy.multiply\n",
      "    Multiply arguments element-wise.\n",
      "numpy.negative\n",
      "    Numerical negative, element-wise.\n",
      "numpy.subtract\n",
      "    Subtract arguments, element-wise.\n",
      "numpy.heaviside\n",
      "    Compute the Heaviside step function.\n",
      "numpy.logaddexp\n",
      "    Logarithm of the sum of exponentiations of the inputs.\n",
      "numpy.nextafter\n",
      "    Return the next floating-point value after x1 towards x2, element-wise.\n",
      "numpy.not_equal\n",
      "    Return (x1 != x2) element-wise.\n",
      "numpy.left_shift\n",
      "    Shift the bits of an integer to the left.\n",
      "numpy.less_equal\n",
      "    Return the truth value of (x1 =< x2) element-wise.\n",
      "numpy.logaddexp2\n",
      "    Logarithm of the sum of exponentiations of the inputs in base-2.\n",
      "numpy.logical_or\n",
      "    Compute the truth value of x1 OR x2 element-wise.\n",
      "numpy.nan_to_num\n",
      "    Replace NaN with zero and infinity with large finite numbers (default\n",
      "numpy.reciprocal\n",
      "    Return the reciprocal of the argument, element-wise.\n",
      "numpy.bitwise_not\n",
      "    Compute bit-wise inversion, or bit-wise NOT, element-wise.\n",
      "numpy.einsum_path\n",
      "    Evaluates the lowest cost contraction order for an einsum expression by\n",
      "numpy.histogram2d\n",
      "    Compute the bi-dimensional histogram of two data samples.\n",
      "numpy.logical_and\n",
      "    Compute the truth value of x1 AND x2 element-wise.\n",
      "numpy.logical_not\n",
      "    Compute the truth value of NOT x element-wise.\n",
      "numpy.logical_xor\n",
      "    Compute the truth value of x1 XOR x2, element-wise.\n",
      "numpy.right_shift\n",
      "    Shift the bits of an integer to the right.\n",
      "numpy.ma.abs\n",
      "    Calculate the absolute value element-wise.\n",
      "numpy.ma.add\n",
      "    Add arguments element-wise.\n",
      "numpy.ma.cos\n",
      "    Cosine element-wise.\n",
      "numpy.ma.log\n",
      "    Natural logarithm, element-wise.\n",
      "numpy.ma.mod\n",
      "    Return element-wise remainder of division.\n",
      "numpy.ma.sin\n",
      "    Trigonometric sine, element-wise.\n",
      "numpy.ma.tan\n",
      "    Compute tangent element-wise.\n",
      "numpy.floor_divide\n",
      "    Return the largest integer smaller or equal to the division of the inputs.\n",
      "numpy.ma.ceil\n",
      "    Return the ceiling of the input, element-wise.\n",
      "numpy.ma.cosh\n",
      "    Hyperbolic cosine, element-wise.\n",
      "numpy.fft.ifft\n",
      "    Compute the one-dimensional inverse discrete Fourier Transform.\n",
      "numpy.ma.fabs\n",
      "    Compute the absolute values element-wise.\n",
      "numpy.ma.fmod\n",
      "    Return the element-wise remainder of division.\n",
      "numpy.ma.less\n",
      "    Return the truth value of (x1 < x2) element-wise.\n",
      "numpy.ma.log2\n",
      "    Base-2 logarithm of `x`.\n",
      "numpy.ma.sinh\n",
      "    Hyperbolic sine, element-wise.\n",
      "numpy.ma.tanh\n",
      "    Compute hyperbolic tangent element-wise.\n",
      "numpy.greater_equal\n",
      "    Return the truth value of (x1 >= x2) element-wise.\n",
      "numpy.fft.ifftn\n",
      "    Compute the N-dimensional inverse discrete Fourier Transform.\n",
      "numpy.ma.equal\n",
      "    Return (x1 == x2) element-wise.\n",
      "numpy.ma.floor\n",
      "    Return the floor of the input, element-wise.\n",
      "numpy.ma.hypot\n",
      "    Given the \"legs\" of a right triangle, return its hypotenuse.\n",
      "numpy.busdaycalendar\n",
      "    A business day calendar object that efficiently stores information\n",
      "numpy.ma.tests.test_subclassing.SubArray\n",
      "    ndarray(shape, dtype=float, buffer=None, offset=0,\n",
      "numpy.ma.arccos\n",
      "    Trigonometric inverse cosine, element-wise.\n",
      "numpy.ma.arcsin\n",
      "    Inverse sine, element-wise.\n",
      "numpy.ma.arctan\n",
      "    Trigonometric inverse tangent, element-wise.\n",
      "numpy.ma.divide\n",
      "    Returns a true division of the inputs, element-wise.\n",
      "numpy.lib.recfunctions.unstructured_to_structured\n",
      "    Converts and n-D unstructured array into an (n-1)-D structured array.\n",
      "numpy.ma.arccosh\n",
      "    Inverse hyperbolic cosine, element-wise.\n",
      "numpy.ma.arcsinh\n",
      "    Inverse hyperbolic sine element-wise.\n",
      "numpy.ma.arctan2\n",
      "    Element-wise arc tangent of ``x1/x2`` choosing the quadrant correctly.\n",
      "numpy.ma.arctanh\n",
      "    Inverse hyperbolic tangent element-wise.\n",
      "numpy.ma.greater\n",
      "    Return the truth value of (x1 > x2) element-wise.\n",
      "numpy.ma.multiply\n",
      "    Multiply arguments element-wise.\n",
      "numpy.ma.negative\n",
      "    Numerical negative, element-wise.\n",
      "numpy.ma.subtract\n",
      "    Subtract arguments, element-wise.\n",
      "numpy.ma.conjugate\n",
      "    Return the complex conjugate, element-wise.\n",
      "numpy.ma.not_equal\n",
      "    Return (x1 != x2) element-wise.\n",
      "numpy.ma.remainder\n",
      "    Return element-wise remainder of division.\n",
      "numpy.ma.empty_like\n",
      "    empty_like(prototype, dtype=None, order='K', subok=True, shape=None)\n",
      "numpy.ma.less_equal\n",
      "    Return the truth value of (x1 =< x2) element-wise.\n",
      "numpy.ma.logical_or\n",
      "    Compute the truth value of x1 OR x2 element-wise.\n",
      "numpy.ma.logical_and\n",
      "    Compute the truth value of x1 AND x2 element-wise.\n",
      "numpy.ma.logical_not\n",
      "    Compute the truth value of NOT x element-wise.\n",
      "numpy.ma.logical_xor\n",
      "    Compute the truth value of x1 XOR x2, element-wise.\n",
      "numpy.ma.true_divide\n",
      "    Returns a true division of the inputs, element-wise.\n",
      "numpy.ma.floor_divide\n",
      "    Return the largest integer smaller or equal to the division of the inputs.\n",
      "numpy.ma.greater_equal\n",
      "    Return the truth value of (x1 >= x2) element-wise.\n",
      "numpy.lib.tests.test_stride_tricks.SimpleSubClass\n",
      "    ndarray(shape, dtype=float, buffer=None, offset=0,\n",
      "numpy.core.tests.test_function_base.PhysicalQuantity2\n",
      "    ndarray(shape, dtype=float, buffer=None, offset=0,\n",
      "numpy.ma.tests.test_subclassing.ComplicatedSubArray\n",
      "    ndarray(shape, dtype=float, buffer=None, offset=0,\n",
      "numpy.lib.tests.test_stride_tricks.VerySimpleSubClass\n",
      "    ndarray(shape, dtype=float, buffer=None, offset=0,\n",
      "numpy.testing._gen_alignment_data\n",
      "    generator producing data with different alignment and offsets\n",
      "numpy.random.RandomState.rand\n",
      "    Random values in a given shape."
     ]
    }
   ],
   "source": [
    "np.lookfor('create array')"
   ]
  },
  {
   "cell_type": "markdown",
   "metadata": {},
   "source": [
    "и IPython:"
   ]
  },
  {
   "cell_type": "code",
   "execution_count": 43,
   "metadata": {
    "ExecuteTime": {
     "end_time": "2021-03-10T16:06:17.441480Z",
     "start_time": "2021-03-10T16:06:17.435960Z"
    }
   },
   "outputs": [
    {
     "data": {
      "text/plain": [
       "np.concatenate\n",
       "np.conj\n",
       "np.conjugate\n",
       "np.convolve"
      ]
     },
     "metadata": {},
     "output_type": "display_data"
    }
   ],
   "source": [
    "np.con*?"
   ]
  },
  {
   "cell_type": "code",
   "execution_count": 44,
   "metadata": {
    "ExecuteTime": {
     "end_time": "2021-03-10T16:06:54.468640Z",
     "start_time": "2021-03-10T16:06:54.465182Z"
    }
   },
   "outputs": [
    {
     "data": {
      "text/plain": [
       "array([[1, 2],\n",
       "       [3, 4]])"
      ]
     },
     "execution_count": 44,
     "metadata": {},
     "output_type": "execute_result"
    }
   ],
   "source": [
    "a"
   ]
  },
  {
   "cell_type": "code",
   "execution_count": 45,
   "metadata": {
    "ExecuteTime": {
     "end_time": "2021-03-10T16:07:19.393123Z",
     "start_time": "2021-03-10T16:07:19.390859Z"
    }
   },
   "outputs": [],
   "source": [
    "a[0, 0] = 100"
   ]
  },
  {
   "cell_type": "code",
   "execution_count": 46,
   "metadata": {
    "ExecuteTime": {
     "end_time": "2021-03-10T16:07:21.136735Z",
     "start_time": "2021-03-10T16:07:21.132774Z"
    }
   },
   "outputs": [
    {
     "data": {
      "text/plain": [
       "array([[100,   2],\n",
       "       [  3,   4]])"
      ]
     },
     "execution_count": 46,
     "metadata": {},
     "output_type": "execute_result"
    }
   ],
   "source": [
    "a"
   ]
  },
  {
   "cell_type": "markdown",
   "metadata": {},
   "source": [
    "**Создание массивов**"
   ]
  },
  {
   "cell_type": "markdown",
   "metadata": {},
   "source": [
    "Создавать из списков мы уже умеем:"
   ]
  },
  {
   "cell_type": "code",
   "execution_count": 47,
   "metadata": {
    "ExecuteTime": {
     "end_time": "2021-03-10T16:07:59.943295Z",
     "start_time": "2021-03-10T16:07:59.938875Z"
    }
   },
   "outputs": [
    {
     "data": {
      "text/plain": [
       "array([1, 2, 3, 4], dtype=int16)"
      ]
     },
     "execution_count": 47,
     "metadata": {},
     "output_type": "execute_result"
    }
   ],
   "source": [
    "np.array([1, 2, 3, 4], dtype=np.int16)"
   ]
  },
  {
   "cell_type": "code",
   "execution_count": 48,
   "metadata": {
    "ExecuteTime": {
     "end_time": "2021-03-10T16:08:46.855292Z",
     "start_time": "2021-03-10T16:08:46.850436Z"
    }
   },
   "outputs": [
    {
     "data": {
      "text/plain": [
       "array([1, 2, 3, 4, 5, 6, 7, 8, 9])"
      ]
     },
     "execution_count": 48,
     "metadata": {},
     "output_type": "execute_result"
    }
   ],
   "source": [
    "np.arange(1, 10, 1)"
   ]
  },
  {
   "cell_type": "code",
   "execution_count": 49,
   "metadata": {
    "ExecuteTime": {
     "end_time": "2021-03-10T16:10:29.014691Z",
     "start_time": "2021-03-10T16:10:29.009775Z"
    }
   },
   "outputs": [
    {
     "data": {
      "text/plain": [
       "array([0.        , 0.04166667, 0.08333333, 0.125     , 0.16666667,\n",
       "       0.20833333, 0.25      , 0.29166667, 0.33333333, 0.375     ,\n",
       "       0.41666667, 0.45833333, 0.5       , 0.54166667, 0.58333333,\n",
       "       0.625     , 0.66666667, 0.70833333, 0.75      , 0.79166667,\n",
       "       0.83333333, 0.875     , 0.91666667, 0.95833333, 1.        ])"
      ]
     },
     "execution_count": 49,
     "metadata": {},
     "output_type": "execute_result"
    }
   ],
   "source": [
    "np.linspace(0, 1, 25)"
   ]
  },
  {
   "cell_type": "code",
   "execution_count": 50,
   "metadata": {
    "ExecuteTime": {
     "end_time": "2021-03-10T16:10:29.304444Z",
     "start_time": "2021-03-10T16:10:29.300141Z"
    }
   },
   "outputs": [
    {
     "data": {
      "text/plain": [
       "array([0.  , 0.04, 0.08, 0.12, 0.16, 0.2 , 0.24, 0.28, 0.32, 0.36, 0.4 ,\n",
       "       0.44, 0.48, 0.52, 0.56, 0.6 , 0.64, 0.68, 0.72, 0.76, 0.8 , 0.84,\n",
       "       0.88, 0.92, 0.96])"
      ]
     },
     "execution_count": 50,
     "metadata": {},
     "output_type": "execute_result"
    }
   ],
   "source": [
    "np.linspace(0, 1, 25, endpoint=False)"
   ]
  },
  {
   "cell_type": "code",
   "execution_count": 51,
   "metadata": {
    "ExecuteTime": {
     "end_time": "2021-03-10T16:10:29.562376Z",
     "start_time": "2021-03-10T16:10:29.557511Z"
    }
   },
   "outputs": [
    {
     "data": {
      "text/plain": [
       "array([0.  , 0.04, 0.08, 0.12, 0.16, 0.2 , 0.24, 0.28, 0.32, 0.36, 0.4 ,\n",
       "       0.44, 0.48, 0.52, 0.56, 0.6 , 0.64, 0.68, 0.72, 0.76, 0.8 , 0.84,\n",
       "       0.88, 0.92, 0.96, 1.  ])"
      ]
     },
     "execution_count": 51,
     "metadata": {},
     "output_type": "execute_result"
    }
   ],
   "source": [
    "np.linspace(0, 1, 26)"
   ]
  },
  {
   "cell_type": "code",
   "execution_count": 52,
   "metadata": {
    "ExecuteTime": {
     "end_time": "2021-03-10T16:10:57.195153Z",
     "start_time": "2021-03-10T16:10:57.188664Z"
    }
   },
   "outputs": [
    {
     "data": {
      "text/plain": [
       "array([[1., 1., 1.],\n",
       "       [1., 1., 1.],\n",
       "       [1., 1., 1.]])"
      ]
     },
     "execution_count": 52,
     "metadata": {},
     "output_type": "execute_result"
    }
   ],
   "source": [
    "np.ones((3, 3))"
   ]
  },
  {
   "cell_type": "code",
   "execution_count": 53,
   "metadata": {
    "ExecuteTime": {
     "end_time": "2021-03-10T16:10:53.159798Z",
     "start_time": "2021-03-10T16:10:53.155310Z"
    }
   },
   "outputs": [
    {
     "data": {
      "text/plain": [
       "array([1., 1., 1.])"
      ]
     },
     "execution_count": 53,
     "metadata": {},
     "output_type": "execute_result"
    }
   ],
   "source": [
    "np.ones(3)"
   ]
  },
  {
   "cell_type": "code",
   "execution_count": 54,
   "metadata": {
    "ExecuteTime": {
     "end_time": "2021-03-10T16:11:01.778692Z",
     "start_time": "2021-03-10T16:11:01.774528Z"
    }
   },
   "outputs": [
    {
     "data": {
      "text/plain": [
       "array([[0., 0.],\n",
       "       [0., 0.],\n",
       "       [0., 0.]])"
      ]
     },
     "execution_count": 54,
     "metadata": {},
     "output_type": "execute_result"
    }
   ],
   "source": [
    "np.zeros((3, 2))"
   ]
  },
  {
   "cell_type": "code",
   "execution_count": 55,
   "metadata": {
    "ExecuteTime": {
     "end_time": "2021-03-10T16:11:05.745561Z",
     "start_time": "2021-03-10T16:11:05.741210Z"
    }
   },
   "outputs": [
    {
     "data": {
      "text/plain": [
       "array([[1., 0., 0.],\n",
       "       [0., 1., 0.],\n",
       "       [0., 0., 1.]])"
      ]
     },
     "execution_count": 55,
     "metadata": {},
     "output_type": "execute_result"
    }
   ],
   "source": [
    "np.eye(3)"
   ]
  },
  {
   "cell_type": "code",
   "execution_count": 56,
   "metadata": {
    "ExecuteTime": {
     "end_time": "2021-03-10T16:11:10.113567Z",
     "start_time": "2021-03-10T16:11:10.109010Z"
    }
   },
   "outputs": [
    {
     "data": {
      "text/plain": [
       "array([[1, 0, 0, 0],\n",
       "       [0, 2, 0, 0],\n",
       "       [0, 0, 3, 0],\n",
       "       [0, 0, 0, 4]])"
      ]
     },
     "execution_count": 56,
     "metadata": {},
     "output_type": "execute_result"
    }
   ],
   "source": [
    "np.diag(np.array([1, 2, 3, 4]))"
   ]
  },
  {
   "cell_type": "markdown",
   "metadata": {},
   "source": [
    "** Случайные массивы **"
   ]
  },
  {
   "cell_type": "markdown",
   "metadata": {},
   "source": [
    "на интервале [0,1]:"
   ]
  },
  {
   "cell_type": "code",
   "execution_count": 57,
   "metadata": {
    "ExecuteTime": {
     "end_time": "2021-03-10T16:11:48.999472Z",
     "start_time": "2021-03-10T16:11:48.995136Z"
    }
   },
   "outputs": [
    {
     "data": {
      "text/plain": [
       "array([[0.83476388, 0.46040098],\n",
       "       [0.34857537, 0.48340468],\n",
       "       [0.82798856, 0.25304251]])"
      ]
     },
     "execution_count": 57,
     "metadata": {},
     "output_type": "execute_result"
    }
   ],
   "source": [
    "np.random.rand(3, 2)"
   ]
  },
  {
   "cell_type": "markdown",
   "metadata": {},
   "source": [
    "Нормально распределенные:"
   ]
  },
  {
   "cell_type": "code",
   "execution_count": 58,
   "metadata": {
    "ExecuteTime": {
     "end_time": "2021-03-10T16:11:54.658065Z",
     "start_time": "2021-03-10T16:11:54.654019Z"
    }
   },
   "outputs": [
    {
     "data": {
      "text/plain": [
       "array([[ 0.79168606,  1.6638948 ],\n",
       "       [-0.41811545, -0.33609339],\n",
       "       [-0.13089176,  0.76759044]])"
      ]
     },
     "execution_count": 58,
     "metadata": {},
     "output_type": "execute_result"
    }
   ],
   "source": [
    "np.random.randn(3, 2)"
   ]
  },
  {
   "cell_type": "markdown",
   "metadata": {},
   "source": [
    "-- N: иногда полезно получить случайное целое число:"
   ]
  },
  {
   "cell_type": "code",
   "execution_count": 59,
   "metadata": {
    "ExecuteTime": {
     "end_time": "2021-03-10T16:12:33.582632Z",
     "start_time": "2021-03-10T16:12:33.577565Z"
    }
   },
   "outputs": [
    {
     "data": {
      "text/plain": [
       "8"
      ]
     },
     "execution_count": 59,
     "metadata": {},
     "output_type": "execute_result"
    }
   ],
   "source": [
    "np.random.randint(2, 10)"
   ]
  },
  {
   "cell_type": "markdown",
   "metadata": {
    "deletable": false,
    "editable": false,
    "run_control": {
     "frozen": true
    }
   },
   "source": [
    "# 2.2. Numpy ndarray - индексы"
   ]
  },
  {
   "cell_type": "markdown",
   "metadata": {},
   "source": [
    "Отдельно рассмотрим 1-мерный и многомерные массивы."
   ]
  },
  {
   "cell_type": "code",
   "execution_count": 60,
   "metadata": {
    "ExecuteTime": {
     "end_time": "2021-03-10T16:12:55.102769Z",
     "start_time": "2021-03-10T16:12:55.099395Z"
    }
   },
   "outputs": [],
   "source": [
    "t = np.random.rand(3)"
   ]
  },
  {
   "cell_type": "code",
   "execution_count": 61,
   "metadata": {
    "ExecuteTime": {
     "end_time": "2021-03-10T16:12:58.544842Z",
     "start_time": "2021-03-10T16:12:58.539920Z"
    }
   },
   "outputs": [
    {
     "data": {
      "text/plain": [
       "array([0.14803893, 0.21182114, 0.00998224])"
      ]
     },
     "execution_count": 61,
     "metadata": {},
     "output_type": "execute_result"
    }
   ],
   "source": [
    "t"
   ]
  },
  {
   "cell_type": "markdown",
   "metadata": {},
   "source": [
    "Для одномерного массива получим сразу элемент, который находится по данному индексу. Для n-мерного массива подобная индексация вернет массив размера n-1."
   ]
  },
  {
   "cell_type": "code",
   "execution_count": 62,
   "metadata": {
    "ExecuteTime": {
     "end_time": "2021-03-10T16:14:33.067088Z",
     "start_time": "2021-03-10T16:14:33.061612Z"
    },
    "scrolled": true
   },
   "outputs": [
    {
     "data": {
      "text/plain": [
       "array([[[0.34225675, 0.50754772, 0.14360024, 0.65930865, 0.81379481,\n",
       "         0.06724755, 0.54701598, 0.08536135, 0.71825368, 0.65028936],\n",
       "        [0.67591155, 0.29075188, 0.23081349, 0.6757261 , 0.82710064,\n",
       "         0.62365138, 0.26011891, 0.293965  , 0.74522878, 0.44790771],\n",
       "        [0.61566417, 0.50010881, 0.08215644, 0.51485306, 0.85470245,\n",
       "         0.51231456, 0.49445796, 0.52263995, 0.84503946, 0.66407027],\n",
       "        [0.03998907, 0.96840943, 0.45518539, 0.52424663, 0.96401022,\n",
       "         0.80921925, 0.00490464, 0.3880234 , 0.25081308, 0.55539271],\n",
       "        [0.76957291, 0.15863932, 0.77963357, 0.78711138, 0.25234065,\n",
       "         0.42092166, 0.3677113 , 0.97062889, 0.36304473, 0.23663233]],\n",
       "\n",
       "       [[0.06576307, 0.29072483, 0.88307193, 0.29978186, 0.14729405,\n",
       "         0.29514488, 0.93365967, 0.56918439, 0.56512905, 0.84242321],\n",
       "        [0.62884588, 0.34970589, 0.84424925, 0.72441148, 0.10101231,\n",
       "         0.48096181, 0.20361124, 0.19686074, 0.85731826, 0.67357293],\n",
       "        [0.41631346, 0.87532856, 0.06772698, 0.33479767, 0.57137511,\n",
       "         0.60224088, 0.39464382, 0.6382749 , 0.01437136, 0.35503999],\n",
       "        [0.41638003, 0.96658959, 0.06464366, 0.08765821, 0.8451607 ,\n",
       "         0.80782158, 0.85563299, 0.88591644, 0.82973639, 0.93745423],\n",
       "        [0.455365  , 0.8436072 , 0.44025202, 0.09023671, 0.09059528,\n",
       "         0.34900364, 0.27636507, 0.02897881, 0.35292494, 0.23795288]],\n",
       "\n",
       "       [[0.94747725, 0.36715518, 0.15447199, 0.0665934 , 0.54255769,\n",
       "         0.85421382, 0.18074718, 0.13496272, 0.79166536, 0.34866691],\n",
       "        [0.89744275, 0.80453322, 0.93835438, 0.2458201 , 0.63497981,\n",
       "         0.57171201, 0.4247863 , 0.96031719, 0.69750765, 0.10297246],\n",
       "        [0.66690242, 0.59003499, 0.91122077, 0.75619552, 0.04790151,\n",
       "         0.81520656, 0.13773212, 0.72313856, 0.13252787, 0.09187138],\n",
       "        [0.61927718, 0.92894883, 0.08549556, 0.9431287 , 0.67264733,\n",
       "         0.00607028, 0.3527522 , 0.9729583 , 0.12973063, 0.06207901],\n",
       "        [0.88684488, 0.57371578, 0.86828369, 0.27966992, 0.99607171,\n",
       "         0.68094868, 0.16287922, 0.94842139, 0.1695957 , 0.30492486]]])"
      ]
     },
     "execution_count": 62,
     "metadata": {},
     "output_type": "execute_result"
    }
   ],
   "source": [
    "t = np.random.rand(3, 5, 10)\n",
    "t"
   ]
  },
  {
   "cell_type": "code",
   "execution_count": 63,
   "metadata": {
    "ExecuteTime": {
     "end_time": "2021-03-10T16:15:42.906531Z",
     "start_time": "2021-03-10T16:15:42.902274Z"
    }
   },
   "outputs": [
    {
     "data": {
      "text/plain": [
       "(3, 5, 10)"
      ]
     },
     "execution_count": 63,
     "metadata": {},
     "output_type": "execute_result"
    }
   ],
   "source": [
    "t.shape"
   ]
  },
  {
   "cell_type": "code",
   "execution_count": 64,
   "metadata": {
    "ExecuteTime": {
     "end_time": "2021-03-10T16:16:09.511398Z",
     "start_time": "2021-03-10T16:16:09.506848Z"
    }
   },
   "outputs": [
    {
     "data": {
      "text/plain": [
       "array([0.67591155, 0.29075188, 0.23081349, 0.6757261 , 0.82710064,\n",
       "       0.62365138, 0.26011891, 0.293965  , 0.74522878, 0.44790771])"
      ]
     },
     "execution_count": 64,
     "metadata": {},
     "output_type": "execute_result"
    }
   ],
   "source": [
    "t[0, 1, :]"
   ]
  },
  {
   "cell_type": "code",
   "execution_count": 65,
   "metadata": {
    "ExecuteTime": {
     "end_time": "2021-03-10T16:16:36.146358Z",
     "start_time": "2021-03-10T16:16:36.140979Z"
    }
   },
   "outputs": [
    {
     "data": {
      "text/plain": [
       "array([[0.06576307, 0.29072483, 0.88307193, 0.29978186, 0.14729405,\n",
       "        0.29514488, 0.93365967, 0.56918439, 0.56512905, 0.84242321],\n",
       "       [0.62884588, 0.34970589, 0.84424925, 0.72441148, 0.10101231,\n",
       "        0.48096181, 0.20361124, 0.19686074, 0.85731826, 0.67357293],\n",
       "       [0.41631346, 0.87532856, 0.06772698, 0.33479767, 0.57137511,\n",
       "        0.60224088, 0.39464382, 0.6382749 , 0.01437136, 0.35503999],\n",
       "       [0.41638003, 0.96658959, 0.06464366, 0.08765821, 0.8451607 ,\n",
       "        0.80782158, 0.85563299, 0.88591644, 0.82973639, 0.93745423],\n",
       "       [0.455365  , 0.8436072 , 0.44025202, 0.09023671, 0.09059528,\n",
       "        0.34900364, 0.27636507, 0.02897881, 0.35292494, 0.23795288]])"
      ]
     },
     "execution_count": 65,
     "metadata": {},
     "output_type": "execute_result"
    }
   ],
   "source": [
    "t[1]"
   ]
  },
  {
   "cell_type": "code",
   "execution_count": 66,
   "metadata": {
    "ExecuteTime": {
     "end_time": "2021-03-10T16:16:42.717563Z",
     "start_time": "2021-03-10T16:16:42.711667Z"
    }
   },
   "outputs": [
    {
     "data": {
      "text/plain": [
       "(5,)"
      ]
     },
     "execution_count": 66,
     "metadata": {},
     "output_type": "execute_result"
    }
   ],
   "source": [
    "np.random.rand(3, 5)[1].shape"
   ]
  },
  {
   "cell_type": "markdown",
   "metadata": {},
   "source": [
    "Можно использовать ':' вместо индекса:"
   ]
  },
  {
   "cell_type": "code",
   "execution_count": 67,
   "metadata": {
    "ExecuteTime": {
     "end_time": "2021-03-10T16:21:13.925634Z",
     "start_time": "2021-03-10T16:21:13.922934Z"
    }
   },
   "outputs": [],
   "source": [
    "A = np.random.rand(3, 5)"
   ]
  },
  {
   "cell_type": "code",
   "execution_count": 68,
   "metadata": {
    "ExecuteTime": {
     "end_time": "2021-03-10T16:21:14.134305Z",
     "start_time": "2021-03-10T16:21:14.127411Z"
    }
   },
   "outputs": [
    {
     "data": {
      "text/plain": [
       "array([[4.51161663e-01, 1.13258245e-01, 5.05977065e-01, 1.08870336e-01,\n",
       "        6.48448748e-01],\n",
       "       [8.64974938e-01, 5.79060576e-01, 7.62923883e-01, 4.10940555e-01,\n",
       "        6.78758254e-04],\n",
       "       [2.98659955e-01, 2.38616431e-01, 4.26755614e-01, 6.51787917e-01,\n",
       "        4.75712916e-01]])"
      ]
     },
     "execution_count": 68,
     "metadata": {},
     "output_type": "execute_result"
    }
   ],
   "source": [
    "A"
   ]
  },
  {
   "cell_type": "code",
   "execution_count": 69,
   "metadata": {
    "ExecuteTime": {
     "end_time": "2021-03-10T16:21:14.418145Z",
     "start_time": "2021-03-10T16:21:14.412664Z"
    }
   },
   "outputs": [
    {
     "data": {
      "text/plain": [
       "array([0.45116166, 0.11325824, 0.50597706, 0.10887034, 0.64844875])"
      ]
     },
     "execution_count": 69,
     "metadata": {},
     "output_type": "execute_result"
    }
   ],
   "source": [
    "A[0, :]"
   ]
  },
  {
   "cell_type": "code",
   "execution_count": 70,
   "metadata": {
    "ExecuteTime": {
     "end_time": "2021-03-10T16:21:14.690287Z",
     "start_time": "2021-03-10T16:21:14.685466Z"
    }
   },
   "outputs": [
    {
     "data": {
      "text/plain": [
       "array([0.45116166, 0.86497494, 0.29865995])"
      ]
     },
     "execution_count": 70,
     "metadata": {},
     "output_type": "execute_result"
    }
   ],
   "source": [
    "A[:, 0]"
   ]
  },
  {
   "cell_type": "markdown",
   "metadata": {},
   "source": [
    "Поддерживается стандартный протокол - python slicing syntax ([lower:upper:step]) :"
   ]
  },
  {
   "cell_type": "code",
   "execution_count": 71,
   "metadata": {
    "ExecuteTime": {
     "end_time": "2021-03-10T16:21:16.554568Z",
     "start_time": "2021-03-10T16:21:16.549812Z"
    }
   },
   "outputs": [
    {
     "data": {
      "text/plain": [
       "array([0.45116166, 0.11325824, 0.50597706, 0.10887034, 0.64844875])"
      ]
     },
     "execution_count": 71,
     "metadata": {},
     "output_type": "execute_result"
    }
   ],
   "source": [
    "A[0, :]"
   ]
  },
  {
   "cell_type": "code",
   "execution_count": 72,
   "metadata": {
    "ExecuteTime": {
     "end_time": "2021-03-10T16:21:16.840303Z",
     "start_time": "2021-03-10T16:21:16.830877Z"
    }
   },
   "outputs": [
    {
     "data": {
      "text/plain": [
       "array([0.45116166, 0.50597706])"
      ]
     },
     "execution_count": 72,
     "metadata": {},
     "output_type": "execute_result"
    }
   ],
   "source": [
    "A[0, :][0:4:2]"
   ]
  },
  {
   "cell_type": "code",
   "execution_count": 73,
   "metadata": {
    "ExecuteTime": {
     "end_time": "2021-03-10T16:21:17.102327Z",
     "start_time": "2021-03-10T16:21:17.098260Z"
    }
   },
   "outputs": [],
   "source": [
    "a = A[0, :]"
   ]
  },
  {
   "cell_type": "code",
   "execution_count": 74,
   "metadata": {
    "ExecuteTime": {
     "end_time": "2021-03-10T16:21:17.312440Z",
     "start_time": "2021-03-10T16:21:17.307706Z"
    }
   },
   "outputs": [
    {
     "data": {
      "text/plain": [
       "array([0.45116166, 0.11325824, 0.50597706, 0.10887034, 0.64844875])"
      ]
     },
     "execution_count": 74,
     "metadata": {},
     "output_type": "execute_result"
    }
   ],
   "source": [
    "a"
   ]
  },
  {
   "cell_type": "markdown",
   "metadata": {},
   "source": [
    "Операция slicing создает т.н. view - то есть данные не копируются, поэтому исходный объект по адресу - mutable."
   ]
  },
  {
   "cell_type": "code",
   "execution_count": 75,
   "metadata": {
    "ExecuteTime": {
     "end_time": "2021-03-10T16:22:25.541439Z",
     "start_time": "2021-03-10T16:22:25.536771Z"
    }
   },
   "outputs": [
    {
     "data": {
      "text/plain": [
       "array([0.45116166, 0.50597706])"
      ]
     },
     "execution_count": 75,
     "metadata": {},
     "output_type": "execute_result"
    }
   ],
   "source": [
    "A[0,:][0:4:2]"
   ]
  },
  {
   "cell_type": "code",
   "execution_count": 76,
   "metadata": {
    "ExecuteTime": {
     "end_time": "2021-03-10T16:22:37.170557Z",
     "start_time": "2021-03-10T16:22:37.167564Z"
    }
   },
   "outputs": [],
   "source": [
    "A[0,:][0:4:2] = [1.0, 2.5]"
   ]
  },
  {
   "cell_type": "code",
   "execution_count": 77,
   "metadata": {
    "ExecuteTime": {
     "end_time": "2021-03-10T16:22:37.484396Z",
     "start_time": "2021-03-10T16:22:37.479903Z"
    }
   },
   "outputs": [
    {
     "data": {
      "text/plain": [
       "array([[1.00000000e+00, 1.13258245e-01, 2.50000000e+00, 1.08870336e-01,\n",
       "        6.48448748e-01],\n",
       "       [8.64974938e-01, 5.79060576e-01, 7.62923883e-01, 4.10940555e-01,\n",
       "        6.78758254e-04],\n",
       "       [2.98659955e-01, 2.38616431e-01, 4.26755614e-01, 6.51787917e-01,\n",
       "        4.75712916e-01]])"
      ]
     },
     "execution_count": 77,
     "metadata": {},
     "output_type": "execute_result"
    }
   ],
   "source": [
    "A"
   ]
  },
  {
   "cell_type": "markdown",
   "metadata": {},
   "source": [
    "Параметры для slicing могут пропускаться:"
   ]
  },
  {
   "cell_type": "code",
   "execution_count": 78,
   "metadata": {
    "ExecuteTime": {
     "end_time": "2021-03-10T16:23:09.440168Z",
     "start_time": "2021-03-10T16:23:09.434641Z"
    }
   },
   "outputs": [
    {
     "data": {
      "text/plain": [
       "array([1. , 2.5])"
      ]
     },
     "execution_count": 78,
     "metadata": {},
     "output_type": "execute_result"
    }
   ],
   "source": [
    "A[0,:][0:4:2]"
   ]
  },
  {
   "cell_type": "code",
   "execution_count": 79,
   "metadata": {
    "ExecuteTime": {
     "end_time": "2021-03-10T16:23:22.082491Z",
     "start_time": "2021-03-10T16:23:22.074297Z"
    }
   },
   "outputs": [
    {
     "data": {
      "text/plain": [
       "array([1.        , 0.11325824, 2.5       , 0.10887034])"
      ]
     },
     "execution_count": 79,
     "metadata": {},
     "output_type": "execute_result"
    }
   ],
   "source": [
    "A[0,:][0:4]"
   ]
  },
  {
   "cell_type": "code",
   "execution_count": 80,
   "metadata": {
    "ExecuteTime": {
     "end_time": "2021-03-10T16:23:31.330634Z",
     "start_time": "2021-03-10T16:23:31.325483Z"
    }
   },
   "outputs": [
    {
     "data": {
      "text/plain": [
       "array([1.        , 0.11325824, 2.5       ])"
      ]
     },
     "execution_count": 80,
     "metadata": {},
     "output_type": "execute_result"
    }
   ],
   "source": [
    "A[0,:][:3]"
   ]
  },
  {
   "cell_type": "code",
   "execution_count": 81,
   "metadata": {
    "ExecuteTime": {
     "end_time": "2021-03-10T16:23:42.227237Z",
     "start_time": "2021-03-10T16:23:42.222385Z"
    }
   },
   "outputs": [
    {
     "data": {
      "text/plain": [
       "array([0.10887034, 0.64844875])"
      ]
     },
     "execution_count": 81,
     "metadata": {},
     "output_type": "execute_result"
    }
   ],
   "source": [
    "A[0,:][3:]"
   ]
  },
  {
   "cell_type": "code",
   "execution_count": 82,
   "metadata": {
    "ExecuteTime": {
     "end_time": "2021-03-10T16:24:17.134389Z",
     "start_time": "2021-03-10T16:24:17.128806Z"
    }
   },
   "outputs": [
    {
     "data": {
      "text/plain": [
       "array([1.        , 0.11325824, 2.5       , 0.10887034, 0.64844875])"
      ]
     },
     "execution_count": 82,
     "metadata": {},
     "output_type": "execute_result"
    }
   ],
   "source": [
    "A[0,:]"
   ]
  },
  {
   "cell_type": "code",
   "execution_count": 83,
   "metadata": {
    "ExecuteTime": {
     "end_time": "2021-03-10T16:24:12.837926Z",
     "start_time": "2021-03-10T16:24:12.832947Z"
    }
   },
   "outputs": [
    {
     "data": {
      "text/plain": [
       "array([0.64844875, 0.10887034, 2.5       , 0.11325824, 1.        ])"
      ]
     },
     "execution_count": 83,
     "metadata": {},
     "output_type": "execute_result"
    }
   ],
   "source": [
    "A[0,:][::-1]"
   ]
  },
  {
   "cell_type": "code",
   "execution_count": 84,
   "metadata": {
    "ExecuteTime": {
     "end_time": "2021-03-10T16:25:39.461855Z",
     "start_time": "2021-03-10T16:25:39.457988Z"
    }
   },
   "outputs": [
    {
     "data": {
      "text/plain": [
       "array([1.        , 0.11325824, 2.5       , 0.10887034, 0.64844875])"
      ]
     },
     "execution_count": 84,
     "metadata": {},
     "output_type": "execute_result"
    }
   ],
   "source": [
    "A[0,:]"
   ]
  },
  {
   "cell_type": "code",
   "execution_count": 85,
   "metadata": {
    "ExecuteTime": {
     "end_time": "2021-03-10T16:25:33.572276Z",
     "start_time": "2021-03-10T16:25:33.567641Z"
    }
   },
   "outputs": [
    {
     "data": {
      "text/plain": [
       "array([1.        , 0.11325824])"
      ]
     },
     "execution_count": 85,
     "metadata": {},
     "output_type": "execute_result"
    }
   ],
   "source": [
    "A[0,:][:-3]"
   ]
  },
  {
   "cell_type": "code",
   "execution_count": 86,
   "metadata": {
    "ExecuteTime": {
     "end_time": "2021-03-10T16:26:43.487411Z",
     "start_time": "2021-03-10T16:26:43.482127Z"
    }
   },
   "outputs": [
    {
     "data": {
      "text/plain": [
       "array([2.5       , 0.10887034, 0.64844875])"
      ]
     },
     "execution_count": 86,
     "metadata": {},
     "output_type": "execute_result"
    }
   ],
   "source": [
    "A[0,:][-3:]"
   ]
  },
  {
   "cell_type": "markdown",
   "metadata": {},
   "source": [
    "** Fancy Indexing **"
   ]
  },
  {
   "cell_type": "markdown",
   "metadata": {},
   "source": [
    "Этим термином обозначается индексирование с помощью массивов (или иных итерируемых конструкций)."
   ]
  },
  {
   "cell_type": "code",
   "execution_count": 87,
   "metadata": {
    "ExecuteTime": {
     "end_time": "2021-03-10T16:27:23.960119Z",
     "start_time": "2021-03-10T16:27:23.956386Z"
    }
   },
   "outputs": [
    {
     "data": {
      "text/plain": [
       "array([[1.00000000e+00, 1.13258245e-01, 2.50000000e+00, 1.08870336e-01,\n",
       "        6.48448748e-01],\n",
       "       [8.64974938e-01, 5.79060576e-01, 7.62923883e-01, 4.10940555e-01,\n",
       "        6.78758254e-04],\n",
       "       [2.98659955e-01, 2.38616431e-01, 4.26755614e-01, 6.51787917e-01,\n",
       "        4.75712916e-01]])"
      ]
     },
     "execution_count": 87,
     "metadata": {},
     "output_type": "execute_result"
    }
   ],
   "source": [
    "A"
   ]
  },
  {
   "cell_type": "code",
   "execution_count": 88,
   "metadata": {
    "ExecuteTime": {
     "end_time": "2021-03-10T16:28:08.161745Z",
     "start_time": "2021-03-10T16:28:08.156803Z"
    }
   },
   "outputs": [
    {
     "data": {
      "text/plain": [
       "array([[8.64974938e-01, 5.79060576e-01, 7.62923883e-01, 4.10940555e-01,\n",
       "        6.78758254e-04],\n",
       "       [2.98659955e-01, 2.38616431e-01, 4.26755614e-01, 6.51787917e-01,\n",
       "        4.75712916e-01]])"
      ]
     },
     "execution_count": 88,
     "metadata": {},
     "output_type": "execute_result"
    }
   ],
   "source": [
    "row_indices = [1, 2]\n",
    "A[row_indices]"
   ]
  },
  {
   "cell_type": "code",
   "execution_count": 89,
   "metadata": {
    "ExecuteTime": {
     "end_time": "2021-03-10T16:28:15.773768Z",
     "start_time": "2021-03-10T16:28:15.762971Z"
    }
   },
   "outputs": [
    {
     "data": {
      "text/plain": [
       "array([0.57906058, 0.47571292])"
      ]
     },
     "execution_count": 89,
     "metadata": {},
     "output_type": "execute_result"
    }
   ],
   "source": [
    "col_indices = [1, -1]\n",
    "A[row_indices, col_indices]"
   ]
  },
  {
   "cell_type": "markdown",
   "metadata": {},
   "source": [
    "Возможно Булево индексирование (**Boolean indexing**):"
   ]
  },
  {
   "cell_type": "code",
   "execution_count": 90,
   "metadata": {
    "ExecuteTime": {
     "end_time": "2021-03-10T16:30:43.472679Z",
     "start_time": "2021-03-10T16:30:43.461247Z"
    }
   },
   "outputs": [
    {
     "data": {
      "text/plain": [
       "array([0, 2])"
      ]
     },
     "execution_count": 90,
     "metadata": {},
     "output_type": "execute_result"
    }
   ],
   "source": [
    "B = np.array([n for n in range(5)])\n",
    "row_mask = np.array([True, False, True, False, False])\n",
    "B[row_mask]"
   ]
  },
  {
   "cell_type": "code",
   "execution_count": 91,
   "metadata": {
    "ExecuteTime": {
     "end_time": "2021-03-10T16:31:18.594751Z",
     "start_time": "2021-03-10T16:31:18.590715Z"
    }
   },
   "outputs": [
    {
     "data": {
      "text/plain": [
       "array([3, 4])"
      ]
     },
     "execution_count": 91,
     "metadata": {},
     "output_type": "execute_result"
    }
   ],
   "source": [
    "B[B > 2]"
   ]
  },
  {
   "cell_type": "code",
   "execution_count": 92,
   "metadata": {
    "ExecuteTime": {
     "end_time": "2021-03-10T16:33:06.233981Z",
     "start_time": "2021-03-10T16:33:06.229542Z"
    }
   },
   "outputs": [
    {
     "data": {
      "text/plain": [
       "array([0, 2])"
      ]
     },
     "execution_count": 92,
     "metadata": {},
     "output_type": "execute_result"
    }
   ],
   "source": [
    "row_mask = np.array([1, 0, 1, 0, 0], dtype=bool)\n",
    "B[row_mask]"
   ]
  },
  {
   "cell_type": "markdown",
   "metadata": {
    "ExecuteTime": {
     "end_time": "2021-03-10T16:33:08.384527Z",
     "start_time": "2021-03-10T16:33:08.381215Z"
    }
   },
   "source": [
    "Это очень удобно, как вы наверняка догадались, если мы хотим отобрать данные, отвечающие определенным условиям:"
   ]
  },
  {
   "cell_type": "code",
   "execution_count": 93,
   "metadata": {
    "ExecuteTime": {
     "end_time": "2021-03-10T16:33:19.048861Z",
     "start_time": "2021-03-10T16:33:19.044283Z"
    }
   },
   "outputs": [
    {
     "data": {
      "text/plain": [
       "array([0. , 0.5, 1. , 1.5, 2. , 2.5, 3. , 3.5, 4. , 4.5, 5. , 5.5, 6. ,\n",
       "       6.5, 7. , 7.5, 8. , 8.5, 9. , 9.5])"
      ]
     },
     "execution_count": 93,
     "metadata": {},
     "output_type": "execute_result"
    }
   ],
   "source": [
    "x = np.arange(0, 10, 0.5)\n",
    "x"
   ]
  },
  {
   "cell_type": "code",
   "execution_count": 94,
   "metadata": {
    "ExecuteTime": {
     "end_time": "2021-03-10T16:34:17.536126Z",
     "start_time": "2021-03-10T16:34:17.532319Z"
    }
   },
   "outputs": [
    {
     "data": {
      "text/plain": [
       "array([False, False, False, False, False, False, False, False, False,\n",
       "       False, False,  True,  True,  True,  True, False, False, False,\n",
       "       False, False])"
      ]
     },
     "execution_count": 94,
     "metadata": {},
     "output_type": "execute_result"
    }
   ],
   "source": [
    "mask = (5 < x) * (x < 7.5)\n",
    "mask"
   ]
  },
  {
   "cell_type": "code",
   "execution_count": 95,
   "metadata": {
    "ExecuteTime": {
     "end_time": "2021-03-10T16:34:19.393585Z",
     "start_time": "2021-03-10T16:34:19.389560Z"
    }
   },
   "outputs": [
    {
     "data": {
      "text/plain": [
       "array([5.5, 6. , 6.5, 7. ])"
      ]
     },
     "execution_count": 95,
     "metadata": {},
     "output_type": "execute_result"
    }
   ],
   "source": [
    "x[mask]"
   ]
  },
  {
   "cell_type": "code",
   "execution_count": 96,
   "metadata": {
    "ExecuteTime": {
     "end_time": "2021-03-10T16:35:44.203988Z",
     "start_time": "2021-03-10T16:35:44.201274Z"
    }
   },
   "outputs": [],
   "source": [
    "a = np.array([[1, 2], [3, 4]])"
   ]
  },
  {
   "cell_type": "code",
   "execution_count": 97,
   "metadata": {
    "ExecuteTime": {
     "end_time": "2021-03-10T16:40:04.043260Z",
     "start_time": "2021-03-10T16:40:04.039134Z"
    }
   },
   "outputs": [
    {
     "data": {
      "text/plain": [
       "array([[0, 2],\n",
       "       [3, 4]])"
      ]
     },
     "execution_count": 97,
     "metadata": {},
     "output_type": "execute_result"
    }
   ],
   "source": [
    "a * (a > 1)"
   ]
  },
  {
   "cell_type": "code",
   "execution_count": 98,
   "metadata": {
    "ExecuteTime": {
     "end_time": "2021-03-10T16:40:13.534672Z",
     "start_time": "2021-03-10T16:40:13.530752Z"
    }
   },
   "outputs": [
    {
     "data": {
      "text/plain": [
       "array([1, 2, 3, 4])"
      ]
     },
     "execution_count": 98,
     "metadata": {},
     "output_type": "execute_result"
    }
   ],
   "source": [
    "a[a > 0]"
   ]
  },
  {
   "cell_type": "markdown",
   "metadata": {},
   "source": [
    "Получить список индексов элементов, отвечающих заданной маске, можно с помощью **which**:"
   ]
  },
  {
   "cell_type": "code",
   "execution_count": 99,
   "metadata": {
    "ExecuteTime": {
     "end_time": "2021-03-10T16:40:16.749606Z",
     "start_time": "2021-03-10T16:40:16.745356Z"
    }
   },
   "outputs": [
    {
     "data": {
      "text/plain": [
       "\u001b[1;31mDocstring:\u001b[0m\n",
       "where(condition, [x, y])\n",
       "\n",
       "Return elements chosen from `x` or `y` depending on `condition`.\n",
       "\n",
       ".. note::\n",
       "    When only `condition` is provided, this function is a shorthand for\n",
       "    ``np.asarray(condition).nonzero()``. Using `nonzero` directly should be\n",
       "    preferred, as it behaves correctly for subclasses. The rest of this\n",
       "    documentation covers only the case where all three arguments are\n",
       "    provided.\n",
       "\n",
       "Parameters\n",
       "----------\n",
       "condition : array_like, bool\n",
       "    Where True, yield `x`, otherwise yield `y`.\n",
       "x, y : array_like\n",
       "    Values from which to choose. `x`, `y` and `condition` need to be\n",
       "    broadcastable to some shape.\n",
       "\n",
       "Returns\n",
       "-------\n",
       "out : ndarray\n",
       "    An array with elements from `x` where `condition` is True, and elements\n",
       "    from `y` elsewhere.\n",
       "\n",
       "See Also\n",
       "--------\n",
       "choose\n",
       "nonzero : The function that is called when x and y are omitted\n",
       "\n",
       "Notes\n",
       "-----\n",
       "If all the arrays are 1-D, `where` is equivalent to::\n",
       "\n",
       "    [xv if c else yv\n",
       "     for c, xv, yv in zip(condition, x, y)]\n",
       "\n",
       "Examples\n",
       "--------\n",
       ">>> a = np.arange(10)\n",
       ">>> a\n",
       "array([0, 1, 2, 3, 4, 5, 6, 7, 8, 9])\n",
       ">>> np.where(a < 5, a, 10*a)\n",
       "array([ 0,  1,  2,  3,  4, 50, 60, 70, 80, 90])\n",
       "\n",
       "This can be used on multidimensional arrays too:\n",
       "\n",
       ">>> np.where([[True, False], [True, True]],\n",
       "...          [[1, 2], [3, 4]],\n",
       "...          [[9, 8], [7, 6]])\n",
       "array([[1, 8],\n",
       "       [3, 4]])\n",
       "\n",
       "The shapes of x, y, and the condition are broadcast together:\n",
       "\n",
       ">>> x, y = np.ogrid[:3, :4]\n",
       ">>> np.where(x < y, x, 10 + y)  # both x and 10+y are broadcast\n",
       "array([[10,  0,  0,  0],\n",
       "       [10, 11,  1,  1],\n",
       "       [10, 11, 12,  2]])\n",
       "\n",
       ">>> a = np.array([[0, 1, 2],\n",
       "...               [0, 2, 4],\n",
       "...               [0, 3, 6]])\n",
       ">>> np.where(a < 4, a, -1)  # -1 is broadcast\n",
       "array([[ 0,  1,  2],\n",
       "       [ 0,  2, -1],\n",
       "       [ 0,  3, -1]])\n",
       "\u001b[1;31mType:\u001b[0m      function\n"
      ]
     },
     "metadata": {},
     "output_type": "display_data"
    }
   ],
   "source": [
    "indices = np.where?"
   ]
  },
  {
   "cell_type": "code",
   "execution_count": null,
   "metadata": {},
   "outputs": [],
   "source": [
    "indices = np.where"
   ]
  },
  {
   "cell_type": "code",
   "execution_count": 100,
   "metadata": {
    "ExecuteTime": {
     "end_time": "2021-03-10T16:40:17.018732Z",
     "start_time": "2021-03-10T16:40:17.013984Z"
    }
   },
   "outputs": [
    {
     "ename": "NameError",
     "evalue": "name 'indices' is not defined",
     "output_type": "error",
     "traceback": [
      "\u001b[1;31m---------------------------------------------------------------------------\u001b[0m",
      "\u001b[1;31mNameError\u001b[0m                                 Traceback (most recent call last)",
      "\u001b[1;32m<ipython-input-100-a9c39fcc26e5>\u001b[0m in \u001b[0;36m<module>\u001b[1;34m\u001b[0m\n\u001b[1;32m----> 1\u001b[1;33m \u001b[0mx\u001b[0m\u001b[1;33m[\u001b[0m\u001b[0mindices\u001b[0m\u001b[1;33m]\u001b[0m\u001b[1;33m\u001b[0m\u001b[1;33m\u001b[0m\u001b[0m\n\u001b[0m",
      "\u001b[1;31mNameError\u001b[0m: name 'indices' is not defined"
     ]
    }
   ],
   "source": [
    "x[indices]"
   ]
  },
  {
   "cell_type": "markdown",
   "metadata": {},
   "source": [
    "**take** еще одна конструкция выбора элементов массива:"
   ]
  },
  {
   "cell_type": "code",
   "execution_count": 101,
   "metadata": {
    "ExecuteTime": {
     "end_time": "2021-03-10T16:40:23.719524Z",
     "start_time": "2021-03-10T16:40:23.716770Z"
    }
   },
   "outputs": [],
   "source": [
    "v = np.arange(-3, 3)\n",
    "row_indices = [1, 3, 5]"
   ]
  },
  {
   "cell_type": "code",
   "execution_count": 102,
   "metadata": {
    "ExecuteTime": {
     "end_time": "2021-03-10T16:40:28.030548Z",
     "start_time": "2021-03-10T16:40:28.026812Z"
    }
   },
   "outputs": [
    {
     "data": {
      "text/plain": [
       "array([-3, -2, -1,  0,  1,  2])"
      ]
     },
     "execution_count": 102,
     "metadata": {},
     "output_type": "execute_result"
    }
   ],
   "source": [
    "v"
   ]
  },
  {
   "cell_type": "code",
   "execution_count": 103,
   "metadata": {
    "ExecuteTime": {
     "end_time": "2021-03-10T16:40:38.902170Z",
     "start_time": "2021-03-10T16:40:38.898079Z"
    }
   },
   "outputs": [
    {
     "data": {
      "text/plain": [
       "array([-2,  0,  2])"
      ]
     },
     "execution_count": 103,
     "metadata": {},
     "output_type": "execute_result"
    }
   ],
   "source": [
    "v[row_indices]"
   ]
  },
  {
   "cell_type": "code",
   "execution_count": 104,
   "metadata": {
    "ExecuteTime": {
     "end_time": "2021-03-10T16:40:49.366084Z",
     "start_time": "2021-03-10T16:40:49.360576Z"
    }
   },
   "outputs": [
    {
     "data": {
      "text/plain": [
       "array([-2,  0,  2])"
      ]
     },
     "execution_count": 104,
     "metadata": {},
     "output_type": "execute_result"
    }
   ],
   "source": [
    "v.take(row_indices)"
   ]
  },
  {
   "cell_type": "code",
   "execution_count": 105,
   "metadata": {
    "ExecuteTime": {
     "end_time": "2021-03-10T16:40:54.340233Z",
     "start_time": "2021-03-10T16:40:54.336064Z"
    }
   },
   "outputs": [
    {
     "data": {
      "text/plain": [
       "array([-2,  0,  2])"
      ]
     },
     "execution_count": 105,
     "metadata": {},
     "output_type": "execute_result"
    }
   ],
   "source": [
    "np.take(v, row_indices)"
   ]
  },
  {
   "cell_type": "markdown",
   "metadata": {},
   "source": [
    "** choices ** - полезная функция для выбора элеметов из нескольких массивов:"
   ]
  },
  {
   "cell_type": "code",
   "execution_count": 106,
   "metadata": {
    "ExecuteTime": {
     "end_time": "2021-03-10T16:41:06.283441Z",
     "start_time": "2021-03-10T16:41:06.278496Z"
    }
   },
   "outputs": [
    {
     "data": {
      "text/plain": [
       "array([ 1, -2,  3, -4])"
      ]
     },
     "execution_count": 106,
     "metadata": {},
     "output_type": "execute_result"
    }
   ],
   "source": [
    "which = [1, 0, 1, 0]\n",
    "choices = [[-1, -2, -3, -4], [1, 2, 3, 4]]\n",
    "np.choose(which, choices)"
   ]
  },
  {
   "cell_type": "markdown",
   "metadata": {},
   "source": [
    "** compress ** - альтернативой Булевому индексированию:"
   ]
  },
  {
   "cell_type": "code",
   "execution_count": 107,
   "metadata": {
    "ExecuteTime": {
     "end_time": "2021-03-10T16:41:53.941300Z",
     "start_time": "2021-03-10T16:41:53.937058Z"
    }
   },
   "outputs": [
    {
     "data": {
      "text/plain": [
       "array([[3, 4],\n",
       "       [5, 6]])"
      ]
     },
     "execution_count": 107,
     "metadata": {},
     "output_type": "execute_result"
    }
   ],
   "source": [
    "a = np.array([[1, 2], [3, 4], [5, 6]])\n",
    "np.compress([False, True, True], a, axis=0)"
   ]
  },
  {
   "cell_type": "markdown",
   "metadata": {},
   "source": [
    "## TLDR:\n",
    "* для доступа к элементам массива пользуйтесь slicing и помните, что slicing создает view, а значит исходный массив может быть изменен."
   ]
  },
  {
   "cell_type": "markdown",
   "metadata": {},
   "source": [
    "# 2.3. Numpy ndarray - элементарные операции с массивами"
   ]
  },
  {
   "cell_type": "markdown",
   "metadata": {},
   "source": [
    "** Broadcasting **"
   ]
  },
  {
   "cell_type": "markdown",
   "metadata": {},
   "source": [
    "Концепеция broadcasting является ключевой для понимания операций с массивами. Обычно, операции с массивами производятся поэлементно. "
   ]
  },
  {
   "cell_type": "code",
   "execution_count": 108,
   "metadata": {
    "ExecuteTime": {
     "end_time": "2021-03-10T16:45:10.051016Z",
     "start_time": "2021-03-10T16:45:10.045845Z"
    }
   },
   "outputs": [],
   "source": [
    "a = np.array([1.0, 2.0, 3.0])\n",
    "b = np.array([2.0, 2.0, 2.0])"
   ]
  },
  {
   "cell_type": "code",
   "execution_count": 109,
   "metadata": {
    "ExecuteTime": {
     "end_time": "2021-03-10T16:45:23.791378Z",
     "start_time": "2021-03-10T16:45:23.787187Z"
    }
   },
   "outputs": [
    {
     "data": {
      "text/plain": [
       "array([0.5, 1. , 1.5])"
      ]
     },
     "execution_count": 109,
     "metadata": {},
     "output_type": "execute_result"
    }
   ],
   "source": [
    "a / b"
   ]
  },
  {
   "cell_type": "markdown",
   "metadata": {},
   "source": [
    "Что, если массивы разного размера? Начнем с простого - скаляр и вектор:"
   ]
  },
  {
   "cell_type": "code",
   "execution_count": 110,
   "metadata": {
    "ExecuteTime": {
     "end_time": "2021-03-10T16:45:36.754284Z",
     "start_time": "2021-03-10T16:45:36.746391Z"
    }
   },
   "outputs": [
    {
     "data": {
      "text/plain": [
       "array([2., 4., 6.])"
      ]
     },
     "execution_count": 110,
     "metadata": {},
     "output_type": "execute_result"
    }
   ],
   "source": [
    "a = np.array([1.0, 2.0, 3.0])\n",
    "b = 2.0\n",
    "a * b"
   ]
  },
  {
   "cell_type": "markdown",
   "metadata": {},
   "source": [
    "Все просто - скаляр словно \"вырастает\" (broadcasted) до размеров вектора и производится поэлементная операция (разумеется, это умозрительная аналогия - новый вектор из 2 не создается!).\n",
    "\n",
    "Общее правило таково:\n",
    "\n",
    "операция может произведена если размерность \"крайних\" осей массивов совпадает (trailing dimension), либо один из элементов является скаляром.\n",
    "\n",
    "Пример из оффициальной документации:"
   ]
  },
  {
   "cell_type": "code",
   "execution_count": 111,
   "metadata": {
    "ExecuteTime": {
     "end_time": "2021-03-10T16:52:32.852033Z",
     "start_time": "2021-03-10T16:52:32.849137Z"
    }
   },
   "outputs": [],
   "source": [
    "'''\n",
    "\n",
    "Image  (3d array): 256 x 256 x 3\n",
    "Scale  (1d array):             3\n",
    "Result (3d array): 256 x 256 x 3\n",
    "\n",
    "A      (4d array):  8 x 1 x 6 x 1\n",
    "B      (3d array):      7 x 1 x 5\n",
    "Result (4d array):  8 x 7 x 6 x 5\n",
    "\n",
    "'''\n",
    "pass"
   ]
  },
  {
   "cell_type": "markdown",
   "metadata": {},
   "source": [
    "а вот эти операции дадут вам ошибку:"
   ]
  },
  {
   "cell_type": "code",
   "execution_count": 112,
   "metadata": {
    "ExecuteTime": {
     "end_time": "2021-03-10T16:52:33.542884Z",
     "start_time": "2021-03-10T16:52:33.539640Z"
    }
   },
   "outputs": [],
   "source": [
    "'''\n",
    "A      (1d array):  3\n",
    "B      (1d array):  4 # trailing dimensions do not match\n",
    "\n",
    "A      (2d array):      2 x 1\n",
    "B      (3d array):  8 x 4 x 3 # second from last dimensions mismatched\n",
    "'''\n",
    "pass"
   ]
  },
  {
   "cell_type": "code",
   "execution_count": 113,
   "metadata": {
    "ExecuteTime": {
     "end_time": "2021-03-10T16:52:36.981087Z",
     "start_time": "2021-03-10T16:52:36.949199Z"
    }
   },
   "outputs": [
    {
     "name": "stdout",
     "output_type": "stream",
     "text": [
      "(4,)\n",
      "(5,)\n"
     ]
    },
    {
     "ename": "ValueError",
     "evalue": "operands could not be broadcast together with shapes (4,) (5,) ",
     "output_type": "error",
     "traceback": [
      "\u001b[1;31m---------------------------------------------------------------------------\u001b[0m",
      "\u001b[1;31mValueError\u001b[0m                                Traceback (most recent call last)",
      "\u001b[1;32m<ipython-input-113-b14dbb8a3857>\u001b[0m in \u001b[0;36m<module>\u001b[1;34m\u001b[0m\n\u001b[0;32m      8\u001b[0m \u001b[0mprint\u001b[0m\u001b[1;33m(\u001b[0m\u001b[0my\u001b[0m\u001b[1;33m.\u001b[0m\u001b[0mshape\u001b[0m\u001b[1;33m)\u001b[0m\u001b[1;33m\u001b[0m\u001b[1;33m\u001b[0m\u001b[0m\n\u001b[0;32m      9\u001b[0m \u001b[1;33m\u001b[0m\u001b[0m\n\u001b[1;32m---> 10\u001b[1;33m \u001b[0mx\u001b[0m \u001b[1;33m+\u001b[0m \u001b[0my\u001b[0m\u001b[1;33m\u001b[0m\u001b[1;33m\u001b[0m\u001b[0m\n\u001b[0m",
      "\u001b[1;31mValueError\u001b[0m: operands could not be broadcast together with shapes (4,) (5,) "
     ]
    }
   ],
   "source": [
    "x = np.arange(4)\n",
    "xx = x.reshape(4,1)\n",
    "y = np.ones(5)\n",
    "z = np.ones((3,4))\n",
    "\n",
    "print(x.shape)\n",
    "\n",
    "print(y.shape)\n",
    "\n",
    "x + y"
   ]
  },
  {
   "cell_type": "code",
   "execution_count": 114,
   "metadata": {
    "ExecuteTime": {
     "end_time": "2021-03-10T16:52:59.778680Z",
     "start_time": "2021-03-10T16:52:59.763018Z"
    }
   },
   "outputs": [
    {
     "name": "stdout",
     "output_type": "stream",
     "text": [
      "(4, 1)\n",
      "(5,)\n",
      "(4, 5)\n",
      "[[1. 1. 1. 1. 1.]\n",
      " [2. 2. 2. 2. 2.]\n",
      " [3. 3. 3. 3. 3.]\n",
      " [4. 4. 4. 4. 4.]]\n",
      "-------\n",
      "(4,)\n",
      "(3, 4)\n",
      "(3, 4)\n",
      "[[1. 2. 3. 4.]\n",
      " [1. 2. 3. 4.]\n",
      " [1. 2. 3. 4.]]\n"
     ]
    }
   ],
   "source": [
    "print(xx.shape)\n",
    "print(y.shape)\n",
    "print((xx + y).shape)\n",
    "print(xx + y)\n",
    "\n",
    "print('-------')\n",
    "\n",
    "print(x.shape)\n",
    "print(z.shape)\n",
    "print((x + z).shape)\n",
    "print(x + z)"
   ]
  },
  {
   "cell_type": "markdown",
   "metadata": {},
   "source": [
    "Классный пример из официальной документации:"
   ]
  },
  {
   "cell_type": "code",
   "execution_count": 115,
   "metadata": {
    "ExecuteTime": {
     "end_time": "2021-03-10T16:56:19.215428Z",
     "start_time": "2021-03-10T16:56:19.209530Z"
    }
   },
   "outputs": [
    {
     "data": {
      "text/plain": [
       "array([[ 1.,  2.,  3.],\n",
       "       [11., 12., 13.],\n",
       "       [21., 22., 23.],\n",
       "       [31., 32., 33.]])"
      ]
     },
     "execution_count": 115,
     "metadata": {},
     "output_type": "execute_result"
    }
   ],
   "source": [
    "a = np.array([0.0, 10.0, 20.0, 30.0])\n",
    "b = np.array([1.0, 2.0, 3.0])\n",
    "a[:, np.newaxis] + b"
   ]
  },
  {
   "cell_type": "code",
   "execution_count": 116,
   "metadata": {
    "ExecuteTime": {
     "end_time": "2021-03-10T16:56:47.491696Z",
     "start_time": "2021-03-10T16:56:47.487914Z"
    }
   },
   "outputs": [
    {
     "data": {
      "text/plain": [
       "array([[ 0.],\n",
       "       [10.],\n",
       "       [20.],\n",
       "       [30.]])"
      ]
     },
     "execution_count": 116,
     "metadata": {},
     "output_type": "execute_result"
    }
   ],
   "source": [
    "a[:, np.newaxis]"
   ]
  },
  {
   "cell_type": "code",
   "execution_count": 117,
   "metadata": {
    "ExecuteTime": {
     "end_time": "2021-03-10T16:56:47.880900Z",
     "start_time": "2021-03-10T16:56:47.875810Z"
    }
   },
   "outputs": [
    {
     "data": {
      "text/plain": [
       "(4, 1)"
      ]
     },
     "execution_count": 117,
     "metadata": {},
     "output_type": "execute_result"
    }
   ],
   "source": [
    "a[:, np.newaxis].shape"
   ]
  },
  {
   "cell_type": "markdown",
   "metadata": {},
   "source": [
    "** Операции вида \"массив - скаляр\" **"
   ]
  },
  {
   "cell_type": "code",
   "execution_count": 118,
   "metadata": {
    "ExecuteTime": {
     "end_time": "2021-03-10T16:56:51.234960Z",
     "start_time": "2021-03-10T16:56:51.229642Z"
    }
   },
   "outputs": [
    {
     "data": {
      "text/plain": [
       "array([[1.00000000e+00, 1.13258245e-01, 2.50000000e+00, 1.08870336e-01,\n",
       "        6.48448748e-01],\n",
       "       [8.64974938e-01, 5.79060576e-01, 7.62923883e-01, 4.10940555e-01,\n",
       "        6.78758254e-04],\n",
       "       [2.98659955e-01, 2.38616431e-01, 4.26755614e-01, 6.51787917e-01,\n",
       "        4.75712916e-01]])"
      ]
     },
     "execution_count": 118,
     "metadata": {},
     "output_type": "execute_result"
    }
   ],
   "source": [
    "A"
   ]
  },
  {
   "cell_type": "code",
   "execution_count": 119,
   "metadata": {
    "ExecuteTime": {
     "end_time": "2021-03-10T16:56:53.838272Z",
     "start_time": "2021-03-10T16:56:53.833413Z"
    }
   },
   "outputs": [
    {
     "data": {
      "text/plain": [
       "array([[3.        , 2.11325824, 4.5       , 2.10887034, 2.64844875],\n",
       "       [2.86497494, 2.57906058, 2.76292388, 2.41094056, 2.00067876],\n",
       "       [2.29865995, 2.23861643, 2.42675561, 2.65178792, 2.47571292]])"
      ]
     },
     "execution_count": 119,
     "metadata": {},
     "output_type": "execute_result"
    }
   ],
   "source": [
    "A + 2"
   ]
  },
  {
   "cell_type": "markdown",
   "metadata": {},
   "source": [
    "** Операции вида \"массив - массив\" **"
   ]
  },
  {
   "cell_type": "markdown",
   "metadata": {},
   "source": [
    "Производятся поэлементно с учетом правил broadcasting:"
   ]
  },
  {
   "cell_type": "code",
   "execution_count": 120,
   "metadata": {
    "ExecuteTime": {
     "end_time": "2021-03-10T16:57:06.606434Z",
     "start_time": "2021-03-10T16:57:06.601445Z"
    }
   },
   "outputs": [
    {
     "data": {
      "text/plain": [
       "array([[1.00000000e+00, 1.28274300e-02, 6.25000000e+00, 1.18527501e-02,\n",
       "        4.20485779e-01],\n",
       "       [7.48181644e-01, 3.35311150e-01, 5.82052852e-01, 1.68872140e-01,\n",
       "        4.60712767e-07],\n",
       "       [8.91977685e-02, 5.69378012e-02, 1.82120354e-01, 4.24827489e-01,\n",
       "        2.26302778e-01]])"
      ]
     },
     "execution_count": 120,
     "metadata": {},
     "output_type": "execute_result"
    }
   ],
   "source": [
    "A * A"
   ]
  },
  {
   "cell_type": "code",
   "execution_count": 121,
   "metadata": {
    "ExecuteTime": {
     "end_time": "2021-03-10T16:57:07.249233Z",
     "start_time": "2021-03-10T16:57:07.245235Z"
    }
   },
   "outputs": [
    {
     "data": {
      "text/plain": [
       "array([[1., 1., 1., 1., 1.],\n",
       "       [1., 1., 1., 1., 1.],\n",
       "       [1., 1., 1., 1., 1.]])"
      ]
     },
     "execution_count": 121,
     "metadata": {},
     "output_type": "execute_result"
    }
   ],
   "source": [
    "A / A"
   ]
  },
  {
   "cell_type": "markdown",
   "metadata": {},
   "source": [
    "** Матричные операции**"
   ]
  },
  {
   "cell_type": "code",
   "execution_count": 122,
   "metadata": {
    "ExecuteTime": {
     "end_time": "2021-03-10T16:57:18.821910Z",
     "start_time": "2021-03-10T16:57:18.819194Z"
    }
   },
   "outputs": [],
   "source": [
    "A = np.random.rand(3,3)"
   ]
  },
  {
   "cell_type": "code",
   "execution_count": 123,
   "metadata": {
    "ExecuteTime": {
     "end_time": "2021-03-10T16:57:20.831837Z",
     "start_time": "2021-03-10T16:57:20.820296Z"
    }
   },
   "outputs": [
    {
     "data": {
      "text/plain": [
       "array([[1.38161724, 0.80271759, 0.58495794],\n",
       "       [0.85337928, 0.48605948, 0.33130046],\n",
       "       [0.5986781 , 0.39069456, 0.33590029]])"
      ]
     },
     "execution_count": 123,
     "metadata": {},
     "output_type": "execute_result"
    }
   ],
   "source": [
    "np.dot(A, A)"
   ]
  },
  {
   "cell_type": "code",
   "execution_count": 124,
   "metadata": {
    "ExecuteTime": {
     "end_time": "2021-03-10T16:57:24.516658Z",
     "start_time": "2021-03-10T16:57:24.513672Z"
    }
   },
   "outputs": [],
   "source": [
    "v = np.random.randn(3)"
   ]
  },
  {
   "cell_type": "code",
   "execution_count": 125,
   "metadata": {
    "ExecuteTime": {
     "end_time": "2021-03-10T16:57:27.631133Z",
     "start_time": "2021-03-10T16:57:27.627174Z"
    }
   },
   "outputs": [
    {
     "data": {
      "text/plain": [
       "array([ 0.52400924,  0.43646895, -0.69035651])"
      ]
     },
     "execution_count": 125,
     "metadata": {},
     "output_type": "execute_result"
    }
   ],
   "source": [
    "v"
   ]
  },
  {
   "cell_type": "code",
   "execution_count": 126,
   "metadata": {
    "ExecuteTime": {
     "end_time": "2021-03-10T16:58:12.035189Z",
     "start_time": "2021-03-10T16:58:12.030905Z"
    }
   },
   "outputs": [
    {
     "data": {
      "text/plain": [
       "array([[ 0.52400924],\n",
       "       [ 0.43646895],\n",
       "       [-0.69035651]])"
      ]
     },
     "execution_count": 126,
     "metadata": {},
     "output_type": "execute_result"
    }
   ],
   "source": [
    "v[:, np.newaxis]"
   ]
  },
  {
   "cell_type": "code",
   "execution_count": 127,
   "metadata": {
    "ExecuteTime": {
     "end_time": "2021-03-10T16:57:29.726238Z",
     "start_time": "2021-03-10T16:57:29.720246Z"
    }
   },
   "outputs": [
    {
     "data": {
      "text/plain": [
       "array([[ 0.49354204,  0.24686735, -0.26410282],\n",
       "       [ 0.37495887,  0.09743973, -0.05788057],\n",
       "       [ 0.12300488,  0.1639884 , -0.31980596]])"
      ]
     },
     "execution_count": 127,
     "metadata": {},
     "output_type": "execute_result"
    }
   ],
   "source": [
    "A * v"
   ]
  },
  {
   "cell_type": "code",
   "execution_count": 128,
   "metadata": {
    "ExecuteTime": {
     "end_time": "2021-03-10T16:57:45.023232Z",
     "start_time": "2021-03-10T16:57:45.016606Z"
    }
   },
   "outputs": [
    {
     "data": {
      "text/plain": [
       "array([ 0.47630656,  0.41451804, -0.03281268])"
      ]
     },
     "execution_count": 128,
     "metadata": {},
     "output_type": "execute_result"
    }
   ],
   "source": [
    "np.dot(A, v)"
   ]
  },
  {
   "cell_type": "code",
   "execution_count": 129,
   "metadata": {
    "ExecuteTime": {
     "end_time": "2021-03-10T16:58:04.267086Z",
     "start_time": "2021-03-10T16:58:04.260538Z"
    }
   },
   "outputs": [
    {
     "data": {
      "text/plain": [
       "array([[ 0.47630656],\n",
       "       [ 0.41451804],\n",
       "       [-0.03281268]])"
      ]
     },
     "execution_count": 129,
     "metadata": {},
     "output_type": "execute_result"
    }
   ],
   "source": [
    "np.dot(A, v[:, np.newaxis])"
   ]
  },
  {
   "cell_type": "code",
   "execution_count": 130,
   "metadata": {
    "ExecuteTime": {
     "end_time": "2021-03-10T16:58:33.082082Z",
     "start_time": "2021-03-10T16:58:33.076815Z"
    }
   },
   "outputs": [
    {
     "data": {
      "text/plain": [
       "array([[ 0.64380787,  0.13444193, -0.08274672]])"
      ]
     },
     "execution_count": 130,
     "metadata": {},
     "output_type": "execute_result"
    }
   ],
   "source": [
    "np.dot(v[np.newaxis, :], A)"
   ]
  },
  {
   "cell_type": "code",
   "execution_count": 131,
   "metadata": {
    "ExecuteTime": {
     "end_time": "2021-03-10T16:58:42.596780Z",
     "start_time": "2021-03-10T16:58:42.592923Z"
    }
   },
   "outputs": [
    {
     "data": {
      "text/plain": [
       "0.941682943101174"
      ]
     },
     "execution_count": 131,
     "metadata": {},
     "output_type": "execute_result"
    }
   ],
   "source": [
    "np.dot(v, v)"
   ]
  },
  {
   "cell_type": "markdown",
   "metadata": {},
   "source": [
    "Если хочется использовать по умолчанию операции из матричной алгебры, то можно использовать конструктор matrix()."
   ]
  },
  {
   "cell_type": "code",
   "execution_count": 132,
   "metadata": {
    "ExecuteTime": {
     "end_time": "2021-03-10T16:58:55.858778Z",
     "start_time": "2021-03-10T16:58:55.856191Z"
    }
   },
   "outputs": [],
   "source": [
    "M = np.matrix(A)"
   ]
  },
  {
   "cell_type": "code",
   "execution_count": 133,
   "metadata": {
    "ExecuteTime": {
     "end_time": "2021-03-10T16:59:22.695860Z",
     "start_time": "2021-03-10T16:59:22.693492Z"
    }
   },
   "outputs": [],
   "source": [
    "v1 = np.matrix(v).T"
   ]
  },
  {
   "cell_type": "code",
   "execution_count": 134,
   "metadata": {
    "ExecuteTime": {
     "end_time": "2021-03-10T16:59:24.043534Z",
     "start_time": "2021-03-10T16:59:24.039198Z"
    }
   },
   "outputs": [
    {
     "data": {
      "text/plain": [
       "(3, 3)"
      ]
     },
     "execution_count": 134,
     "metadata": {},
     "output_type": "execute_result"
    }
   ],
   "source": [
    "M.shape"
   ]
  },
  {
   "cell_type": "code",
   "execution_count": 135,
   "metadata": {
    "ExecuteTime": {
     "end_time": "2021-03-10T16:59:24.617608Z",
     "start_time": "2021-03-10T16:59:24.612630Z"
    }
   },
   "outputs": [
    {
     "data": {
      "text/plain": [
       "(3, 1)"
      ]
     },
     "execution_count": 135,
     "metadata": {},
     "output_type": "execute_result"
    }
   ],
   "source": [
    "v1.shape"
   ]
  },
  {
   "cell_type": "code",
   "execution_count": 136,
   "metadata": {
    "ExecuteTime": {
     "end_time": "2021-03-10T17:00:23.765609Z",
     "start_time": "2021-03-10T17:00:23.759926Z"
    }
   },
   "outputs": [
    {
     "data": {
      "text/plain": [
       "matrix([[0.94168294]])"
      ]
     },
     "execution_count": 136,
     "metadata": {},
     "output_type": "execute_result"
    }
   ],
   "source": [
    "v1.T * v1"
   ]
  },
  {
   "cell_type": "code",
   "execution_count": 137,
   "metadata": {
    "ExecuteTime": {
     "end_time": "2021-03-10T17:00:27.315751Z",
     "start_time": "2021-03-10T17:00:27.311923Z"
    }
   },
   "outputs": [
    {
     "data": {
      "text/plain": [
       "matrix([[ 0.47630656],\n",
       "        [ 0.41451804],\n",
       "        [-0.03281268]])"
      ]
     },
     "execution_count": 137,
     "metadata": {},
     "output_type": "execute_result"
    }
   ],
   "source": [
    "M * v1"
   ]
  },
  {
   "cell_type": "markdown",
   "metadata": {},
   "source": [
    "** Преобразование массивов**"
   ]
  },
  {
   "cell_type": "code",
   "execution_count": 138,
   "metadata": {
    "ExecuteTime": {
     "end_time": "2021-03-10T17:01:51.343467Z",
     "start_time": "2021-03-10T17:01:51.337462Z"
    }
   },
   "outputs": [
    {
     "data": {
      "text/plain": [
       "array([[0.9418575 , 0.71555775, 0.234738  ],\n",
       "       [0.56560118, 0.2232455 , 0.37571607],\n",
       "       [0.38256005, 0.08384156, 0.46324754]])"
      ]
     },
     "execution_count": 138,
     "metadata": {},
     "output_type": "execute_result"
    }
   ],
   "source": [
    "A.T"
   ]
  },
  {
   "cell_type": "markdown",
   "metadata": {},
   "source": [
    "** reshape **"
   ]
  },
  {
   "cell_type": "code",
   "execution_count": 139,
   "metadata": {
    "ExecuteTime": {
     "end_time": "2021-03-10T17:01:56.130629Z",
     "start_time": "2021-03-10T17:01:56.126237Z"
    }
   },
   "outputs": [
    {
     "data": {
      "text/plain": [
       "array([ 0., 10., 20., 30.])"
      ]
     },
     "execution_count": 139,
     "metadata": {},
     "output_type": "execute_result"
    }
   ],
   "source": [
    "a"
   ]
  },
  {
   "cell_type": "code",
   "execution_count": 140,
   "metadata": {
    "ExecuteTime": {
     "end_time": "2021-03-10T17:01:56.355805Z",
     "start_time": "2021-03-10T17:01:56.353051Z"
    }
   },
   "outputs": [],
   "source": [
    "a = a.reshape((2, 2))"
   ]
  },
  {
   "cell_type": "code",
   "execution_count": 141,
   "metadata": {
    "ExecuteTime": {
     "end_time": "2021-03-10T17:02:20.470609Z",
     "start_time": "2021-03-10T17:02:20.466130Z"
    }
   },
   "outputs": [
    {
     "data": {
      "text/plain": [
       "array([[ 0., 10.],\n",
       "       [20., 30.]])"
      ]
     },
     "execution_count": 141,
     "metadata": {},
     "output_type": "execute_result"
    }
   ],
   "source": [
    "a.reshape(2, -1)"
   ]
  },
  {
   "cell_type": "markdown",
   "metadata": {},
   "source": [
    "** resize **"
   ]
  },
  {
   "cell_type": "code",
   "execution_count": 142,
   "metadata": {
    "ExecuteTime": {
     "end_time": "2021-03-10T17:02:29.372352Z",
     "start_time": "2021-03-10T17:02:29.369848Z"
    }
   },
   "outputs": [],
   "source": [
    "a = np.arange(4)"
   ]
  },
  {
   "cell_type": "code",
   "execution_count": 143,
   "metadata": {
    "ExecuteTime": {
     "end_time": "2021-03-10T17:02:30.157008Z",
     "start_time": "2021-03-10T17:02:30.154575Z"
    }
   },
   "outputs": [],
   "source": [
    "a.resize((8,))"
   ]
  },
  {
   "cell_type": "code",
   "execution_count": 144,
   "metadata": {
    "ExecuteTime": {
     "end_time": "2021-03-10T17:02:30.669965Z",
     "start_time": "2021-03-10T17:02:30.665480Z"
    }
   },
   "outputs": [
    {
     "data": {
      "text/plain": [
       "array([0, 1, 2, 3, 0, 0, 0, 0])"
      ]
     },
     "execution_count": 144,
     "metadata": {},
     "output_type": "execute_result"
    }
   ],
   "source": [
    "a"
   ]
  },
  {
   "cell_type": "markdown",
   "metadata": {},
   "source": [
    "** repeat **"
   ]
  },
  {
   "cell_type": "code",
   "execution_count": 145,
   "metadata": {
    "ExecuteTime": {
     "end_time": "2021-03-10T17:04:22.292043Z",
     "start_time": "2021-03-10T17:04:22.285265Z"
    }
   },
   "outputs": [
    {
     "data": {
      "text/plain": [
       "array([1, 1, 1, 2, 2, 2, 3, 3, 3, 4, 4, 4])"
      ]
     },
     "execution_count": 145,
     "metadata": {},
     "output_type": "execute_result"
    }
   ],
   "source": [
    "a = np.array([[1, 2], [3, 4]])\n",
    "np.repeat(a, 3)"
   ]
  },
  {
   "cell_type": "code",
   "execution_count": 146,
   "metadata": {
    "ExecuteTime": {
     "end_time": "2021-03-10T17:04:26.888859Z",
     "start_time": "2021-03-10T17:04:26.884973Z"
    }
   },
   "outputs": [
    {
     "data": {
      "text/plain": [
       "array([[1, 2, 1, 2, 1, 2],\n",
       "       [3, 4, 3, 4, 3, 4]])"
      ]
     },
     "execution_count": 146,
     "metadata": {},
     "output_type": "execute_result"
    }
   ],
   "source": [
    "np.tile(a, 3)"
   ]
  },
  {
   "cell_type": "markdown",
   "metadata": {},
   "source": [
    "** concatenate **"
   ]
  },
  {
   "cell_type": "code",
   "execution_count": 147,
   "metadata": {
    "ExecuteTime": {
     "end_time": "2021-03-10T17:05:04.510463Z",
     "start_time": "2021-03-10T17:05:04.506222Z"
    }
   },
   "outputs": [
    {
     "data": {
      "text/plain": [
       "array([[1, 2],\n",
       "       [3, 4]])"
      ]
     },
     "execution_count": 147,
     "metadata": {},
     "output_type": "execute_result"
    }
   ],
   "source": [
    "a"
   ]
  },
  {
   "cell_type": "code",
   "execution_count": 148,
   "metadata": {
    "ExecuteTime": {
     "end_time": "2021-03-10T17:05:04.861993Z",
     "start_time": "2021-03-10T17:05:04.859168Z"
    }
   },
   "outputs": [],
   "source": [
    "b = np.array([[5, 6]])"
   ]
  },
  {
   "cell_type": "code",
   "execution_count": 149,
   "metadata": {
    "ExecuteTime": {
     "end_time": "2021-03-10T17:05:07.841620Z",
     "start_time": "2021-03-10T17:05:07.832854Z"
    }
   },
   "outputs": [
    {
     "data": {
      "text/plain": [
       "array([[1, 2],\n",
       "       [3, 4],\n",
       "       [5, 6]])"
      ]
     },
     "execution_count": 149,
     "metadata": {},
     "output_type": "execute_result"
    }
   ],
   "source": [
    "np.concatenate((a, b), axis=0)"
   ]
  },
  {
   "cell_type": "code",
   "execution_count": 150,
   "metadata": {
    "ExecuteTime": {
     "end_time": "2021-03-10T17:05:16.570605Z",
     "start_time": "2021-03-10T17:05:16.566041Z"
    }
   },
   "outputs": [
    {
     "data": {
      "text/plain": [
       "array([[1, 2, 5],\n",
       "       [3, 4, 6]])"
      ]
     },
     "execution_count": 150,
     "metadata": {},
     "output_type": "execute_result"
    }
   ],
   "source": [
    "np.concatenate((a, b.T), axis=1)"
   ]
  },
  {
   "cell_type": "markdown",
   "metadata": {},
   "source": [
    "** hstack **"
   ]
  },
  {
   "cell_type": "markdown",
   "metadata": {},
   "source": [
    "Название говорит само за себя - horizontal stack."
   ]
  },
  {
   "cell_type": "code",
   "execution_count": 151,
   "metadata": {
    "ExecuteTime": {
     "end_time": "2021-03-10T17:08:08.828404Z",
     "start_time": "2021-03-10T17:08:08.824316Z"
    }
   },
   "outputs": [
    {
     "data": {
      "text/plain": [
       "array([[1, 2, 5],\n",
       "       [3, 4, 6]])"
      ]
     },
     "execution_count": 151,
     "metadata": {},
     "output_type": "execute_result"
    }
   ],
   "source": [
    "np.hstack((a, b.T))"
   ]
  },
  {
   "cell_type": "code",
   "execution_count": 152,
   "metadata": {
    "ExecuteTime": {
     "end_time": "2021-03-10T17:08:09.447575Z",
     "start_time": "2021-03-10T17:08:09.443437Z"
    }
   },
   "outputs": [
    {
     "data": {
      "text/plain": [
       "(2, 2)"
      ]
     },
     "execution_count": 152,
     "metadata": {},
     "output_type": "execute_result"
    }
   ],
   "source": [
    "a.shape"
   ]
  },
  {
   "cell_type": "code",
   "execution_count": 153,
   "metadata": {
    "ExecuteTime": {
     "end_time": "2021-03-10T17:08:09.808710Z",
     "start_time": "2021-03-10T17:08:09.803856Z"
    }
   },
   "outputs": [
    {
     "data": {
      "text/plain": [
       "(2, 1)"
      ]
     },
     "execution_count": 153,
     "metadata": {},
     "output_type": "execute_result"
    }
   ],
   "source": [
    "b.T.shape"
   ]
  },
  {
   "cell_type": "markdown",
   "metadata": {},
   "source": [
    "** vstack **"
   ]
  },
  {
   "cell_type": "code",
   "execution_count": 154,
   "metadata": {
    "ExecuteTime": {
     "end_time": "2021-03-10T17:08:12.364439Z",
     "start_time": "2021-03-10T17:08:12.359724Z"
    }
   },
   "outputs": [
    {
     "data": {
      "text/plain": [
       "array([[1, 2],\n",
       "       [3, 4],\n",
       "       [5, 6]])"
      ]
     },
     "execution_count": 154,
     "metadata": {},
     "output_type": "execute_result"
    }
   ],
   "source": [
    "np.vstack((a,b))"
   ]
  },
  {
   "cell_type": "code",
   "execution_count": 155,
   "metadata": {
    "ExecuteTime": {
     "end_time": "2021-03-10T17:08:12.643970Z",
     "start_time": "2021-03-10T17:08:12.638094Z"
    }
   },
   "outputs": [
    {
     "data": {
      "text/plain": [
       "(2, 2)"
      ]
     },
     "execution_count": 155,
     "metadata": {},
     "output_type": "execute_result"
    }
   ],
   "source": [
    "a.shape"
   ]
  },
  {
   "cell_type": "code",
   "execution_count": 156,
   "metadata": {
    "ExecuteTime": {
     "end_time": "2021-03-10T17:08:13.077647Z",
     "start_time": "2021-03-10T17:08:13.069824Z"
    }
   },
   "outputs": [
    {
     "data": {
      "text/plain": [
       "(1, 2)"
      ]
     },
     "execution_count": 156,
     "metadata": {},
     "output_type": "execute_result"
    }
   ],
   "source": [
    "b.shape"
   ]
  },
  {
   "cell_type": "markdown",
   "metadata": {},
   "source": [
    "** Копии и view **"
   ]
  },
  {
   "cell_type": "markdown",
   "metadata": {},
   "source": [
    "Мы помним, что очень важно различать копирование объекта и присваивание новой ссылки на объект. Numpy в этом смысле не отличается от списков:"
   ]
  },
  {
   "cell_type": "code",
   "execution_count": 157,
   "metadata": {
    "ExecuteTime": {
     "end_time": "2021-03-10T17:09:43.551202Z",
     "start_time": "2021-03-10T17:09:43.548591Z"
    }
   },
   "outputs": [],
   "source": [
    "A = np.array([[1, 2], [3, 4]])"
   ]
  },
  {
   "cell_type": "code",
   "execution_count": 158,
   "metadata": {
    "ExecuteTime": {
     "end_time": "2021-03-10T17:08:31.656095Z",
     "start_time": "2021-03-10T17:08:31.652645Z"
    }
   },
   "outputs": [],
   "source": [
    "B = A"
   ]
  },
  {
   "cell_type": "code",
   "execution_count": 159,
   "metadata": {
    "ExecuteTime": {
     "end_time": "2021-03-10T17:08:48.091931Z",
     "start_time": "2021-03-10T17:08:48.088998Z"
    }
   },
   "outputs": [],
   "source": [
    "B[0, 0] = 10"
   ]
  },
  {
   "cell_type": "code",
   "execution_count": 160,
   "metadata": {
    "ExecuteTime": {
     "end_time": "2021-03-10T17:08:49.301119Z",
     "start_time": "2021-03-10T17:08:49.297627Z"
    }
   },
   "outputs": [
    {
     "data": {
      "text/plain": [
       "array([[10,  2],\n",
       "       [ 3,  4]])"
      ]
     },
     "execution_count": 160,
     "metadata": {},
     "output_type": "execute_result"
    }
   ],
   "source": [
    "A"
   ]
  },
  {
   "cell_type": "markdown",
   "metadata": {},
   "source": [
    "Если это не тот тип поведения, который нам нужен - следует использовать np.copy():"
   ]
  },
  {
   "cell_type": "code",
   "execution_count": 161,
   "metadata": {
    "ExecuteTime": {
     "end_time": "2021-03-10T17:09:43.551202Z",
     "start_time": "2021-03-10T17:09:43.548591Z"
    }
   },
   "outputs": [],
   "source": [
    "A = np.array([[1, 2], [3, 4]])"
   ]
  },
  {
   "cell_type": "code",
   "execution_count": 162,
   "metadata": {
    "ExecuteTime": {
     "end_time": "2021-03-10T17:09:45.988056Z",
     "start_time": "2021-03-10T17:09:45.984395Z"
    }
   },
   "outputs": [],
   "source": [
    "B = np.copy(A)"
   ]
  },
  {
   "cell_type": "code",
   "execution_count": 163,
   "metadata": {
    "ExecuteTime": {
     "end_time": "2021-03-10T17:09:46.234391Z",
     "start_time": "2021-03-10T17:09:46.230419Z"
    }
   },
   "outputs": [],
   "source": [
    "B[0, 0] = 100"
   ]
  },
  {
   "cell_type": "code",
   "execution_count": 164,
   "metadata": {
    "ExecuteTime": {
     "end_time": "2021-03-10T17:09:46.803068Z",
     "start_time": "2021-03-10T17:09:46.798514Z"
    }
   },
   "outputs": [
    {
     "data": {
      "text/plain": [
       "array([[1, 2],\n",
       "       [3, 4]])"
      ]
     },
     "execution_count": 164,
     "metadata": {},
     "output_type": "execute_result"
    }
   ],
   "source": [
    "A"
   ]
  },
  {
   "cell_type": "markdown",
   "metadata": {},
   "source": [
    "Важно помнить, что если вы используете view массива, то копии вы не создаете!"
   ]
  },
  {
   "cell_type": "code",
   "execution_count": 165,
   "metadata": {
    "ExecuteTime": {
     "end_time": "2021-03-10T17:10:55.307014Z",
     "start_time": "2021-03-10T17:10:55.302858Z"
    }
   },
   "outputs": [],
   "source": [
    "a = np.arange(10)"
   ]
  },
  {
   "cell_type": "code",
   "execution_count": 166,
   "metadata": {
    "ExecuteTime": {
     "end_time": "2021-03-10T17:10:56.137964Z",
     "start_time": "2021-03-10T17:10:56.135095Z"
    }
   },
   "outputs": [],
   "source": [
    "b = a[::2]"
   ]
  },
  {
   "cell_type": "code",
   "execution_count": 167,
   "metadata": {
    "ExecuteTime": {
     "end_time": "2021-03-10T17:10:56.729099Z",
     "start_time": "2021-03-10T17:10:56.723596Z"
    }
   },
   "outputs": [
    {
     "data": {
      "text/plain": [
       "True"
      ]
     },
     "execution_count": 167,
     "metadata": {},
     "output_type": "execute_result"
    }
   ],
   "source": [
    "np.may_share_memory(a, b)"
   ]
  },
  {
   "cell_type": "code",
   "execution_count": 168,
   "metadata": {
    "ExecuteTime": {
     "end_time": "2021-03-10T17:10:57.460913Z",
     "start_time": "2021-03-10T17:10:57.457187Z"
    }
   },
   "outputs": [
    {
     "data": {
      "text/plain": [
       "False"
      ]
     },
     "execution_count": 168,
     "metadata": {},
     "output_type": "execute_result"
    }
   ],
   "source": [
    "c = a[::2].copy()\n",
    "np.may_share_memory(a, c)"
   ]
  },
  {
   "cell_type": "code",
   "execution_count": 169,
   "metadata": {
    "ExecuteTime": {
     "end_time": "2021-03-10T17:10:57.720404Z",
     "start_time": "2021-03-10T17:10:57.717008Z"
    }
   },
   "outputs": [
    {
     "data": {
      "text/plain": [
       "True"
      ]
     },
     "execution_count": 169,
     "metadata": {},
     "output_type": "execute_result"
    }
   ],
   "source": [
    "d = a.T\n",
    "np.may_share_memory(a, d)"
   ]
  },
  {
   "cell_type": "markdown",
   "metadata": {},
   "source": [
    "## TLDR:\n",
    "* следует отличать копию массива и view;\n",
    "* при осуществлении операций помните про правила broadcasting;\n",
    "* запомните hstack и vstack."
   ]
  },
  {
   "cell_type": "markdown",
   "metadata": {},
   "source": [
    "# 2.4. Numpy - основные функции."
   ]
  },
  {
   "cell_type": "markdown",
   "metadata": {},
   "source": [
    "** Встроенные функции массива **"
   ]
  },
  {
   "cell_type": "code",
   "execution_count": 170,
   "metadata": {
    "ExecuteTime": {
     "end_time": "2021-03-10T17:11:35.915748Z",
     "start_time": "2021-03-10T17:11:35.912165Z"
    }
   },
   "outputs": [],
   "source": [
    "m = np.random.rand(3,3)"
   ]
  },
  {
   "cell_type": "code",
   "execution_count": 171,
   "metadata": {
    "ExecuteTime": {
     "end_time": "2021-03-10T17:11:36.170556Z",
     "start_time": "2021-03-10T17:11:36.165828Z"
    }
   },
   "outputs": [
    {
     "data": {
      "text/plain": [
       "4.60586908813564"
      ]
     },
     "execution_count": 171,
     "metadata": {},
     "output_type": "execute_result"
    }
   ],
   "source": [
    "m.sum()"
   ]
  },
  {
   "cell_type": "code",
   "execution_count": 172,
   "metadata": {
    "ExecuteTime": {
     "end_time": "2021-03-10T17:11:36.969278Z",
     "start_time": "2021-03-10T17:11:36.965177Z"
    }
   },
   "outputs": [
    {
     "data": {
      "text/plain": [
       "0.8517957899659669"
      ]
     },
     "execution_count": 172,
     "metadata": {},
     "output_type": "execute_result"
    }
   ],
   "source": [
    "m.max()"
   ]
  },
  {
   "cell_type": "markdown",
   "metadata": {},
   "source": [
    "** Всегда используйте встроенные функции! **"
   ]
  },
  {
   "cell_type": "code",
   "execution_count": 173,
   "metadata": {
    "ExecuteTime": {
     "end_time": "2021-03-10T17:12:25.703557Z",
     "start_time": "2021-03-10T17:12:25.699277Z"
    }
   },
   "outputs": [],
   "source": [
    "a = np.random.rand(100000)"
   ]
  },
  {
   "cell_type": "code",
   "execution_count": 174,
   "metadata": {
    "ExecuteTime": {
     "end_time": "2021-03-10T17:13:59.192366Z",
     "start_time": "2021-03-10T17:12:40.396377Z"
    }
   },
   "outputs": [
    {
     "name": "stdout",
     "output_type": "stream",
     "text": [
      "28 ms ± 4.75 ms per loop (mean ± std. dev. of 7 runs, 1000 loops each)\n"
     ]
    }
   ],
   "source": [
    "%timeit -n 1000 max(a)"
   ]
  },
  {
   "cell_type": "code",
   "execution_count": 175,
   "metadata": {
    "ExecuteTime": {
     "end_time": "2021-03-10T17:13:59.520040Z",
     "start_time": "2021-03-10T17:13:59.194771Z"
    }
   },
   "outputs": [
    {
     "name": "stdout",
     "output_type": "stream",
     "text": [
      "94.5 µs ± 15.5 µs per loop (mean ± std. dev. of 7 runs, 1000 loops each)\n"
     ]
    }
   ],
   "source": [
    "%timeit -n 1000 a.max()"
   ]
  },
  {
   "cell_type": "code",
   "execution_count": 176,
   "metadata": {
    "ExecuteTime": {
     "end_time": "2021-03-10T17:15:58.426680Z",
     "start_time": "2021-03-10T17:13:59.522907Z"
    }
   },
   "outputs": [
    {
     "name": "stdout",
     "output_type": "stream",
     "text": [
      "65.4 ms ± 3.27 ms per loop (mean ± std. dev. of 7 runs, 1000 loops each)\n"
     ]
    }
   ],
   "source": [
    "%timeit -n 1000 sum(a)"
   ]
  },
  {
   "cell_type": "code",
   "execution_count": 177,
   "metadata": {
    "ExecuteTime": {
     "end_time": "2021-03-10T17:15:58.689527Z",
     "start_time": "2021-03-10T17:15:58.429471Z"
    }
   },
   "outputs": [
    {
     "name": "stdout",
     "output_type": "stream",
     "text": [
      "151 µs ± 29.5 µs per loop (mean ± std. dev. of 7 runs, 1000 loops each)\n"
     ]
    }
   ],
   "source": [
    "%timeit -n 1000 a.sum()"
   ]
  },
  {
   "cell_type": "markdown",
   "metadata": {},
   "source": [
    "Просто считать сумму элементов матрицы или находить максимальный элемент не так интересно, и тут нам помогают axis:"
   ]
  },
  {
   "cell_type": "code",
   "execution_count": 178,
   "metadata": {
    "ExecuteTime": {
     "end_time": "2021-03-10T17:15:58.697920Z",
     "start_time": "2021-03-10T17:15:58.691906Z"
    }
   },
   "outputs": [
    {
     "data": {
      "text/plain": [
       "array([[0.74296407, 0.2077268 , 0.59154996],\n",
       "       [0.85179579, 0.76068845, 0.49158992],\n",
       "       [0.50949231, 0.2835398 , 0.16652198]])"
      ]
     },
     "execution_count": 178,
     "metadata": {},
     "output_type": "execute_result"
    }
   ],
   "source": [
    "m"
   ]
  },
  {
   "cell_type": "code",
   "execution_count": 179,
   "metadata": {
    "ExecuteTime": {
     "end_time": "2021-03-10T17:15:58.713860Z",
     "start_time": "2021-03-10T17:15:58.700085Z"
    }
   },
   "outputs": [
    {
     "data": {
      "text/plain": [
       "array([2.10425217, 1.25195506, 1.24966186])"
      ]
     },
     "execution_count": 179,
     "metadata": {},
     "output_type": "execute_result"
    }
   ],
   "source": [
    "m.sum(axis=0)"
   ]
  },
  {
   "cell_type": "code",
   "execution_count": 180,
   "metadata": {
    "ExecuteTime": {
     "end_time": "2021-03-10T17:15:58.723375Z",
     "start_time": "2021-03-10T17:15:58.715998Z"
    }
   },
   "outputs": [
    {
     "data": {
      "text/plain": [
       "array([1.54224084, 2.10407416, 0.95955409])"
      ]
     },
     "execution_count": 180,
     "metadata": {},
     "output_type": "execute_result"
    }
   ],
   "source": [
    "m.sum(axis=1)"
   ]
  },
  {
   "cell_type": "code",
   "execution_count": 181,
   "metadata": {
    "ExecuteTime": {
     "end_time": "2021-03-10T17:15:58.735222Z",
     "start_time": "2021-03-10T17:15:58.729694Z"
    }
   },
   "outputs": [
    {
     "data": {
      "text/plain": [
       "array([0.85179579, 0.76068845, 0.59154996])"
      ]
     },
     "execution_count": 181,
     "metadata": {},
     "output_type": "execute_result"
    }
   ],
   "source": [
    "m.max(axis=0)"
   ]
  },
  {
   "cell_type": "markdown",
   "metadata": {},
   "source": [
    "Очень полезно произведение всех элементов:"
   ]
  },
  {
   "cell_type": "code",
   "execution_count": 182,
   "metadata": {
    "ExecuteTime": {
     "end_time": "2021-03-10T17:15:58.744717Z",
     "start_time": "2021-03-10T17:15:58.738797Z"
    }
   },
   "outputs": [
    {
     "data": {
      "text/plain": [
       "array([0.09129601, 0.31852629, 0.02405599])"
      ]
     },
     "execution_count": 182,
     "metadata": {},
     "output_type": "execute_result"
    }
   ],
   "source": [
    "m.prod(axis=1)"
   ]
  },
  {
   "cell_type": "markdown",
   "metadata": {},
   "source": [
    "Кумулятивная сумма элементов:"
   ]
  },
  {
   "cell_type": "code",
   "execution_count": 183,
   "metadata": {
    "ExecuteTime": {
     "end_time": "2021-03-10T17:15:58.754677Z",
     "start_time": "2021-03-10T17:15:58.747633Z"
    }
   },
   "outputs": [
    {
     "data": {
      "text/plain": [
       "array([5.72193971e+01, 1.40988387e+02, 2.02464262e+02, ...,\n",
       "       5.00428672e+06, 5.00435184e+06, 5.00438312e+06])"
      ]
     },
     "execution_count": 183,
     "metadata": {},
     "output_type": "execute_result"
    }
   ],
   "source": [
    "a.cumsum() * 100"
   ]
  },
  {
   "cell_type": "markdown",
   "metadata": {},
   "source": [
    "Кумулятивное произведение:"
   ]
  },
  {
   "cell_type": "code",
   "execution_count": 184,
   "metadata": {
    "ExecuteTime": {
     "end_time": "2021-03-10T17:15:58.763648Z",
     "start_time": "2021-03-10T17:15:58.756934Z"
    }
   },
   "outputs": [
    {
     "data": {
      "text/plain": [
       "array([0.57219397, 0.47932111, 0.29466685, ..., 0.        , 0.        ,\n",
       "       0.        ])"
      ]
     },
     "execution_count": 184,
     "metadata": {},
     "output_type": "execute_result"
    }
   ],
   "source": [
    "a.cumprod()"
   ]
  },
  {
   "cell_type": "markdown",
   "metadata": {},
   "source": [
    "**Простые статистики**"
   ]
  },
  {
   "cell_type": "markdown",
   "metadata": {},
   "source": [
    "**Среднее**"
   ]
  },
  {
   "cell_type": "code",
   "execution_count": 185,
   "metadata": {
    "ExecuteTime": {
     "end_time": "2021-03-10T17:15:58.772842Z",
     "start_time": "2021-03-10T17:15:58.766423Z"
    }
   },
   "outputs": [
    {
     "data": {
      "text/plain": [
       "array([0.70141739, 0.41731835, 0.41655395])"
      ]
     },
     "execution_count": 185,
     "metadata": {},
     "output_type": "execute_result"
    }
   ],
   "source": [
    "m.mean(axis=0)"
   ]
  },
  {
   "cell_type": "code",
   "execution_count": 186,
   "metadata": {
    "ExecuteTime": {
     "end_time": "2021-03-10T17:15:58.784994Z",
     "start_time": "2021-03-10T17:15:58.779073Z"
    }
   },
   "outputs": [
    {
     "data": {
      "text/plain": [
       "array([0.70141739, 0.41731835, 0.41655395])"
      ]
     },
     "execution_count": 186,
     "metadata": {},
     "output_type": "execute_result"
    }
   ],
   "source": [
    "np.mean(m, axis=0)"
   ]
  },
  {
   "cell_type": "code",
   "execution_count": 187,
   "metadata": {
    "ExecuteTime": {
     "end_time": "2021-03-10T17:15:58.792203Z",
     "start_time": "2021-03-10T17:15:58.787126Z"
    }
   },
   "outputs": [
    {
     "data": {
      "text/plain": [
       "0.5004383116333089"
      ]
     },
     "execution_count": 187,
     "metadata": {},
     "output_type": "execute_result"
    }
   ],
   "source": [
    "np.mean(a)"
   ]
  },
  {
   "cell_type": "code",
   "execution_count": 188,
   "metadata": {
    "ExecuteTime": {
     "end_time": "2021-03-10T17:15:58.798418Z",
     "start_time": "2021-03-10T17:15:58.794357Z"
    }
   },
   "outputs": [
    {
     "data": {
      "text/plain": [
       "0.5004383116333089"
      ]
     },
     "execution_count": 188,
     "metadata": {},
     "output_type": "execute_result"
    }
   ],
   "source": [
    "a.mean()"
   ]
  },
  {
   "cell_type": "markdown",
   "metadata": {},
   "source": [
    "**Медиана**"
   ]
  },
  {
   "cell_type": "code",
   "execution_count": 189,
   "metadata": {
    "ExecuteTime": {
     "end_time": "2021-03-10T17:15:58.808251Z",
     "start_time": "2021-03-10T17:15:58.801020Z"
    }
   },
   "outputs": [
    {
     "data": {
      "text/plain": [
       "array([0.74296407, 0.2835398 , 0.49158992])"
      ]
     },
     "execution_count": 189,
     "metadata": {},
     "output_type": "execute_result"
    }
   ],
   "source": [
    "np.median(m, axis=0)"
   ]
  },
  {
   "cell_type": "code",
   "execution_count": 190,
   "metadata": {
    "ExecuteTime": {
     "end_time": "2021-03-10T17:15:58.816229Z",
     "start_time": "2021-03-10T17:15:58.810533Z"
    }
   },
   "outputs": [
    {
     "data": {
      "text/plain": [
       "0.5007499162110227"
      ]
     },
     "execution_count": 190,
     "metadata": {},
     "output_type": "execute_result"
    }
   ],
   "source": [
    "np.median(a)"
   ]
  },
  {
   "cell_type": "markdown",
   "metadata": {},
   "source": [
    "** Дисперсия **"
   ]
  },
  {
   "cell_type": "code",
   "execution_count": 191,
   "metadata": {
    "ExecuteTime": {
     "end_time": "2021-03-10T17:15:58.828929Z",
     "start_time": "2021-03-10T17:15:58.819281Z"
    }
   },
   "outputs": [
    {
     "data": {
      "text/plain": [
       "array([0.14279943, 0.24476407, 0.18144787])"
      ]
     },
     "execution_count": 191,
     "metadata": {},
     "output_type": "execute_result"
    }
   ],
   "source": [
    "np.std(m, axis=0)"
   ]
  },
  {
   "cell_type": "code",
   "execution_count": 192,
   "metadata": {
    "ExecuteTime": {
     "end_time": "2021-03-10T17:15:58.844940Z",
     "start_time": "2021-03-10T17:15:58.836150Z"
    }
   },
   "outputs": [
    {
     "data": {
      "text/plain": [
       "array([0.14279943, 0.24476407, 0.18144787])"
      ]
     },
     "execution_count": 192,
     "metadata": {},
     "output_type": "execute_result"
    }
   ],
   "source": [
    "m.std(axis=0)"
   ]
  },
  {
   "cell_type": "code",
   "execution_count": 193,
   "metadata": {
    "ExecuteTime": {
     "end_time": "2021-03-10T17:15:58.855204Z",
     "start_time": "2021-03-10T17:15:58.848254Z"
    }
   },
   "outputs": [
    {
     "data": {
      "text/plain": [
       "0.08316513434822292"
      ]
     },
     "execution_count": 193,
     "metadata": {},
     "output_type": "execute_result"
    }
   ],
   "source": [
    "np.var(a)"
   ]
  },
  {
   "cell_type": "code",
   "execution_count": 194,
   "metadata": {
    "ExecuteTime": {
     "end_time": "2021-03-10T17:15:58.868805Z",
     "start_time": "2021-03-10T17:15:58.857518Z"
    }
   },
   "outputs": [
    {
     "data": {
      "text/plain": [
       "0.08316513434822292"
      ]
     },
     "execution_count": 194,
     "metadata": {},
     "output_type": "execute_result"
    }
   ],
   "source": [
    "a.var()"
   ]
  },
  {
   "cell_type": "markdown",
   "metadata": {},
   "source": [
    "** Сортировка **"
   ]
  },
  {
   "cell_type": "code",
   "execution_count": 195,
   "metadata": {
    "ExecuteTime": {
     "end_time": "2021-03-10T14:44:30.601373Z",
     "start_time": "2021-03-10T14:44:30.589123Z"
    }
   },
   "outputs": [
    {
     "data": {
      "text/plain": [
       "array([2.73190222e-05, 5.45720452e-05, 6.05524704e-05, ...,\n",
       "       9.99987559e-01, 9.99993626e-01, 9.99996027e-01])"
      ]
     },
     "execution_count": 195,
     "metadata": {},
     "output_type": "execute_result"
    }
   ],
   "source": [
    "np.sort(a)"
   ]
  },
  {
   "cell_type": "markdown",
   "metadata": {},
   "source": [
    "Функция выше возвращает отсортированную копию массива. Если нужна сортировка in-place:"
   ]
  },
  {
   "cell_type": "code",
   "execution_count": 196,
   "metadata": {
    "ExecuteTime": {
     "end_time": "2021-03-10T14:44:30.615184Z",
     "start_time": "2021-03-10T14:44:30.606192Z"
    }
   },
   "outputs": [],
   "source": [
    "a.sort()"
   ]
  },
  {
   "cell_type": "code",
   "execution_count": 197,
   "metadata": {
    "ExecuteTime": {
     "end_time": "2021-03-10T14:44:30.620816Z",
     "start_time": "2021-03-10T14:44:30.617291Z"
    }
   },
   "outputs": [],
   "source": [
    "a = np.random.rand(100000)"
   ]
  },
  {
   "cell_type": "markdown",
   "metadata": {},
   "source": [
    "Также иногда бывает полезно получить только список индексов в правильном порядке:"
   ]
  },
  {
   "cell_type": "code",
   "execution_count": 198,
   "metadata": {
    "ExecuteTime": {
     "end_time": "2021-03-10T14:44:30.633550Z",
     "start_time": "2021-03-10T14:44:30.622462Z"
    }
   },
   "outputs": [
    {
     "data": {
      "text/plain": [
       "array([93972, 89071, 10091, ...,  9993, 29640, 91152], dtype=int64)"
      ]
     },
     "execution_count": 198,
     "metadata": {},
     "output_type": "execute_result"
    }
   ],
   "source": [
    "np.argsort(a)"
   ]
  },
  {
   "cell_type": "code",
   "execution_count": 199,
   "metadata": {
    "ExecuteTime": {
     "end_time": "2021-03-10T14:44:30.638882Z",
     "start_time": "2021-03-10T14:44:30.635244Z"
    }
   },
   "outputs": [
    {
     "data": {
      "text/plain": [
       "91152"
      ]
     },
     "execution_count": 199,
     "metadata": {},
     "output_type": "execute_result"
    }
   ],
   "source": [
    "np.argmax(a)"
   ]
  },
  {
   "cell_type": "code",
   "execution_count": 200,
   "metadata": {
    "ExecuteTime": {
     "end_time": "2021-03-10T14:44:30.644008Z",
     "start_time": "2021-03-10T14:44:30.640409Z"
    }
   },
   "outputs": [
    {
     "data": {
      "text/plain": [
       "93972"
      ]
     },
     "execution_count": 200,
     "metadata": {},
     "output_type": "execute_result"
    }
   ],
   "source": [
    "np.argmin(a)"
   ]
  },
  {
   "cell_type": "code",
   "execution_count": 201,
   "metadata": {
    "ExecuteTime": {
     "end_time": "2021-03-10T14:44:30.649541Z",
     "start_time": "2021-03-10T14:44:30.645494Z"
    }
   },
   "outputs": [
    {
     "data": {
      "text/plain": [
       "(array([    0,     1,     2, ..., 99997, 99998, 99999], dtype=int64),)"
      ]
     },
     "execution_count": 201,
     "metadata": {},
     "output_type": "execute_result"
    }
   ],
   "source": [
    "np.nonzero(a)"
   ]
  },
  {
   "cell_type": "markdown",
   "metadata": {},
   "source": [
    "** Функции для работы с матрицами **"
   ]
  },
  {
   "cell_type": "code",
   "execution_count": 202,
   "metadata": {
    "ExecuteTime": {
     "end_time": "2021-03-10T14:44:30.654451Z",
     "start_time": "2021-03-10T14:44:30.651097Z"
    }
   },
   "outputs": [
    {
     "data": {
      "text/plain": [
       "array([[0.74296407, 0.2077268 , 0.59154996],\n",
       "       [0.85179579, 0.76068845, 0.49158992],\n",
       "       [0.50949231, 0.2835398 , 0.16652198]])"
      ]
     },
     "execution_count": 202,
     "metadata": {},
     "output_type": "execute_result"
    }
   ],
   "source": [
    "m"
   ]
  },
  {
   "cell_type": "code",
   "execution_count": 203,
   "metadata": {
    "ExecuteTime": {
     "end_time": "2021-03-10T14:44:30.659375Z",
     "start_time": "2021-03-10T14:44:30.655821Z"
    }
   },
   "outputs": [
    {
     "data": {
      "text/plain": [
       "array([0.74296407, 0.76068845, 0.16652198])"
      ]
     },
     "execution_count": 203,
     "metadata": {},
     "output_type": "execute_result"
    }
   ],
   "source": [
    "np.diag(m)"
   ]
  },
  {
   "cell_type": "code",
   "execution_count": 204,
   "metadata": {
    "ExecuteTime": {
     "end_time": "2021-03-10T14:44:30.664274Z",
     "start_time": "2021-03-10T14:44:30.660932Z"
    }
   },
   "outputs": [
    {
     "data": {
      "text/plain": [
       "array([0.74296407, 0.76068845, 0.16652198])"
      ]
     },
     "execution_count": 204,
     "metadata": {},
     "output_type": "execute_result"
    }
   ],
   "source": [
    "m.diagonal()"
   ]
  },
  {
   "cell_type": "markdown",
   "metadata": {},
   "source": [
    "Для целого класса функций из линейной алгебры есть свой суб-модуль np.linalg."
   ]
  },
  {
   "cell_type": "markdown",
   "metadata": {},
   "source": [
    "http://docs.scipy.org/doc/numpy/reference/routines.linalg.html"
   ]
  },
  {
   "cell_type": "code",
   "execution_count": 205,
   "metadata": {
    "ExecuteTime": {
     "end_time": "2021-03-10T14:44:46.776559Z",
     "start_time": "2021-03-10T14:44:46.770829Z"
    }
   },
   "outputs": [],
   "source": [
    "MM = np.random.randn(9, 6)"
   ]
  },
  {
   "cell_type": "code",
   "execution_count": 206,
   "metadata": {
    "ExecuteTime": {
     "end_time": "2021-03-10T14:44:47.439528Z",
     "start_time": "2021-03-10T14:44:47.393316Z"
    }
   },
   "outputs": [
    {
     "data": {
      "text/plain": [
       "((9, 6), (6, 6), (6,))"
      ]
     },
     "execution_count": 206,
     "metadata": {},
     "output_type": "execute_result"
    }
   ],
   "source": [
    "U, s, V = np.linalg.svd(MM, full_matrices=False)\n",
    "U.shape, V.shape, s.shape"
   ]
  },
  {
   "cell_type": "code",
   "execution_count": 207,
   "metadata": {
    "ExecuteTime": {
     "end_time": "2021-03-10T14:44:53.603899Z",
     "start_time": "2021-03-10T14:44:53.595557Z"
    }
   },
   "outputs": [
    {
     "data": {
      "text/plain": [
       "True"
      ]
     },
     "execution_count": 207,
     "metadata": {},
     "output_type": "execute_result"
    }
   ],
   "source": [
    "S = np.diag(s)\n",
    "np.allclose(MM, np.dot(U, np.dot(S, V)))"
   ]
  },
  {
   "cell_type": "markdown",
   "metadata": {},
   "source": [
    "** Векторизация кода **"
   ]
  },
  {
   "cell_type": "markdown",
   "metadata": {},
   "source": [
    "В numpy есть встроенная функция vectorize, которая \"автоматически\" векторизует вашу функцию:"
   ]
  },
  {
   "cell_type": "code",
   "execution_count": 208,
   "metadata": {
    "ExecuteTime": {
     "end_time": "2021-03-10T14:45:52.738724Z",
     "start_time": "2021-03-10T14:45:52.732666Z"
    }
   },
   "outputs": [],
   "source": [
    "def heavyside(x):\n",
    "    if x >= 0:\n",
    "        return 1\n",
    "    else:\n",
    "        return 0"
   ]
  },
  {
   "cell_type": "code",
   "execution_count": 209,
   "metadata": {
    "ExecuteTime": {
     "end_time": "2021-03-10T14:45:53.276215Z",
     "start_time": "2021-03-10T14:45:53.259593Z"
    }
   },
   "outputs": [
    {
     "ename": "ValueError",
     "evalue": "The truth value of an array with more than one element is ambiguous. Use a.any() or a.all()",
     "output_type": "error",
     "traceback": [
      "\u001b[1;31m---------------------------------------------------------------------------\u001b[0m",
      "\u001b[1;31mValueError\u001b[0m                                Traceback (most recent call last)",
      "\u001b[1;32m<ipython-input-209-7ddaae268702>\u001b[0m in \u001b[0;36m<module>\u001b[1;34m\u001b[0m\n\u001b[1;32m----> 1\u001b[1;33m \u001b[0mheavyside\u001b[0m\u001b[1;33m(\u001b[0m\u001b[0mnp\u001b[0m\u001b[1;33m.\u001b[0m\u001b[0marray\u001b[0m\u001b[1;33m(\u001b[0m\u001b[1;33m[\u001b[0m\u001b[1;33m-\u001b[0m\u001b[1;36m3\u001b[0m\u001b[1;33m,\u001b[0m \u001b[1;33m-\u001b[0m\u001b[1;36m2\u001b[0m\u001b[1;33m,\u001b[0m \u001b[1;33m-\u001b[0m\u001b[1;36m1\u001b[0m\u001b[1;33m,\u001b[0m \u001b[1;36m0\u001b[0m\u001b[1;33m,\u001b[0m \u001b[1;36m1\u001b[0m\u001b[1;33m,\u001b[0m \u001b[1;36m2\u001b[0m\u001b[1;33m,\u001b[0m \u001b[1;36m3\u001b[0m\u001b[1;33m]\u001b[0m\u001b[1;33m)\u001b[0m\u001b[1;33m)\u001b[0m\u001b[1;33m\u001b[0m\u001b[1;33m\u001b[0m\u001b[0m\n\u001b[0m",
      "\u001b[1;32m<ipython-input-208-476d3e353b05>\u001b[0m in \u001b[0;36mheavyside\u001b[1;34m(x)\u001b[0m\n\u001b[0;32m      1\u001b[0m \u001b[1;32mdef\u001b[0m \u001b[0mheavyside\u001b[0m\u001b[1;33m(\u001b[0m\u001b[0mx\u001b[0m\u001b[1;33m)\u001b[0m\u001b[1;33m:\u001b[0m\u001b[1;33m\u001b[0m\u001b[1;33m\u001b[0m\u001b[0m\n\u001b[1;32m----> 2\u001b[1;33m     \u001b[1;32mif\u001b[0m \u001b[0mx\u001b[0m \u001b[1;33m>=\u001b[0m \u001b[1;36m0\u001b[0m\u001b[1;33m:\u001b[0m\u001b[1;33m\u001b[0m\u001b[1;33m\u001b[0m\u001b[0m\n\u001b[0m\u001b[0;32m      3\u001b[0m         \u001b[1;32mreturn\u001b[0m \u001b[1;36m1\u001b[0m\u001b[1;33m\u001b[0m\u001b[1;33m\u001b[0m\u001b[0m\n\u001b[0;32m      4\u001b[0m     \u001b[1;32melse\u001b[0m\u001b[1;33m:\u001b[0m\u001b[1;33m\u001b[0m\u001b[1;33m\u001b[0m\u001b[0m\n\u001b[0;32m      5\u001b[0m         \u001b[1;32mreturn\u001b[0m \u001b[1;36m0\u001b[0m\u001b[1;33m\u001b[0m\u001b[1;33m\u001b[0m\u001b[0m\n",
      "\u001b[1;31mValueError\u001b[0m: The truth value of an array with more than one element is ambiguous. Use a.any() or a.all()"
     ]
    }
   ],
   "source": [
    "heavyside(np.array([-3, -2, -1, 0, 1, 2, 3]))"
   ]
  },
  {
   "cell_type": "code",
   "execution_count": null,
   "metadata": {
    "ExecuteTime": {
     "end_time": "2021-03-10T14:45:57.780468Z",
     "start_time": "2021-03-10T14:45:57.774991Z"
    }
   },
   "outputs": [],
   "source": [
    "heavyside_vec = np.vectorize(heavyside)"
   ]
  },
  {
   "cell_type": "code",
   "execution_count": null,
   "metadata": {
    "ExecuteTime": {
     "end_time": "2021-03-10T14:46:37.485007Z",
     "start_time": "2021-03-10T14:46:37.476991Z"
    }
   },
   "outputs": [],
   "source": [
    "heavyside_vec(np.array([-3, -2, -1, 0, 1, 2, 3]))"
   ]
  },
  {
   "cell_type": "markdown",
   "metadata": {},
   "source": [
    "Тем не менее, лучше сразу пишите так:"
   ]
  },
  {
   "cell_type": "code",
   "execution_count": null,
   "metadata": {
    "ExecuteTime": {
     "end_time": "2021-03-10T14:46:40.709742Z",
     "start_time": "2021-03-10T14:46:40.706431Z"
    }
   },
   "outputs": [],
   "source": [
    "def heavyside(x):\n",
    "    return 1 * (x >= 0)"
   ]
  },
  {
   "cell_type": "code",
   "execution_count": null,
   "metadata": {
    "ExecuteTime": {
     "end_time": "2021-03-10T14:46:41.056676Z",
     "start_time": "2021-03-10T14:46:41.049135Z"
    }
   },
   "outputs": [],
   "source": [
    "heavyside(np.array([-3,-2,-1,0,1,2,3]))"
   ]
  },
  {
   "cell_type": "code",
   "execution_count": null,
   "metadata": {
    "ExecuteTime": {
     "end_time": "2021-03-10T14:46:41.285117Z",
     "start_time": "2021-03-10T14:46:41.277963Z"
    }
   },
   "outputs": [],
   "source": [
    "np.array([-3,-2,-1,0,1,2,3]) >= 0"
   ]
  },
  {
   "cell_type": "code",
   "execution_count": null,
   "metadata": {
    "ExecuteTime": {
     "end_time": "2021-03-10T14:46:41.869271Z",
     "start_time": "2021-03-10T14:46:41.864256Z"
    }
   },
   "outputs": [],
   "source": [
    "1 * (np.array([-3,-2,-1,0,1,2,3]) >= 0)"
   ]
  },
  {
   "cell_type": "markdown",
   "metadata": {},
   "source": [
    "** Условные выражения **"
   ]
  },
  {
   "cell_type": "markdown",
   "metadata": {},
   "source": [
    "Как вы уже поняли, для вектора конструкция типа if (vector) не подходит."
   ]
  },
  {
   "cell_type": "code",
   "execution_count": null,
   "metadata": {
    "ExecuteTime": {
     "end_time": "2021-03-10T14:46:47.561857Z",
     "start_time": "2021-03-10T14:46:47.555425Z"
    }
   },
   "outputs": [],
   "source": [
    "if (M > 5).any():\n",
    "    print(\"at least one element in M is larger than 5\")\n",
    "else:\n",
    "    print(\"no element in M is larger than 5\")"
   ]
  },
  {
   "cell_type": "code",
   "execution_count": null,
   "metadata": {
    "ExecuteTime": {
     "end_time": "2021-03-10T14:46:50.256218Z",
     "start_time": "2021-03-10T14:46:50.251449Z"
    }
   },
   "outputs": [],
   "source": [
    "if (M > 5).all():\n",
    "    print(\"all elements in M are larger than 5\")\n",
    "else:\n",
    "    print(\"all elements in M are not larger than 5\")"
   ]
  },
  {
   "cell_type": "markdown",
   "metadata": {},
   "source": [
    "## TLDR:\n",
    "- всегда используйте встроенные в np функции;\n",
    "- векторизуйте везде, где это возможно!"
   ]
  },
  {
   "cell_type": "markdown",
   "metadata": {},
   "source": [
    "# 2.5. Numpy - I/O."
   ]
  },
  {
   "cell_type": "markdown",
   "metadata": {},
   "source": [
    "В данном случае у нас на выбор 2 опции - либо формат numpy, либо просто текстовый файл."
   ]
  },
  {
   "cell_type": "code",
   "execution_count": null,
   "metadata": {
    "ExecuteTime": {
     "end_time": "2021-03-10T17:19:01.429359Z",
     "start_time": "2021-03-10T17:19:01.424925Z"
    }
   },
   "outputs": [],
   "source": [
    "np.save(\"random.npy\", M)"
   ]
  },
  {
   "cell_type": "code",
   "execution_count": null,
   "metadata": {
    "ExecuteTime": {
     "end_time": "2021-03-10T17:19:02.685467Z",
     "start_time": "2021-03-10T17:19:02.554124Z"
    }
   },
   "outputs": [],
   "source": [
    "!ls"
   ]
  },
  {
   "cell_type": "code",
   "execution_count": null,
   "metadata": {
    "ExecuteTime": {
     "end_time": "2021-03-10T17:19:20.018002Z",
     "start_time": "2021-03-10T17:19:20.011207Z"
    }
   },
   "outputs": [],
   "source": [
    "np.load(\"random.npy\")"
   ]
  },
  {
   "cell_type": "code",
   "execution_count": null,
   "metadata": {
    "ExecuteTime": {
     "end_time": "2021-03-10T17:19:25.172295Z",
     "start_time": "2021-03-10T17:19:25.167018Z"
    }
   },
   "outputs": [],
   "source": [
    "np.savetxt('random.csv', M, delimiter='\\t')"
   ]
  },
  {
   "cell_type": "code",
   "execution_count": null,
   "metadata": {
    "ExecuteTime": {
     "end_time": "2021-03-10T14:47:27.075436Z",
     "start_time": "2021-03-10T14:47:26.946722Z"
    }
   },
   "outputs": [],
   "source": [
    "! cat random.csv"
   ]
  },
  {
   "cell_type": "code",
   "execution_count": null,
   "metadata": {
    "ExecuteTime": {
     "end_time": "2021-03-10T17:19:29.752180Z",
     "start_time": "2021-03-10T17:19:29.745005Z"
    }
   },
   "outputs": [],
   "source": [
    "np.loadtxt('random.csv')"
   ]
  },
  {
   "cell_type": "code",
   "execution_count": null,
   "metadata": {},
   "outputs": [],
   "source": []
  },
  {
   "cell_type": "code",
   "execution_count": null,
   "metadata": {},
   "outputs": [],
   "source": []
  },
  {
   "cell_type": "code",
   "execution_count": null,
   "metadata": {},
   "outputs": [],
   "source": []
  }
 ],
 "metadata": {
  "kernelspec": {
   "display_name": "Python 3",
   "language": "python",
   "name": "python3"
  },
  "language_info": {
   "codemirror_mode": {
    "name": "ipython",
    "version": 3
   },
   "file_extension": ".py",
   "mimetype": "text/x-python",
   "name": "python",
   "nbconvert_exporter": "python",
   "pygments_lexer": "ipython3",
   "version": "3.8.5"
  },
  "toc": {
   "base_numbering": 1,
   "nav_menu": {
    "height": "170px",
    "width": "252px"
   },
   "number_sections": true,
   "sideBar": true,
   "skip_h1_title": false,
   "title_cell": "Table of Contents",
   "title_sidebar": "Contents",
   "toc_cell": true,
   "toc_position": {},
   "toc_section_display": "block",
   "toc_window_display": false
  }
 },
 "nbformat": 4,
 "nbformat_minor": 4
}
