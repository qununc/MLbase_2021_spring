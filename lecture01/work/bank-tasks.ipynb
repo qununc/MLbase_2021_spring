{
 "cells": [
  {
   "cell_type": "markdown",
   "metadata": {
    "toc": "true"
   },
   "source": [
    "<h1>Table of Contents<span class=\"tocSkip\"></span></h1>\n",
    "<div class=\"toc\"><ul class=\"toc-item\"><li><span><a href=\"#Введение-в-машинное-обучение\" data-toc-modified-id=\"Введение-в-машинное-обучение-1\">Введение в машинное обучение</a></span><ul class=\"toc-item\"><li><span><a href=\"#Предварительный-анализ-данных\" data-toc-modified-id=\"Предварительный-анализ-данных-1.1\">Предварительный анализ данных</a></span></li><li><span><a href=\"#Описание-данных\" data-toc-modified-id=\"Описание-данных-1.2\">Описание данных</a></span></li><li><span><a href=\"#1)-Смотрим-размер-набора-данных\" data-toc-modified-id=\"1)-Смотрим-размер-набора-данных-1.3\">1) Смотрим размер набора данных</a></span></li><li><span><a href=\"#2)-Выводим-названия-колонок\" data-toc-modified-id=\"2)-Выводим-названия-колонок-1.4\">2) Выводим названия колонок</a></span></li><li><span><a href=\"#3)-Смотрим-информацию-по-каждой-колонке\" data-toc-modified-id=\"3)-Смотрим-информацию-по-каждой-колонке-1.5\">3) Смотрим информацию по каждой колонке</a></span></li><li><span><a href=\"#4)-Выводим-характеристики-каждого-признака\" data-toc-modified-id=\"4)-Выводим-характеристики-каждого-признака-1.6\">4) Выводим характеристики каждого признака</a></span></li><li><span><a href=\"#5)-Выводим-соотношение-между-1-и-0-для-SeriousDlqin2yrs\" data-toc-modified-id=\"5)-Выводим-соотношение-между-1-и-0-для-SeriousDlqin2yrs-1.7\">5) Выводим соотношение между 1 и 0 для SeriousDlqin2yrs</a></span></li><li><span><a href=\"#6)-Определим-средний-возраст\" data-toc-modified-id=\"6)-Определим-средний-возраст-1.8\">6) Определим средний возраст</a></span></li><li><span><a href=\"#7)-Создадим-свобную-табличку-для-SeriousDlqin2yrs-по-признакам:\" data-toc-modified-id=\"7)-Создадим-свобную-табличку-для-SeriousDlqin2yrs-по-признакам:-1.9\">7) Создадим свобную табличку для SeriousDlqin2yrs по признакам:</a></span></li><li><span><a href=\"#8)-Визуализируем-распределение-переменной-age-для-SeriousDlqin2yrs\" data-toc-modified-id=\"8)-Визуализируем-распределение-переменной-age-для-SeriousDlqin2yrs-1.10\">8) Визуализируем распределение переменной age для SeriousDlqin2yrs</a></span></li><li><span><a href=\"#9)-Посмотрим-на-частоты-признака-NumberOfDependents\" data-toc-modified-id=\"9)-Посмотрим-на-частоты-признака-NumberOfDependents-1.11\">9) Посмотрим на частоты признака NumberOfDependents</a></span></li><li><span><a href=\"#10)-Узнаем-максимальное-значение-по-каждому-признаку\" data-toc-modified-id=\"10)-Узнаем-максимальное-значение-по-каждому-признаку-1.12\">10) Узнаем максимальное значение по каждому признаку</a></span></li><li><span><a href=\"#11)-Выведем-ту-часть-таблицы,-для-которой-значение-признака-age->-65\" data-toc-modified-id=\"11)-Выведем-ту-часть-таблицы,-для-которой-значение-признака-age->-65-1.13\">11) Выведем ту часть таблицы, для которой значение признака age &gt; 65</a></span></li><li><span><a href=\"#12)-Сгруппируем-таблицу-по-SeriousDlqin2yrs-и-посмотрим-статистику-для-признаков-'RevolvingUtilizationOfUnsecuredLines',-'age',-'DebtRatio'\" data-toc-modified-id=\"12)-Сгруппируем-таблицу-по-SeriousDlqin2yrs-и-посмотрим-статистику-для-признаков-'RevolvingUtilizationOfUnsecuredLines',-'age',-'DebtRatio'-1.14\">12) Сгруппируем таблицу по SeriousDlqin2yrs и посмотрим статистику для признаков 'RevolvingUtilizationOfUnsecuredLines', 'age', 'DebtRatio'</a></span></li><li><span><a href=\"#13)-Тоже-самое,-только-для-mean,-std,-min,-max\" data-toc-modified-id=\"13)-Тоже-самое,-только-для-mean,-std,-min,-max-1.15\">13) Тоже самое, только для mean, std, min, max</a></span></li><li><span><a href=\"#14)-Построим-crosstab-для-полей-SeriousDlqin2yrs-и-age\" data-toc-modified-id=\"14)-Построим-crosstab-для-полей-SeriousDlqin2yrs-и-age-1.16\">14) Построим crosstab для полей SeriousDlqin2yrs и age</a></span></li><li><span><a href=\"#15)-Построим-crosstab-для-полей-SeriousDlqin2yrs-и-age-+-нормализация\" data-toc-modified-id=\"15)-Построим-crosstab-для-полей-SeriousDlqin2yrs-и-age-+-нормализация-1.17\">15) Построим crosstab для полей SeriousDlqin2yrs и age + нормализация</a></span></li></ul></li></ul></div>"
   ]
  },
  {
   "cell_type": "markdown",
   "metadata": {},
   "source": [
    "# Введение в машинное обучение"
   ]
  },
  {
   "cell_type": "markdown",
   "metadata": {},
   "source": [
    "## Предварительный анализ данных"
   ]
  },
  {
   "cell_type": "code",
   "execution_count": 1,
   "metadata": {},
   "outputs": [],
   "source": [
    "import pandas as pd\n",
    "import numpy as np"
   ]
  },
  {
   "cell_type": "code",
   "execution_count": 2,
   "metadata": {},
   "outputs": [],
   "source": [
    "import matplotlib.pyplot as plt\n",
    "%matplotlib inline"
   ]
  },
  {
   "cell_type": "code",
   "execution_count": 3,
   "metadata": {},
   "outputs": [],
   "source": [
    "df = pd.read_csv('./data/bank-data.csv.gz', compression='gzip', sep=',')"
   ]
  },
  {
   "cell_type": "code",
   "execution_count": 4,
   "metadata": {},
   "outputs": [
    {
     "output_type": "execute_result",
     "data": {
      "text/plain": [
       "   SeriousDlqin2yrs  RevolvingUtilizationOfUnsecuredLines  age  \\\n",
       "1                 1                              0.766127   45   \n",
       "2                 0                              0.957151   40   \n",
       "3                 0                              0.658180   38   \n",
       "4                 0                              0.233810   30   \n",
       "5                 0                              0.907239   49   \n",
       "\n",
       "   NumberOfTime30-59DaysPastDueNotWorse  DebtRatio  MonthlyIncome  \\\n",
       "1                                     2   0.802982         9120.0   \n",
       "2                                     0   0.121876         2600.0   \n",
       "3                                     1   0.085113         3042.0   \n",
       "4                                     0   0.036050         3300.0   \n",
       "5                                     1   0.024926        63588.0   \n",
       "\n",
       "   NumberOfOpenCreditLinesAndLoans  NumberOfTimes90DaysLate  \\\n",
       "1                               13                        0   \n",
       "2                                4                        0   \n",
       "3                                2                        1   \n",
       "4                                5                        0   \n",
       "5                                7                        0   \n",
       "\n",
       "   NumberRealEstateLoansOrLines  NumberOfTime60-89DaysPastDueNotWorse  \\\n",
       "1                             6                                     0   \n",
       "2                             0                                     0   \n",
       "3                             0                                     0   \n",
       "4                             0                                     0   \n",
       "5                             1                                     0   \n",
       "\n",
       "   NumberOfDependents  \n",
       "1                 2.0  \n",
       "2                 1.0  \n",
       "3                 0.0  \n",
       "4                 0.0  \n",
       "5                 0.0  "
      ],
      "text/html": "<div>\n<style scoped>\n    .dataframe tbody tr th:only-of-type {\n        vertical-align: middle;\n    }\n\n    .dataframe tbody tr th {\n        vertical-align: top;\n    }\n\n    .dataframe thead th {\n        text-align: right;\n    }\n</style>\n<table border=\"1\" class=\"dataframe\">\n  <thead>\n    <tr style=\"text-align: right;\">\n      <th></th>\n      <th>SeriousDlqin2yrs</th>\n      <th>RevolvingUtilizationOfUnsecuredLines</th>\n      <th>age</th>\n      <th>NumberOfTime30-59DaysPastDueNotWorse</th>\n      <th>DebtRatio</th>\n      <th>MonthlyIncome</th>\n      <th>NumberOfOpenCreditLinesAndLoans</th>\n      <th>NumberOfTimes90DaysLate</th>\n      <th>NumberRealEstateLoansOrLines</th>\n      <th>NumberOfTime60-89DaysPastDueNotWorse</th>\n      <th>NumberOfDependents</th>\n    </tr>\n  </thead>\n  <tbody>\n    <tr>\n      <th>1</th>\n      <td>1</td>\n      <td>0.766127</td>\n      <td>45</td>\n      <td>2</td>\n      <td>0.802982</td>\n      <td>9120.0</td>\n      <td>13</td>\n      <td>0</td>\n      <td>6</td>\n      <td>0</td>\n      <td>2.0</td>\n    </tr>\n    <tr>\n      <th>2</th>\n      <td>0</td>\n      <td>0.957151</td>\n      <td>40</td>\n      <td>0</td>\n      <td>0.121876</td>\n      <td>2600.0</td>\n      <td>4</td>\n      <td>0</td>\n      <td>0</td>\n      <td>0</td>\n      <td>1.0</td>\n    </tr>\n    <tr>\n      <th>3</th>\n      <td>0</td>\n      <td>0.658180</td>\n      <td>38</td>\n      <td>1</td>\n      <td>0.085113</td>\n      <td>3042.0</td>\n      <td>2</td>\n      <td>1</td>\n      <td>0</td>\n      <td>0</td>\n      <td>0.0</td>\n    </tr>\n    <tr>\n      <th>4</th>\n      <td>0</td>\n      <td>0.233810</td>\n      <td>30</td>\n      <td>0</td>\n      <td>0.036050</td>\n      <td>3300.0</td>\n      <td>5</td>\n      <td>0</td>\n      <td>0</td>\n      <td>0</td>\n      <td>0.0</td>\n    </tr>\n    <tr>\n      <th>5</th>\n      <td>0</td>\n      <td>0.907239</td>\n      <td>49</td>\n      <td>1</td>\n      <td>0.024926</td>\n      <td>63588.0</td>\n      <td>7</td>\n      <td>0</td>\n      <td>1</td>\n      <td>0</td>\n      <td>0.0</td>\n    </tr>\n  </tbody>\n</table>\n</div>"
     },
     "metadata": {},
     "execution_count": 4
    }
   ],
   "source": [
    "df.head()"
   ]
  },
  {
   "cell_type": "markdown",
   "metadata": {},
   "source": [
    "# SeriousDlqin2yrs\n",
    "Целевая переменная, флаг выхода на просрочку через 90 дней"
   ]
  },
  {
   "cell_type": "markdown",
   "metadata": {},
   "source": [
    "* SeriousDlqin2yrs - Person experienced 90 days past due delinquency or worse \n",
    "* RevolvingUtilizationOfUnsecuredLines - Total balance on credit cards and personal lines of credit except real estate and no installment debt like car loans divided by the sum of credit limits\n",
    "* age - Age of borrower in years\n",
    "* NumberOfTime30-59DaysPastDueNotWorse - Number of times borrower has been 30-59 days past due but no worse in the last 2 years.\n",
    "* DebtRatio - Monthly debt payments, alimony,living costs divided by monthy gross income\n",
    "* MonthlyIncome - Monthly income\n",
    "* NumberOfOpenCreditLinesAndLoans - Number of Open loans (installment like car loan or mortgage) and Lines of credit (e.g. credit cards)\n",
    "* NumberOfTimes90DaysLate - Number of times borrower has been 90 days or more past due.\n",
    "* NumberRealEstateLoansOrLines - Number of mortgage and real estate loans including home equity lines of credit\n",
    "* NumberOfTime60-89DaysPastDueNotWorse - Number of times borrower has been 60-89 days past due but no worse in the last 2 years.\n",
    "* NumberOfDependents - Number of dependents in family excluding themselves (spouse, children etc.)"
   ]
  },
  {
   "cell_type": "markdown",
   "metadata": {},
   "source": [
    "* SeriousDlqin2yrs - Флаг выхода на просрочку через 90 дней\n",
    "* RevolvingUtilizationOfUnsecuredLines - Общий баланс по кредитным картам и личным кредитным линиям, за исключением недвижимости, и без задолженности по кредитам, таким как автокредиты, деленные на сумму кредитных лимитов\n",
    "* age - Возраст заёмщика в годах\n",
    "* NumberOfTime30-59DaysPastDueNotWorse - Сколько раз заемщик просрочил выплату не более, чем на 30-59 дней, за последние 2 года.\n",
    "* DebtRatio - Ежемесячные платежи по долгам, алименты и прожиточные расходы, делённые на месячный валовый доход\n",
    "* MonthlyIncome - Ежемесячный доход\n",
    "* NumberOfOpenCreditLinesAndLoans - Количество открытых кредитов (например, автокредит или закладная, кредитные карты и т.д.)\n",
    "* NumberOfTimes90DaysLate - Сколько раз заёмщик просрочил выплату на 90 дней и более.\n",
    "* NumberRealEstateLoansOrLines - Количество ипотечных кредитов и кредитов на недвижимость\n",
    "* NumberOfTime60-89DaysPastDueNotWorse - Сколько раз заёмщик просрочил выплату не более, чем на 60-89 дней, за последние 2 года.\n",
    "* NumberOfDependents - Количество иждивенцев в семье, исключая самого заёмщика (супруга, дети и т.д.)"
   ]
  },
  {
   "cell_type": "markdown",
   "metadata": {},
   "source": [
    "## 1) Смотрим размер набора данных"
   ]
  },
  {
   "cell_type": "markdown",
   "metadata": {},
   "source": [
    "см. shape"
   ]
  },
  {
   "cell_type": "code",
   "execution_count": 5,
   "metadata": {},
   "outputs": [
    {
     "output_type": "execute_result",
     "data": {
      "text/plain": [
       "(150000, 11)"
      ]
     },
     "metadata": {},
     "execution_count": 5
    }
   ],
   "source": [
    "df.shape"
   ]
  },
  {
   "source": [
    "см. columns"
   ],
   "cell_type": "markdown",
   "metadata": {}
  },
  {
   "cell_type": "code",
   "execution_count": 7,
   "metadata": {},
   "outputs": [
    {
     "output_type": "execute_result",
     "data": {
      "text/plain": [
       "Index(['SeriousDlqin2yrs', 'RevolvingUtilizationOfUnsecuredLines', 'age',\n",
       "       'NumberOfTime30-59DaysPastDueNotWorse', 'DebtRatio', 'MonthlyIncome',\n",
       "       'NumberOfOpenCreditLinesAndLoans', 'NumberOfTimes90DaysLate',\n",
       "       'NumberRealEstateLoansOrLines', 'NumberOfTime60-89DaysPastDueNotWorse',\n",
       "       'NumberOfDependents'],\n",
       "      dtype='object')"
      ]
     },
     "metadata": {},
     "execution_count": 7
    }
   ],
   "source": [
    "df.col"
   ]
  },
  {
   "cell_type": "markdown",
   "metadata": {},
   "source": [
    "## 3) Смотрим информацию по каждой колонке"
   ]
  },
  {
   "cell_type": "markdown",
   "metadata": {},
   "source": [
    "см. info"
   ]
  },
  {
   "cell_type": "code",
   "execution_count": 10,
   "metadata": {},
   "outputs": [
    {
     "output_type": "stream",
     "name": "stdout",
     "text": [
      "<class 'pandas.core.frame.DataFrame'>\nInt64Index: 150000 entries, 1 to 150000\nData columns (total 11 columns):\n #   Column                                Non-Null Count   Dtype  \n---  ------                                --------------   -----  \n 0   SeriousDlqin2yrs                      150000 non-null  int64  \n 1   RevolvingUtilizationOfUnsecuredLines  150000 non-null  float64\n 2   age                                   150000 non-null  int64  \n 3   NumberOfTime30-59DaysPastDueNotWorse  150000 non-null  int64  \n 4   DebtRatio                             150000 non-null  float64\n 5   MonthlyIncome                         120269 non-null  float64\n 6   NumberOfOpenCreditLinesAndLoans       150000 non-null  int64  \n 7   NumberOfTimes90DaysLate               150000 non-null  int64  \n 8   NumberRealEstateLoansOrLines          150000 non-null  int64  \n 9   NumberOfTime60-89DaysPastDueNotWorse  150000 non-null  int64  \n 10  NumberOfDependents                    146076 non-null  float64\ndtypes: float64(4), int64(7)\nmemory usage: 13.7 MB\n"
     ]
    }
   ],
   "source": [
    "df.info()"
   ]
  },
  {
   "cell_type": "markdown",
   "metadata": {},
   "source": [
    "## 4) Выводим характеристики каждого признака"
   ]
  },
  {
   "cell_type": "markdown",
   "metadata": {},
   "source": [
    "см. describe"
   ]
  },
  {
   "cell_type": "code",
   "execution_count": 12,
   "metadata": {},
   "outputs": [
    {
     "output_type": "execute_result",
     "data": {
      "text/plain": [
       "       SeriousDlqin2yrs  RevolvingUtilizationOfUnsecuredLines            age  \\\n",
       "count     150000.000000                         150000.000000  150000.000000   \n",
       "mean           0.066840                              6.048438      52.295207   \n",
       "std            0.249746                            249.755371      14.771866   \n",
       "min            0.000000                              0.000000       0.000000   \n",
       "25%            0.000000                              0.029867      41.000000   \n",
       "50%            0.000000                              0.154181      52.000000   \n",
       "75%            0.000000                              0.559046      63.000000   \n",
       "max            1.000000                          50708.000000     109.000000   \n",
       "\n",
       "       NumberOfTime30-59DaysPastDueNotWorse      DebtRatio  MonthlyIncome  \\\n",
       "count                         150000.000000  150000.000000   1.202690e+05   \n",
       "mean                               0.421033     353.005076   6.670221e+03   \n",
       "std                                4.192781    2037.818523   1.438467e+04   \n",
       "min                                0.000000       0.000000   0.000000e+00   \n",
       "25%                                0.000000       0.175074   3.400000e+03   \n",
       "50%                                0.000000       0.366508   5.400000e+03   \n",
       "75%                                0.000000       0.868254   8.249000e+03   \n",
       "max                               98.000000  329664.000000   3.008750e+06   \n",
       "\n",
       "       NumberOfOpenCreditLinesAndLoans  NumberOfTimes90DaysLate  \\\n",
       "count                    150000.000000            150000.000000   \n",
       "mean                          8.452760                 0.265973   \n",
       "std                           5.145951                 4.169304   \n",
       "min                           0.000000                 0.000000   \n",
       "25%                           5.000000                 0.000000   \n",
       "50%                           8.000000                 0.000000   \n",
       "75%                          11.000000                 0.000000   \n",
       "max                          58.000000                98.000000   \n",
       "\n",
       "       NumberRealEstateLoansOrLines  NumberOfTime60-89DaysPastDueNotWorse  \\\n",
       "count                 150000.000000                         150000.000000   \n",
       "mean                       1.018240                              0.240387   \n",
       "std                        1.129771                              4.155179   \n",
       "min                        0.000000                              0.000000   \n",
       "25%                        0.000000                              0.000000   \n",
       "50%                        1.000000                              0.000000   \n",
       "75%                        2.000000                              0.000000   \n",
       "max                       54.000000                             98.000000   \n",
       "\n",
       "       NumberOfDependents  \n",
       "count       146076.000000  \n",
       "mean             0.757222  \n",
       "std              1.115086  \n",
       "min              0.000000  \n",
       "25%              0.000000  \n",
       "50%              0.000000  \n",
       "75%              1.000000  \n",
       "max             20.000000  "
      ],
      "text/html": "<div>\n<style scoped>\n    .dataframe tbody tr th:only-of-type {\n        vertical-align: middle;\n    }\n\n    .dataframe tbody tr th {\n        vertical-align: top;\n    }\n\n    .dataframe thead th {\n        text-align: right;\n    }\n</style>\n<table border=\"1\" class=\"dataframe\">\n  <thead>\n    <tr style=\"text-align: right;\">\n      <th></th>\n      <th>SeriousDlqin2yrs</th>\n      <th>RevolvingUtilizationOfUnsecuredLines</th>\n      <th>age</th>\n      <th>NumberOfTime30-59DaysPastDueNotWorse</th>\n      <th>DebtRatio</th>\n      <th>MonthlyIncome</th>\n      <th>NumberOfOpenCreditLinesAndLoans</th>\n      <th>NumberOfTimes90DaysLate</th>\n      <th>NumberRealEstateLoansOrLines</th>\n      <th>NumberOfTime60-89DaysPastDueNotWorse</th>\n      <th>NumberOfDependents</th>\n    </tr>\n  </thead>\n  <tbody>\n    <tr>\n      <th>count</th>\n      <td>150000.000000</td>\n      <td>150000.000000</td>\n      <td>150000.000000</td>\n      <td>150000.000000</td>\n      <td>150000.000000</td>\n      <td>1.202690e+05</td>\n      <td>150000.000000</td>\n      <td>150000.000000</td>\n      <td>150000.000000</td>\n      <td>150000.000000</td>\n      <td>146076.000000</td>\n    </tr>\n    <tr>\n      <th>mean</th>\n      <td>0.066840</td>\n      <td>6.048438</td>\n      <td>52.295207</td>\n      <td>0.421033</td>\n      <td>353.005076</td>\n      <td>6.670221e+03</td>\n      <td>8.452760</td>\n      <td>0.265973</td>\n      <td>1.018240</td>\n      <td>0.240387</td>\n      <td>0.757222</td>\n    </tr>\n    <tr>\n      <th>std</th>\n      <td>0.249746</td>\n      <td>249.755371</td>\n      <td>14.771866</td>\n      <td>4.192781</td>\n      <td>2037.818523</td>\n      <td>1.438467e+04</td>\n      <td>5.145951</td>\n      <td>4.169304</td>\n      <td>1.129771</td>\n      <td>4.155179</td>\n      <td>1.115086</td>\n    </tr>\n    <tr>\n      <th>min</th>\n      <td>0.000000</td>\n      <td>0.000000</td>\n      <td>0.000000</td>\n      <td>0.000000</td>\n      <td>0.000000</td>\n      <td>0.000000e+00</td>\n      <td>0.000000</td>\n      <td>0.000000</td>\n      <td>0.000000</td>\n      <td>0.000000</td>\n      <td>0.000000</td>\n    </tr>\n    <tr>\n      <th>25%</th>\n      <td>0.000000</td>\n      <td>0.029867</td>\n      <td>41.000000</td>\n      <td>0.000000</td>\n      <td>0.175074</td>\n      <td>3.400000e+03</td>\n      <td>5.000000</td>\n      <td>0.000000</td>\n      <td>0.000000</td>\n      <td>0.000000</td>\n      <td>0.000000</td>\n    </tr>\n    <tr>\n      <th>50%</th>\n      <td>0.000000</td>\n      <td>0.154181</td>\n      <td>52.000000</td>\n      <td>0.000000</td>\n      <td>0.366508</td>\n      <td>5.400000e+03</td>\n      <td>8.000000</td>\n      <td>0.000000</td>\n      <td>1.000000</td>\n      <td>0.000000</td>\n      <td>0.000000</td>\n    </tr>\n    <tr>\n      <th>75%</th>\n      <td>0.000000</td>\n      <td>0.559046</td>\n      <td>63.000000</td>\n      <td>0.000000</td>\n      <td>0.868254</td>\n      <td>8.249000e+03</td>\n      <td>11.000000</td>\n      <td>0.000000</td>\n      <td>2.000000</td>\n      <td>0.000000</td>\n      <td>1.000000</td>\n    </tr>\n    <tr>\n      <th>max</th>\n      <td>1.000000</td>\n      <td>50708.000000</td>\n      <td>109.000000</td>\n      <td>98.000000</td>\n      <td>329664.000000</td>\n      <td>3.008750e+06</td>\n      <td>58.000000</td>\n      <td>98.000000</td>\n      <td>54.000000</td>\n      <td>98.000000</td>\n      <td>20.000000</td>\n    </tr>\n  </tbody>\n</table>\n</div>"
     },
     "metadata": {},
     "execution_count": 12
    }
   ],
   "source": [
    "df.describe()"
   ]
  },
  {
   "cell_type": "markdown",
   "metadata": {},
   "source": [
    "## 5) Выводим соотношение между 1 и 0 для SeriousDlqin2yrs"
   ]
  },
  {
   "cell_type": "markdown",
   "metadata": {},
   "source": [
    "см. value_counts"
   ]
  },
  {
   "cell_type": "code",
   "execution_count": null,
   "metadata": {},
   "outputs": [],
   "source": []
  },
  {
   "cell_type": "markdown",
   "metadata": {},
   "source": [
    "## 6) Определим средний возраст"
   ]
  },
  {
   "cell_type": "markdown",
   "metadata": {},
   "source": [
    "см. mean"
   ]
  },
  {
   "cell_type": "code",
   "execution_count": null,
   "metadata": {},
   "outputs": [],
   "source": []
  },
  {
   "cell_type": "markdown",
   "metadata": {},
   "source": [
    "## 7) Создадим свобную табличку для SeriousDlqin2yrs по признакам:\n",
    "* NumberOfTime30-59DaysPastDueNotWorse \n",
    "* NumberOfTime60-89DaysPastDueNotWorse\n",
    "* NumberOfTimes90DaysLate\n",
    "\n",
    "Соберём по mean"
   ]
  },
  {
   "cell_type": "markdown",
   "metadata": {},
   "source": [
    "см. pivot_table"
   ]
  },
  {
   "cell_type": "code",
   "execution_count": null,
   "metadata": {},
   "outputs": [],
   "source": [
    "df.pivot_table?"
   ]
  },
  {
   "cell_type": "markdown",
   "metadata": {},
   "source": [
    "## 8) Визуализируем распределение переменной age для SeriousDlqin2yrs"
   ]
  },
  {
   "cell_type": "markdown",
   "metadata": {},
   "source": [
    "см. hist"
   ]
  },
  {
   "cell_type": "code",
   "execution_count": null,
   "metadata": {},
   "outputs": [],
   "source": []
  },
  {
   "cell_type": "markdown",
   "metadata": {},
   "source": [
    "## 9) Посмотрим на частоты признака NumberOfDependents"
   ]
  },
  {
   "cell_type": "markdown",
   "metadata": {},
   "source": [
    "см. value_counts + normalize"
   ]
  },
  {
   "cell_type": "code",
   "execution_count": null,
   "metadata": {},
   "outputs": [],
   "source": []
  },
  {
   "cell_type": "markdown",
   "metadata": {},
   "source": [
    "## 10) Узнаем максимальное значение по каждому признаку"
   ]
  },
  {
   "cell_type": "markdown",
   "metadata": {},
   "source": [
    "см. apply + max"
   ]
  },
  {
   "cell_type": "code",
   "execution_count": null,
   "metadata": {},
   "outputs": [],
   "source": []
  },
  {
   "cell_type": "markdown",
   "metadata": {},
   "source": [
    "## 11) Выведем ту часть таблицы, для которой значение признака age > 65"
   ]
  },
  {
   "cell_type": "markdown",
   "metadata": {},
   "source": [
    "см. map + lambda"
   ]
  },
  {
   "cell_type": "code",
   "execution_count": null,
   "metadata": {},
   "outputs": [],
   "source": []
  },
  {
   "cell_type": "markdown",
   "metadata": {},
   "source": [
    "## 12) Сгруппируем таблицу по SeriousDlqin2yrs и посмотрим статистику для признаков 'RevolvingUtilizationOfUnsecuredLines', 'age', 'DebtRatio'"
   ]
  },
  {
   "cell_type": "markdown",
   "metadata": {},
   "source": [
    "см. groupby + describe(percentiles=[])"
   ]
  },
  {
   "cell_type": "code",
   "execution_count": null,
   "metadata": {},
   "outputs": [],
   "source": []
  },
  {
   "cell_type": "markdown",
   "metadata": {},
   "source": [
    "## 13) Тоже самое, только для mean, std, min, max"
   ]
  },
  {
   "cell_type": "markdown",
   "metadata": {},
   "source": [
    "см. groupby + agg + [np.mean, np.std, np.min, np.max]"
   ]
  },
  {
   "cell_type": "code",
   "execution_count": null,
   "metadata": {},
   "outputs": [],
   "source": []
  },
  {
   "cell_type": "markdown",
   "metadata": {},
   "source": [
    "## 14) Построим crosstab для полей SeriousDlqin2yrs и age"
   ]
  },
  {
   "cell_type": "markdown",
   "metadata": {},
   "source": [
    "см. crosstab"
   ]
  },
  {
   "cell_type": "code",
   "execution_count": null,
   "metadata": {},
   "outputs": [],
   "source": []
  },
  {
   "cell_type": "markdown",
   "metadata": {},
   "source": [
    "## 15) Построим crosstab для полей SeriousDlqin2yrs и age + нормализация"
   ]
  },
  {
   "cell_type": "markdown",
   "metadata": {},
   "source": [
    "см. crosstab + normalize=True"
   ]
  },
  {
   "cell_type": "code",
   "execution_count": null,
   "metadata": {},
   "outputs": [],
   "source": []
  }
 ],
 "metadata": {
  "kernelspec": {
   "name": "python3",
   "display_name": "Python 3.8.5 64-bit ('pysi38': conda)",
   "metadata": {
    "interpreter": {
     "hash": "2f4ff8a048a22b5b174a8f9bd03fbe9614069a3139b8c9eaad188764bd9bca47"
    }
   }
  },
  "language_info": {
   "codemirror_mode": {
    "name": "ipython",
    "version": 3
   },
   "file_extension": ".py",
   "mimetype": "text/x-python",
   "name": "python",
   "nbconvert_exporter": "python",
   "pygments_lexer": "ipython3",
   "version": "3.8.5-final"
  },
  "toc": {
   "base_numbering": 1,
   "nav_menu": {
    "height": "355px",
    "width": "252px"
   },
   "number_sections": false,
   "sideBar": true,
   "skip_h1_title": false,
   "title_cell": "Table of Contents",
   "title_sidebar": "Contents",
   "toc_cell": true,
   "toc_position": {},
   "toc_section_display": "block",
   "toc_window_display": false
  }
 },
 "nbformat": 4,
 "nbformat_minor": 4
}