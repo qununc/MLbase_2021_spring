{
 "cells": [
  {
   "cell_type": "code",
   "execution_count": 1,
   "id": "sound-bundle",
   "metadata": {},
   "outputs": [],
   "source": [
    "%matplotlib inline\n",
    "import numpy as np\n",
    "import pandas as pd\n",
    "import matplotlib.pyplot as plt\n",
    "\n",
    "plt.style.use('seaborn-talk')\n",
    "plt.rcParams['figure.figsize'] = (15,10)"
   ]
  },
  {
   "cell_type": "code",
   "execution_count": 27,
   "id": "cooked-negative",
   "metadata": {},
   "outputs": [],
   "source": [
    "df_train = pd.read_csv(os.path.join(os.getcwd(), './data/Train.csv.zip'))\n",
    "df_test = pd.read_csv('https://github.com/qununc/MLbase_2021_spring/raw/main/lecture05/keggle_competition/data/Test.csv.zip')"
   ]
  },
  {
   "cell_type": "code",
   "execution_count": 25,
   "id": "figured-leone",
   "metadata": {},
   "outputs": [
    {
     "name": "stdout",
     "output_type": "stream",
     "text": [
      "C:\\Users\\drouni\\Documents\\GitHub\\MLbase_2021_spring\\lecture05\\keggle_competition\\./data/Train.csv.zip\n"
     ]
    }
   ],
   "source": [
    "import os\n",
    "current_directory = os.getcwd()\n",
    "print(os.path.join(current_directory, './data/Train.csv.zip')) "
   ]
  },
  {
   "cell_type": "code",
   "execution_count": null,
   "id": "about-douglas",
   "metadata": {},
   "outputs": [],
   "source": []
  }
 ],
 "metadata": {
  "kernelspec": {
   "display_name": "Python 3",
   "language": "python",
   "name": "python3"
  },
  "language_info": {
   "codemirror_mode": {
    "name": "ipython",
    "version": 3
   },
   "file_extension": ".py",
   "mimetype": "text/x-python",
   "name": "python",
   "nbconvert_exporter": "python",
   "pygments_lexer": "ipython3",
   "version": "3.8.5"
  }
 },
 "nbformat": 4,
 "nbformat_minor": 5
}
