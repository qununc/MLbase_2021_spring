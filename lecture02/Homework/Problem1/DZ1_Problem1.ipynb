{
 "cells": [
  {
   "cell_type": "markdown",
   "metadata": {},
   "source": [
    "# Problem 1."
   ]
  },
  {
   "cell_type": "code",
   "execution_count": 49,
   "metadata": {
    "id": "oh_OFYjZ6_CY"
   },
   "outputs": [],
   "source": [
    "%matplotlib widget\n",
    "import numpy as np\n",
    "import pandas as pd\n",
    "import sklearn\n",
    "import matplotlib.pyplot as plt\n",
    "import time\n",
    "from sklearn.metrics import classification_report\n"
   ]
  },
  {
   "cell_type": "markdown",
   "metadata": {},
   "source": [
    "## 1. Инициализация и предобработка данных"
   ]
  },
  {
   "cell_type": "code",
   "execution_count": 50,
   "metadata": {
    "colab": {
     "base_uri": "https://localhost:8080/"
    },
    "executionInfo": {
     "elapsed": 1500,
     "status": "ok",
     "timestamp": 1616950052700,
     "user": {
      "displayName": "Aleksandr Litvinov",
      "photoUrl": "",
      "userId": "04845157337571496765"
     },
     "user_tz": -180
    },
    "id": "h8WpMVBJ-K8f",
    "outputId": "91abcc94-fffa-4dc0-c3b8-5cbd4788c140"
   },
   "outputs": [
    {
     "name": "stdout",
     "output_type": "stream",
     "text": [
      "<class 'pandas.core.frame.DataFrame'>\n",
      "RangeIndex: 145460 entries, 0 to 145459\n",
      "Data columns (total 23 columns):\n",
      " #   Column         Non-Null Count   Dtype  \n",
      "---  ------         --------------   -----  \n",
      " 0   Date           145460 non-null  object \n",
      " 1   Location       145460 non-null  object \n",
      " 2   MinTemp        143975 non-null  float64\n",
      " 3   MaxTemp        144199 non-null  float64\n",
      " 4   Rainfall       142199 non-null  float64\n",
      " 5   Evaporation    82670 non-null   float64\n",
      " 6   Sunshine       75625 non-null   float64\n",
      " 7   WindGustDir    135134 non-null  object \n",
      " 8   WindGustSpeed  135197 non-null  float64\n",
      " 9   WindDir9am     134894 non-null  object \n",
      " 10  WindDir3pm     141232 non-null  object \n",
      " 11  WindSpeed9am   143693 non-null  float64\n",
      " 12  WindSpeed3pm   142398 non-null  float64\n",
      " 13  Humidity9am    142806 non-null  float64\n",
      " 14  Humidity3pm    140953 non-null  float64\n",
      " 15  Pressure9am    130395 non-null  float64\n",
      " 16  Pressure3pm    130432 non-null  float64\n",
      " 17  Cloud9am       89572 non-null   float64\n",
      " 18  Cloud3pm       86102 non-null   float64\n",
      " 19  Temp9am        143693 non-null  float64\n",
      " 20  Temp3pm        141851 non-null  float64\n",
      " 21  RainToday      142199 non-null  object \n",
      " 22  RainTomorrow   142193 non-null  object \n",
      "dtypes: float64(16), object(7)\n",
      "memory usage: 25.5+ MB\n"
     ]
    }
   ],
   "source": [
    "df = pd.read_csv('weatherAUS.csv')\n",
    "df.info()"
   ]
  },
  {
   "cell_type": "code",
   "execution_count": 51,
   "metadata": {
    "colab": {
     "base_uri": "https://localhost:8080/"
    },
    "executionInfo": {
     "elapsed": 1474,
     "status": "ok",
     "timestamp": 1616950052704,
     "user": {
      "displayName": "Aleksandr Litvinov",
      "photoUrl": "",
      "userId": "04845157337571496765"
     },
     "user_tz": -180
    },
    "id": "VaxX6iz0chzx",
    "outputId": "4c56177a-f5a9-4105-f552-2ff502e27b80"
   },
   "outputs": [
    {
     "data": {
      "text/html": [
       "<div>\n",
       "<style scoped>\n",
       "    .dataframe tbody tr th:only-of-type {\n",
       "        vertical-align: middle;\n",
       "    }\n",
       "\n",
       "    .dataframe tbody tr th {\n",
       "        vertical-align: top;\n",
       "    }\n",
       "\n",
       "    .dataframe thead th {\n",
       "        text-align: right;\n",
       "    }\n",
       "</style>\n",
       "<table border=\"1\" class=\"dataframe\">\n",
       "  <thead>\n",
       "    <tr style=\"text-align: right;\">\n",
       "      <th></th>\n",
       "      <th>Date</th>\n",
       "      <th>Location</th>\n",
       "      <th>MinTemp</th>\n",
       "      <th>MaxTemp</th>\n",
       "      <th>Rainfall</th>\n",
       "      <th>Evaporation</th>\n",
       "      <th>Sunshine</th>\n",
       "      <th>WindGustDir</th>\n",
       "      <th>WindGustSpeed</th>\n",
       "      <th>WindDir9am</th>\n",
       "      <th>...</th>\n",
       "      <th>Humidity9am</th>\n",
       "      <th>Humidity3pm</th>\n",
       "      <th>Pressure9am</th>\n",
       "      <th>Pressure3pm</th>\n",
       "      <th>Cloud9am</th>\n",
       "      <th>Cloud3pm</th>\n",
       "      <th>Temp9am</th>\n",
       "      <th>Temp3pm</th>\n",
       "      <th>RainToday</th>\n",
       "      <th>RainTomorrow</th>\n",
       "    </tr>\n",
       "  </thead>\n",
       "  <tbody>\n",
       "    <tr>\n",
       "      <th>106590</th>\n",
       "      <td>2011-11-25</td>\n",
       "      <td>Woomera</td>\n",
       "      <td>14.6</td>\n",
       "      <td>27.5</td>\n",
       "      <td>1.8</td>\n",
       "      <td>NaN</td>\n",
       "      <td>7.4</td>\n",
       "      <td>WSW</td>\n",
       "      <td>56.0</td>\n",
       "      <td>SW</td>\n",
       "      <td>...</td>\n",
       "      <td>44.0</td>\n",
       "      <td>17.0</td>\n",
       "      <td>1018.4</td>\n",
       "      <td>1014.9</td>\n",
       "      <td>2.0</td>\n",
       "      <td>2.0</td>\n",
       "      <td>18.4</td>\n",
       "      <td>26.0</td>\n",
       "      <td>Yes</td>\n",
       "      <td>No</td>\n",
       "    </tr>\n",
       "    <tr>\n",
       "      <th>13854</th>\n",
       "      <td>2014-02-20</td>\n",
       "      <td>Moree</td>\n",
       "      <td>22.3</td>\n",
       "      <td>26.2</td>\n",
       "      <td>23.8</td>\n",
       "      <td>6.4</td>\n",
       "      <td>NaN</td>\n",
       "      <td>N</td>\n",
       "      <td>30.0</td>\n",
       "      <td>NNW</td>\n",
       "      <td>...</td>\n",
       "      <td>93.0</td>\n",
       "      <td>74.0</td>\n",
       "      <td>1007.9</td>\n",
       "      <td>1009.3</td>\n",
       "      <td>8.0</td>\n",
       "      <td>7.0</td>\n",
       "      <td>23.1</td>\n",
       "      <td>24.7</td>\n",
       "      <td>Yes</td>\n",
       "      <td>NaN</td>\n",
       "    </tr>\n",
       "    <tr>\n",
       "      <th>68777</th>\n",
       "      <td>2012-11-24</td>\n",
       "      <td>Melbourne</td>\n",
       "      <td>13.3</td>\n",
       "      <td>34.5</td>\n",
       "      <td>0.0</td>\n",
       "      <td>6.4</td>\n",
       "      <td>7.9</td>\n",
       "      <td>N</td>\n",
       "      <td>52.0</td>\n",
       "      <td>N</td>\n",
       "      <td>...</td>\n",
       "      <td>61.0</td>\n",
       "      <td>18.0</td>\n",
       "      <td>1012.7</td>\n",
       "      <td>1009.2</td>\n",
       "      <td>NaN</td>\n",
       "      <td>NaN</td>\n",
       "      <td>20.2</td>\n",
       "      <td>34.1</td>\n",
       "      <td>No</td>\n",
       "      <td>No</td>\n",
       "    </tr>\n",
       "    <tr>\n",
       "      <th>78580</th>\n",
       "      <td>2010-08-15</td>\n",
       "      <td>Watsonia</td>\n",
       "      <td>10.3</td>\n",
       "      <td>14.7</td>\n",
       "      <td>0.0</td>\n",
       "      <td>1.4</td>\n",
       "      <td>0.9</td>\n",
       "      <td>WSW</td>\n",
       "      <td>54.0</td>\n",
       "      <td>N</td>\n",
       "      <td>...</td>\n",
       "      <td>84.0</td>\n",
       "      <td>99.0</td>\n",
       "      <td>1000.1</td>\n",
       "      <td>1002.0</td>\n",
       "      <td>7.0</td>\n",
       "      <td>5.0</td>\n",
       "      <td>11.2</td>\n",
       "      <td>13.5</td>\n",
       "      <td>No</td>\n",
       "      <td>Yes</td>\n",
       "    </tr>\n",
       "    <tr>\n",
       "      <th>72088</th>\n",
       "      <td>2013-11-20</td>\n",
       "      <td>Mildura</td>\n",
       "      <td>14.3</td>\n",
       "      <td>25.1</td>\n",
       "      <td>0.0</td>\n",
       "      <td>11.4</td>\n",
       "      <td>7.3</td>\n",
       "      <td>SSE</td>\n",
       "      <td>33.0</td>\n",
       "      <td>SSE</td>\n",
       "      <td>...</td>\n",
       "      <td>59.0</td>\n",
       "      <td>35.0</td>\n",
       "      <td>1006.8</td>\n",
       "      <td>1008.7</td>\n",
       "      <td>7.0</td>\n",
       "      <td>7.0</td>\n",
       "      <td>17.4</td>\n",
       "      <td>23.5</td>\n",
       "      <td>No</td>\n",
       "      <td>No</td>\n",
       "    </tr>\n",
       "    <tr>\n",
       "      <th>125221</th>\n",
       "      <td>2012-11-29</td>\n",
       "      <td>SalmonGums</td>\n",
       "      <td>11.5</td>\n",
       "      <td>20.3</td>\n",
       "      <td>6.8</td>\n",
       "      <td>NaN</td>\n",
       "      <td>NaN</td>\n",
       "      <td>NW</td>\n",
       "      <td>72.0</td>\n",
       "      <td>WNW</td>\n",
       "      <td>...</td>\n",
       "      <td>44.0</td>\n",
       "      <td>35.0</td>\n",
       "      <td>NaN</td>\n",
       "      <td>NaN</td>\n",
       "      <td>NaN</td>\n",
       "      <td>NaN</td>\n",
       "      <td>15.6</td>\n",
       "      <td>18.6</td>\n",
       "      <td>Yes</td>\n",
       "      <td>No</td>\n",
       "    </tr>\n",
       "    <tr>\n",
       "      <th>137406</th>\n",
       "      <td>2012-08-27</td>\n",
       "      <td>AliceSprings</td>\n",
       "      <td>4.0</td>\n",
       "      <td>27.5</td>\n",
       "      <td>0.0</td>\n",
       "      <td>7.6</td>\n",
       "      <td>11.1</td>\n",
       "      <td>E</td>\n",
       "      <td>30.0</td>\n",
       "      <td>ENE</td>\n",
       "      <td>...</td>\n",
       "      <td>30.0</td>\n",
       "      <td>14.0</td>\n",
       "      <td>1022.2</td>\n",
       "      <td>1017.1</td>\n",
       "      <td>0.0</td>\n",
       "      <td>1.0</td>\n",
       "      <td>16.6</td>\n",
       "      <td>25.3</td>\n",
       "      <td>No</td>\n",
       "      <td>No</td>\n",
       "    </tr>\n",
       "    <tr>\n",
       "      <th>76075</th>\n",
       "      <td>2012-01-31</td>\n",
       "      <td>Portland</td>\n",
       "      <td>12.1</td>\n",
       "      <td>17.7</td>\n",
       "      <td>4.8</td>\n",
       "      <td>2.2</td>\n",
       "      <td>5.9</td>\n",
       "      <td>S</td>\n",
       "      <td>43.0</td>\n",
       "      <td>S</td>\n",
       "      <td>...</td>\n",
       "      <td>52.0</td>\n",
       "      <td>61.0</td>\n",
       "      <td>1017.2</td>\n",
       "      <td>1019.9</td>\n",
       "      <td>7.0</td>\n",
       "      <td>8.0</td>\n",
       "      <td>13.9</td>\n",
       "      <td>14.7</td>\n",
       "      <td>Yes</td>\n",
       "      <td>No</td>\n",
       "    </tr>\n",
       "    <tr>\n",
       "      <th>121055</th>\n",
       "      <td>2009-08-22</td>\n",
       "      <td>Perth</td>\n",
       "      <td>12.7</td>\n",
       "      <td>17.6</td>\n",
       "      <td>3.6</td>\n",
       "      <td>2.4</td>\n",
       "      <td>3.2</td>\n",
       "      <td>SW</td>\n",
       "      <td>46.0</td>\n",
       "      <td>W</td>\n",
       "      <td>...</td>\n",
       "      <td>77.0</td>\n",
       "      <td>67.0</td>\n",
       "      <td>1011.6</td>\n",
       "      <td>1010.2</td>\n",
       "      <td>7.0</td>\n",
       "      <td>8.0</td>\n",
       "      <td>15.3</td>\n",
       "      <td>16.4</td>\n",
       "      <td>Yes</td>\n",
       "      <td>Yes</td>\n",
       "    </tr>\n",
       "    <tr>\n",
       "      <th>128023</th>\n",
       "      <td>2012-05-09</td>\n",
       "      <td>Walpole</td>\n",
       "      <td>11.2</td>\n",
       "      <td>18.8</td>\n",
       "      <td>2.0</td>\n",
       "      <td>NaN</td>\n",
       "      <td>NaN</td>\n",
       "      <td>NW</td>\n",
       "      <td>52.0</td>\n",
       "      <td>NNW</td>\n",
       "      <td>...</td>\n",
       "      <td>74.0</td>\n",
       "      <td>91.0</td>\n",
       "      <td>1016.9</td>\n",
       "      <td>1016.5</td>\n",
       "      <td>NaN</td>\n",
       "      <td>NaN</td>\n",
       "      <td>15.3</td>\n",
       "      <td>16.3</td>\n",
       "      <td>Yes</td>\n",
       "      <td>Yes</td>\n",
       "    </tr>\n",
       "  </tbody>\n",
       "</table>\n",
       "<p>10 rows × 23 columns</p>\n",
       "</div>"
      ],
      "text/plain": [
       "              Date      Location  MinTemp  MaxTemp  Rainfall  Evaporation  \\\n",
       "106590  2011-11-25       Woomera     14.6     27.5       1.8          NaN   \n",
       "13854   2014-02-20         Moree     22.3     26.2      23.8          6.4   \n",
       "68777   2012-11-24     Melbourne     13.3     34.5       0.0          6.4   \n",
       "78580   2010-08-15      Watsonia     10.3     14.7       0.0          1.4   \n",
       "72088   2013-11-20       Mildura     14.3     25.1       0.0         11.4   \n",
       "125221  2012-11-29    SalmonGums     11.5     20.3       6.8          NaN   \n",
       "137406  2012-08-27  AliceSprings      4.0     27.5       0.0          7.6   \n",
       "76075   2012-01-31      Portland     12.1     17.7       4.8          2.2   \n",
       "121055  2009-08-22         Perth     12.7     17.6       3.6          2.4   \n",
       "128023  2012-05-09       Walpole     11.2     18.8       2.0          NaN   \n",
       "\n",
       "        Sunshine WindGustDir  WindGustSpeed WindDir9am  ... Humidity9am  \\\n",
       "106590       7.4         WSW           56.0         SW  ...        44.0   \n",
       "13854        NaN           N           30.0        NNW  ...        93.0   \n",
       "68777        7.9           N           52.0          N  ...        61.0   \n",
       "78580        0.9         WSW           54.0          N  ...        84.0   \n",
       "72088        7.3         SSE           33.0        SSE  ...        59.0   \n",
       "125221       NaN          NW           72.0        WNW  ...        44.0   \n",
       "137406      11.1           E           30.0        ENE  ...        30.0   \n",
       "76075        5.9           S           43.0          S  ...        52.0   \n",
       "121055       3.2          SW           46.0          W  ...        77.0   \n",
       "128023       NaN          NW           52.0        NNW  ...        74.0   \n",
       "\n",
       "        Humidity3pm  Pressure9am  Pressure3pm  Cloud9am  Cloud3pm  Temp9am  \\\n",
       "106590         17.0       1018.4       1014.9       2.0       2.0     18.4   \n",
       "13854          74.0       1007.9       1009.3       8.0       7.0     23.1   \n",
       "68777          18.0       1012.7       1009.2       NaN       NaN     20.2   \n",
       "78580          99.0       1000.1       1002.0       7.0       5.0     11.2   \n",
       "72088          35.0       1006.8       1008.7       7.0       7.0     17.4   \n",
       "125221         35.0          NaN          NaN       NaN       NaN     15.6   \n",
       "137406         14.0       1022.2       1017.1       0.0       1.0     16.6   \n",
       "76075          61.0       1017.2       1019.9       7.0       8.0     13.9   \n",
       "121055         67.0       1011.6       1010.2       7.0       8.0     15.3   \n",
       "128023         91.0       1016.9       1016.5       NaN       NaN     15.3   \n",
       "\n",
       "        Temp3pm  RainToday  RainTomorrow  \n",
       "106590     26.0        Yes            No  \n",
       "13854      24.7        Yes           NaN  \n",
       "68777      34.1         No            No  \n",
       "78580      13.5         No           Yes  \n",
       "72088      23.5         No            No  \n",
       "125221     18.6        Yes            No  \n",
       "137406     25.3         No            No  \n",
       "76075      14.7        Yes            No  \n",
       "121055     16.4        Yes           Yes  \n",
       "128023     16.3        Yes           Yes  \n",
       "\n",
       "[10 rows x 23 columns]"
      ]
     },
     "execution_count": 51,
     "metadata": {},
     "output_type": "execute_result"
    }
   ],
   "source": [
    "df.sample(10)"
   ]
  },
  {
   "cell_type": "code",
   "execution_count": 54,
   "metadata": {
    "colab": {
     "base_uri": "https://localhost:8080/"
    },
    "executionInfo": {
     "elapsed": 2026,
     "status": "ok",
     "timestamp": 1616950053381,
     "user": {
      "displayName": "Aleksandr Litvinov",
      "photoUrl": "",
      "userId": "04845157337571496765"
     },
     "user_tz": -180
    },
    "id": "i3HmYmadlpHL",
    "outputId": "5c590fad-7bf4-440e-c34d-2f1187812637"
   },
   "outputs": [
    {
     "data": {
      "text/plain": [
       "Sunshine         69835\n",
       "Evaporation      62790\n",
       "Cloud3pm         59358\n",
       "Cloud9am         55888\n",
       "Pressure9am      15065\n",
       "Pressure3pm      15028\n",
       "WindDir9am       10566\n",
       "WindGustDir      10326\n",
       "WindGustSpeed    10263\n",
       "Humidity3pm       4507\n",
       "WindDir3pm        4228\n",
       "Temp3pm           3609\n",
       "RainTomorrow      3267\n",
       "RainToday         3261\n",
       "Rainfall          3261\n",
       "WindSpeed3pm      3062\n",
       "Humidity9am       2654\n",
       "WindSpeed9am      1767\n",
       "Temp9am           1767\n",
       "MinTemp           1485\n",
       "MaxTemp           1261\n",
       "Location             0\n",
       "Date                 0\n",
       "dtype: int64"
      ]
     },
     "execution_count": 54,
     "metadata": {},
     "output_type": "execute_result"
    }
   ],
   "source": [
    "df.isna().sum().sort_values(ascending=False)"
   ]
  },
  {
   "cell_type": "code",
   "execution_count": 56,
   "metadata": {
    "colab": {
     "base_uri": "https://localhost:8080/"
    },
    "executionInfo": {
     "elapsed": 2516,
     "status": "ok",
     "timestamp": 1616950053942,
     "user": {
      "displayName": "Aleksandr Litvinov",
      "photoUrl": "",
      "userId": "04845157337571496765"
     },
     "user_tz": -180
    },
    "id": "knFzyODmmCwv",
    "outputId": "e27da95e-79f5-477c-d59a-da8343f53578"
   },
   "outputs": [
    {
     "name": "stdout",
     "output_type": "stream",
     "text": [
      "<class 'pandas.core.frame.DataFrame'>\n",
      "Int64Index: 112925 entries, 0 to 145458\n",
      "Data columns (total 18 columns):\n",
      " #   Column         Non-Null Count   Dtype  \n",
      "---  ------         --------------   -----  \n",
      " 0   Location       112925 non-null  object \n",
      " 1   MinTemp        112925 non-null  float64\n",
      " 2   MaxTemp        112925 non-null  float64\n",
      " 3   Rainfall       112925 non-null  float64\n",
      " 4   WindGustDir    112925 non-null  object \n",
      " 5   WindGustSpeed  112925 non-null  float64\n",
      " 6   WindDir9am     112925 non-null  object \n",
      " 7   WindDir3pm     112925 non-null  object \n",
      " 8   WindSpeed9am   112925 non-null  float64\n",
      " 9   WindSpeed3pm   112925 non-null  float64\n",
      " 10  Humidity9am    112925 non-null  float64\n",
      " 11  Humidity3pm    112925 non-null  float64\n",
      " 12  Pressure9am    112925 non-null  float64\n",
      " 13  Pressure3pm    112925 non-null  float64\n",
      " 14  Temp9am        112925 non-null  float64\n",
      " 15  Temp3pm        112925 non-null  float64\n",
      " 16  RainToday      112925 non-null  object \n",
      " 17  RainTomorrow   112925 non-null  object \n",
      "dtypes: float64(12), object(6)\n",
      "memory usage: 16.4+ MB\n"
     ]
    }
   ],
   "source": [
    "weather_df = df.drop(columns=['Date', 'Sunshine', 'Evaporation', 'Cloud3pm', 'Cloud9am']).dropna()\n",
    "weather_df.info()"
   ]
  },
  {
   "cell_type": "code",
   "execution_count": 57,
   "metadata": {
    "id": "vbc9ocs2dhYi"
   },
   "outputs": [
    {
     "data": {
      "text/html": [
       "<div>\n",
       "<style scoped>\n",
       "    .dataframe tbody tr th:only-of-type {\n",
       "        vertical-align: middle;\n",
       "    }\n",
       "\n",
       "    .dataframe tbody tr th {\n",
       "        vertical-align: top;\n",
       "    }\n",
       "\n",
       "    .dataframe thead th {\n",
       "        text-align: right;\n",
       "    }\n",
       "</style>\n",
       "<table border=\"1\" class=\"dataframe\">\n",
       "  <thead>\n",
       "    <tr style=\"text-align: right;\">\n",
       "      <th></th>\n",
       "      <th>Location</th>\n",
       "      <th>MinTemp</th>\n",
       "      <th>MaxTemp</th>\n",
       "      <th>Rainfall</th>\n",
       "      <th>WindGustDir</th>\n",
       "      <th>WindGustSpeed</th>\n",
       "      <th>WindDir9am</th>\n",
       "      <th>WindDir3pm</th>\n",
       "      <th>WindSpeed9am</th>\n",
       "      <th>WindSpeed3pm</th>\n",
       "      <th>Humidity9am</th>\n",
       "      <th>Humidity3pm</th>\n",
       "      <th>Pressure9am</th>\n",
       "      <th>Pressure3pm</th>\n",
       "      <th>Temp9am</th>\n",
       "      <th>Temp3pm</th>\n",
       "      <th>RainToday</th>\n",
       "      <th>RainTomorrow</th>\n",
       "    </tr>\n",
       "  </thead>\n",
       "  <tbody>\n",
       "    <tr>\n",
       "      <th>75490</th>\n",
       "      <td>0.790698</td>\n",
       "      <td>0.515439</td>\n",
       "      <td>0.525275</td>\n",
       "      <td>0.0</td>\n",
       "      <td>0.066667</td>\n",
       "      <td>0.304688</td>\n",
       "      <td>0.666667</td>\n",
       "      <td>0.000000</td>\n",
       "      <td>0.176471</td>\n",
       "      <td>0.364706</td>\n",
       "      <td>0.57</td>\n",
       "      <td>0.45</td>\n",
       "      <td>0.667769</td>\n",
       "      <td>0.6480</td>\n",
       "      <td>0.547344</td>\n",
       "      <td>0.513333</td>\n",
       "      <td>0.0</td>\n",
       "      <td>0.0</td>\n",
       "    </tr>\n",
       "    <tr>\n",
       "      <th>77206</th>\n",
       "      <td>0.000000</td>\n",
       "      <td>0.565321</td>\n",
       "      <td>0.731868</td>\n",
       "      <td>0.0</td>\n",
       "      <td>0.466667</td>\n",
       "      <td>0.320312</td>\n",
       "      <td>0.333333</td>\n",
       "      <td>0.400000</td>\n",
       "      <td>0.105882</td>\n",
       "      <td>0.258824</td>\n",
       "      <td>0.47</td>\n",
       "      <td>0.13</td>\n",
       "      <td>0.527273</td>\n",
       "      <td>0.4896</td>\n",
       "      <td>0.616628</td>\n",
       "      <td>0.740000</td>\n",
       "      <td>0.0</td>\n",
       "      <td>0.0</td>\n",
       "    </tr>\n",
       "    <tr>\n",
       "      <th>13363</th>\n",
       "      <td>0.534884</td>\n",
       "      <td>0.615202</td>\n",
       "      <td>0.496703</td>\n",
       "      <td>0.0</td>\n",
       "      <td>0.333333</td>\n",
       "      <td>0.250000</td>\n",
       "      <td>0.533333</td>\n",
       "      <td>0.066667</td>\n",
       "      <td>0.058824</td>\n",
       "      <td>0.258824</td>\n",
       "      <td>0.73</td>\n",
       "      <td>0.76</td>\n",
       "      <td>0.614876</td>\n",
       "      <td>0.5600</td>\n",
       "      <td>0.586605</td>\n",
       "      <td>0.502222</td>\n",
       "      <td>0.0</td>\n",
       "      <td>0.0</td>\n",
       "    </tr>\n",
       "    <tr>\n",
       "      <th>27365</th>\n",
       "      <td>0.860465</td>\n",
       "      <td>0.320665</td>\n",
       "      <td>0.435165</td>\n",
       "      <td>0.0</td>\n",
       "      <td>0.066667</td>\n",
       "      <td>0.218750</td>\n",
       "      <td>0.133333</td>\n",
       "      <td>0.066667</td>\n",
       "      <td>0.129412</td>\n",
       "      <td>0.235294</td>\n",
       "      <td>0.73</td>\n",
       "      <td>0.53</td>\n",
       "      <td>0.661157</td>\n",
       "      <td>0.6144</td>\n",
       "      <td>0.378753</td>\n",
       "      <td>0.448889</td>\n",
       "      <td>0.0</td>\n",
       "      <td>0.0</td>\n",
       "    </tr>\n",
       "    <tr>\n",
       "      <th>97495</th>\n",
       "      <td>0.627907</td>\n",
       "      <td>0.446556</td>\n",
       "      <td>0.437363</td>\n",
       "      <td>0.0</td>\n",
       "      <td>0.400000</td>\n",
       "      <td>0.382812</td>\n",
       "      <td>0.333333</td>\n",
       "      <td>0.466667</td>\n",
       "      <td>0.105882</td>\n",
       "      <td>0.211765</td>\n",
       "      <td>0.72</td>\n",
       "      <td>0.69</td>\n",
       "      <td>0.578512</td>\n",
       "      <td>0.5488</td>\n",
       "      <td>0.452656</td>\n",
       "      <td>0.448889</td>\n",
       "      <td>0.0</td>\n",
       "      <td>0.0</td>\n",
       "    </tr>\n",
       "    <tr>\n",
       "      <th>85463</th>\n",
       "      <td>1.000000</td>\n",
       "      <td>0.346793</td>\n",
       "      <td>0.373626</td>\n",
       "      <td>0.0</td>\n",
       "      <td>0.600000</td>\n",
       "      <td>0.218750</td>\n",
       "      <td>0.666667</td>\n",
       "      <td>0.800000</td>\n",
       "      <td>0.176471</td>\n",
       "      <td>0.152941</td>\n",
       "      <td>0.40</td>\n",
       "      <td>0.21</td>\n",
       "      <td>0.783471</td>\n",
       "      <td>0.7712</td>\n",
       "      <td>0.367206</td>\n",
       "      <td>0.373333</td>\n",
       "      <td>0.0</td>\n",
       "      <td>0.0</td>\n",
       "    </tr>\n",
       "    <tr>\n",
       "      <th>68775</th>\n",
       "      <td>0.162791</td>\n",
       "      <td>0.684086</td>\n",
       "      <td>0.580220</td>\n",
       "      <td>0.0</td>\n",
       "      <td>0.666667</td>\n",
       "      <td>0.421875</td>\n",
       "      <td>0.666667</td>\n",
       "      <td>0.600000</td>\n",
       "      <td>0.329412</td>\n",
       "      <td>0.494118</td>\n",
       "      <td>0.51</td>\n",
       "      <td>0.53</td>\n",
       "      <td>0.657851</td>\n",
       "      <td>0.6496</td>\n",
       "      <td>0.655889</td>\n",
       "      <td>0.544444</td>\n",
       "      <td>0.0</td>\n",
       "      <td>0.0</td>\n",
       "    </tr>\n",
       "    <tr>\n",
       "      <th>84738</th>\n",
       "      <td>1.000000</td>\n",
       "      <td>0.275534</td>\n",
       "      <td>0.325275</td>\n",
       "      <td>0.0</td>\n",
       "      <td>0.333333</td>\n",
       "      <td>0.421875</td>\n",
       "      <td>0.266667</td>\n",
       "      <td>0.200000</td>\n",
       "      <td>0.200000</td>\n",
       "      <td>0.411765</td>\n",
       "      <td>0.63</td>\n",
       "      <td>0.37</td>\n",
       "      <td>0.694215</td>\n",
       "      <td>0.6352</td>\n",
       "      <td>0.260970</td>\n",
       "      <td>0.337778</td>\n",
       "      <td>0.0</td>\n",
       "      <td>1.0</td>\n",
       "    </tr>\n",
       "    <tr>\n",
       "      <th>79195</th>\n",
       "      <td>0.488372</td>\n",
       "      <td>0.503563</td>\n",
       "      <td>0.371429</td>\n",
       "      <td>0.0</td>\n",
       "      <td>0.733333</td>\n",
       "      <td>0.187500</td>\n",
       "      <td>0.866667</td>\n",
       "      <td>0.733333</td>\n",
       "      <td>0.129412</td>\n",
       "      <td>0.211765</td>\n",
       "      <td>0.80</td>\n",
       "      <td>0.78</td>\n",
       "      <td>0.613223</td>\n",
       "      <td>0.6320</td>\n",
       "      <td>0.429561</td>\n",
       "      <td>0.342222</td>\n",
       "      <td>0.0</td>\n",
       "      <td>0.0</td>\n",
       "    </tr>\n",
       "    <tr>\n",
       "      <th>39715</th>\n",
       "      <td>0.093023</td>\n",
       "      <td>0.448931</td>\n",
       "      <td>0.364835</td>\n",
       "      <td>0.0</td>\n",
       "      <td>0.333333</td>\n",
       "      <td>0.367188</td>\n",
       "      <td>0.200000</td>\n",
       "      <td>0.333333</td>\n",
       "      <td>0.364706</td>\n",
       "      <td>0.364706</td>\n",
       "      <td>0.46</td>\n",
       "      <td>0.42</td>\n",
       "      <td>0.624793</td>\n",
       "      <td>0.5984</td>\n",
       "      <td>0.413395</td>\n",
       "      <td>0.357778</td>\n",
       "      <td>0.0</td>\n",
       "      <td>0.0</td>\n",
       "    </tr>\n",
       "  </tbody>\n",
       "</table>\n",
       "</div>"
      ],
      "text/plain": [
       "       Location   MinTemp   MaxTemp  Rainfall  WindGustDir  WindGustSpeed  \\\n",
       "75490  0.790698  0.515439  0.525275       0.0     0.066667       0.304688   \n",
       "77206  0.000000  0.565321  0.731868       0.0     0.466667       0.320312   \n",
       "13363  0.534884  0.615202  0.496703       0.0     0.333333       0.250000   \n",
       "27365  0.860465  0.320665  0.435165       0.0     0.066667       0.218750   \n",
       "97495  0.627907  0.446556  0.437363       0.0     0.400000       0.382812   \n",
       "85463  1.000000  0.346793  0.373626       0.0     0.600000       0.218750   \n",
       "68775  0.162791  0.684086  0.580220       0.0     0.666667       0.421875   \n",
       "84738  1.000000  0.275534  0.325275       0.0     0.333333       0.421875   \n",
       "79195  0.488372  0.503563  0.371429       0.0     0.733333       0.187500   \n",
       "39715  0.093023  0.448931  0.364835       0.0     0.333333       0.367188   \n",
       "\n",
       "       WindDir9am  WindDir3pm  WindSpeed9am  WindSpeed3pm  Humidity9am  \\\n",
       "75490    0.666667    0.000000      0.176471      0.364706         0.57   \n",
       "77206    0.333333    0.400000      0.105882      0.258824         0.47   \n",
       "13363    0.533333    0.066667      0.058824      0.258824         0.73   \n",
       "27365    0.133333    0.066667      0.129412      0.235294         0.73   \n",
       "97495    0.333333    0.466667      0.105882      0.211765         0.72   \n",
       "85463    0.666667    0.800000      0.176471      0.152941         0.40   \n",
       "68775    0.666667    0.600000      0.329412      0.494118         0.51   \n",
       "84738    0.266667    0.200000      0.200000      0.411765         0.63   \n",
       "79195    0.866667    0.733333      0.129412      0.211765         0.80   \n",
       "39715    0.200000    0.333333      0.364706      0.364706         0.46   \n",
       "\n",
       "       Humidity3pm  Pressure9am  Pressure3pm   Temp9am   Temp3pm  RainToday  \\\n",
       "75490         0.45     0.667769       0.6480  0.547344  0.513333        0.0   \n",
       "77206         0.13     0.527273       0.4896  0.616628  0.740000        0.0   \n",
       "13363         0.76     0.614876       0.5600  0.586605  0.502222        0.0   \n",
       "27365         0.53     0.661157       0.6144  0.378753  0.448889        0.0   \n",
       "97495         0.69     0.578512       0.5488  0.452656  0.448889        0.0   \n",
       "85463         0.21     0.783471       0.7712  0.367206  0.373333        0.0   \n",
       "68775         0.53     0.657851       0.6496  0.655889  0.544444        0.0   \n",
       "84738         0.37     0.694215       0.6352  0.260970  0.337778        0.0   \n",
       "79195         0.78     0.613223       0.6320  0.429561  0.342222        0.0   \n",
       "39715         0.42     0.624793       0.5984  0.413395  0.357778        0.0   \n",
       "\n",
       "       RainTomorrow  \n",
       "75490           0.0  \n",
       "77206           0.0  \n",
       "13363           0.0  \n",
       "27365           0.0  \n",
       "97495           0.0  \n",
       "85463           0.0  \n",
       "68775           0.0  \n",
       "84738           1.0  \n",
       "79195           0.0  \n",
       "39715           0.0  "
      ]
     },
     "execution_count": 57,
     "metadata": {},
     "output_type": "execute_result"
    }
   ],
   "source": [
    "from sklearn import preprocessing\n",
    "\n",
    "labelencoder = preprocessing.LabelEncoder()\n",
    "weather_df['Location'] = labelencoder.fit_transform(weather_df['Location'])\n",
    "weather_df['WindGustDir'] = labelencoder.fit_transform(weather_df['WindGustDir'])\n",
    "weather_df['WindDir9am'] = labelencoder.fit_transform(weather_df['WindDir9am'])\n",
    "weather_df['RainToday'] = labelencoder.fit_transform(weather_df['RainToday'])\n",
    "weather_df['RainTomorrow'] = labelencoder.fit_transform(weather_df['RainTomorrow'])\n",
    "weather_df['WindDir3pm'] = labelencoder.fit_transform(weather_df['WindDir3pm'])\n",
    "\n",
    "min_max_scaler = preprocessing.MinMaxScaler()\n",
    "weather_df_new = pd.DataFrame(data=min_max_scaler.fit_transform(weather_df), columns=weather_df.columns)\n",
    "weather_df_new.sample(10)"
   ]
  },
  {
   "cell_type": "code",
   "execution_count": 68,
   "metadata": {
    "colab": {
     "base_uri": "https://localhost:8080/"
    },
    "executionInfo": {
     "elapsed": 2858,
     "status": "ok",
     "timestamp": 1616950054339,
     "user": {
      "displayName": "Aleksandr Litvinov",
      "photoUrl": "",
      "userId": "04845157337571496765"
     },
     "user_tz": -180
    },
    "id": "sPovf9iMmYEW",
    "outputId": "5e29262e-0a5f-4620-b502-9821530bbb4c"
   },
   "outputs": [],
   "source": [
    "from sklearn.model_selection import train_test_split\n",
    "\n",
    "X_train, X_test, y_train, y_test = train_test_split(weather_df_new.drop(['RainTomorrow'], axis=1), weather_df['RainTomorrow'], test_size=0.25, shuffle=False)"
   ]
  },
  {
   "cell_type": "markdown",
   "metadata": {},
   "source": [
    "## 2. Построение и оценка моделей"
   ]
  },
  {
   "cell_type": "markdown",
   "metadata": {},
   "source": [
    "### 2.1. Наивные байесовские классификаторы"
   ]
  },
  {
   "cell_type": "code",
   "execution_count": 71,
   "metadata": {
    "colab": {
     "base_uri": "https://localhost:8080/"
    },
    "executionInfo": {
     "elapsed": 2816,
     "status": "error",
     "timestamp": 1616950054362,
     "user": {
      "displayName": "Aleksandr Litvinov",
      "photoUrl": "",
      "userId": "04845157337571496765"
     },
     "user_tz": -180
    },
    "id": "2_lAjdqjsFnM",
    "outputId": "a93d28e8-e068-45ab-9eb8-b4e2326095b6"
   },
   "outputs": [],
   "source": [
    "import sklearn.naive_bayes\n",
    "\n",
    "classifier = sklearn.naive_bayes.MultinomialNB()\n",
    "t1 = time.perf_counter()\n",
    "classifier.fit(X_train, y_train)\n",
    "n_b_Multi_accuracy = classifier.score(X_test, y_test)\n",
    "n_b_Multi_time = time.perf_counter() - t1"
   ]
  },
  {
   "cell_type": "code",
   "execution_count": 72,
   "metadata": {
    "colab": {
     "base_uri": "https://localhost:8080/"
    },
    "executionInfo": {
     "elapsed": 675,
     "status": "ok",
     "timestamp": 1616950236484,
     "user": {
      "displayName": "Aleksandr Litvinov",
      "photoUrl": "",
      "userId": "04845157337571496765"
     },
     "user_tz": -180
    },
    "id": "G3qgYpivsd3M",
    "outputId": "0a64ce74-4f72-4206-97f4-d5f0cd751911"
   },
   "outputs": [],
   "source": [
    "classifier = sklearn.naive_bayes.GaussianNB()\n",
    "t1 = time.perf_counter()\n",
    "classifier.fit(X_train, y_train)\n",
    "n_b_Gauss_accuracy = classifier.score(X_test, y_test)\n",
    "n_b_Gauss_time = time.perf_counter() - t1"
   ]
  },
  {
   "cell_type": "code",
   "execution_count": 73,
   "metadata": {
    "colab": {
     "base_uri": "https://localhost:8080/"
    },
    "executionInfo": {
     "elapsed": 759,
     "status": "ok",
     "timestamp": 1616950231592,
     "user": {
      "displayName": "Aleksandr Litvinov",
      "photoUrl": "",
      "userId": "04845157337571496765"
     },
     "user_tz": -180
    },
    "id": "ofdOFnZUw7hF",
    "outputId": "b273db00-8394-412b-f482-52b61af203c9"
   },
   "outputs": [],
   "source": [
    "classifier = sklearn.naive_bayes.BernoulliNB()\n",
    "t1 = time.perf_counter()\n",
    "classifier.fit(X_train, y_train)\n",
    "n_b_Bern_accuracy = classifier.score(X_test, y_test)\n",
    "n_b_Bern_time = time.perf_counter() - t1"
   ]
  },
  {
   "cell_type": "markdown",
   "metadata": {},
   "source": [
    "### 2.2. Линейная регрессия"
   ]
  },
  {
   "cell_type": "code",
   "execution_count": 127,
   "metadata": {},
   "outputs": [],
   "source": [
    "from sklearn.linear_model import LogisticRegression\n",
    "\n",
    "classifier = LogisticRegression(max_iter=5000)\n",
    "t1 = time.perf_counter()\n",
    "classifier.fit(X_train, y_train)\n",
    "logit_accuracy = classifier.score(X_test, y_test)\n",
    "logit_time = time.perf_counter() - t1"
   ]
  },
  {
   "cell_type": "markdown",
   "metadata": {},
   "source": [
    "### 2.3. Метод ближайших соседей"
   ]
  },
  {
   "cell_type": "code",
   "execution_count": 89,
   "metadata": {},
   "outputs": [],
   "source": [
    "from sklearn.neighbors import KNeighborsClassifier"
   ]
  },
  {
   "cell_type": "code",
   "execution_count": 66,
   "metadata": {
    "executionInfo": {
     "elapsed": 44036,
     "status": "ok",
     "timestamp": 1616950694084,
     "user": {
      "displayName": "Aleksandr Litvinov",
      "photoUrl": "",
      "userId": "04845157337571496765"
     },
     "user_tz": -180
    },
    "id": "ntihBr9SxLUw"
   },
   "outputs": [
    {
     "data": {
      "text/plain": [
       "KNeighborsClassifier()"
      ]
     },
     "execution_count": 66,
     "metadata": {},
     "output_type": "execute_result"
    }
   ],
   "source": [
    "from sklearn.neighbors import KNeighborsClassifier\n",
    "\n",
    "neigh = KNeighborsClassifier(n_neighbors=5)\n",
    "neigh.fit(X_train, y_train)"
   ]
  },
  {
   "cell_type": "code",
   "execution_count": 67,
   "metadata": {
    "colab": {
     "base_uri": "https://localhost:8080/"
    },
    "executionInfo": {
     "elapsed": 44340,
     "status": "ok",
     "timestamp": 1616950824876,
     "user": {
      "displayName": "Aleksandr Litvinov",
      "photoUrl": "",
      "userId": "04845157337571496765"
     },
     "user_tz": -180
    },
    "id": "kH6bgxrIxNKA",
    "outputId": "89b9e4c8-ee31-4e3f-c96f-41900c9285a8"
   },
   "outputs": [
    {
     "data": {
      "text/plain": [
       "0.844644375177104"
      ]
     },
     "execution_count": 67,
     "metadata": {},
     "output_type": "execute_result"
    }
   ],
   "source": [
    "neigh.score(X_test, y_test)"
   ]
  },
  {
   "cell_type": "code",
   "execution_count": 91,
   "metadata": {
    "id": "1Qw256qEyheK"
   },
   "outputs": [],
   "source": [
    "kNN_accuracy = []\n",
    "kNN_time = []\n",
    "n_neig = range(1, 20 + 1)\n",
    "for i in n_neig:\n",
    "    neigh = KNeighborsClassifier(n_neighbors=i)\n",
    "    t1 = time.perf_counter()\n",
    "    neigh.fit(X_train, y_train)\n",
    "    kNN_accuracy.append(neigh.score(X_test, y_test))\n",
    "    kNN_time.append(time.perf_counter() - t1)"
   ]
  },
  {
   "cell_type": "code",
   "execution_count": 95,
   "metadata": {
    "id": "fW4qh6JTyjWO"
   },
   "outputs": [
    {
     "data": {
      "application/vnd.jupyter.widget-view+json": {
       "model_id": "8d04881f05f5426aa8eecbb5cf990bd1",
       "version_major": 2,
       "version_minor": 0
      },
      "text/plain": [
       "Canvas(toolbar=Toolbar(toolitems=[('Home', 'Reset original view', 'home', 'home'), ('Back', 'Back to previous …"
      ]
     },
     "metadata": {},
     "output_type": "display_data"
    }
   ],
   "source": [
    "fig, (ax1, ax2) = plt.subplots(1, 2)\n",
    "ax1.plot(n_neig, kNN_accuracy)\n",
    "ax1.set_xlabel(\"n_neighbors\")\n",
    "ax1.set_ylabel(\"score\")\n",
    "ax1.set_title(\"Score on KNeighborsClassifier\")\n",
    "ax2.plot(n_neig, kNN_time)\n",
    "ax2.set_xlabel(\"n_neighbors\")\n",
    "ax2.set_ylabel(\"execution time, s.\")\n",
    "plt.show()"
   ]
  },
  {
   "cell_type": "markdown",
   "metadata": {},
   "source": [
    "## 3. Выводы"
   ]
  },
  {
   "cell_type": "markdown",
   "metadata": {},
   "source": [
    "Построим таблицу с результатами:"
   ]
  },
  {
   "cell_type": "code",
   "execution_count": 130,
   "metadata": {},
   "outputs": [
    {
     "data": {
      "text/html": [
       "<div>\n",
       "<style scoped>\n",
       "    .dataframe tbody tr th:only-of-type {\n",
       "        vertical-align: middle;\n",
       "    }\n",
       "\n",
       "    .dataframe tbody tr th {\n",
       "        vertical-align: top;\n",
       "    }\n",
       "\n",
       "    .dataframe thead th {\n",
       "        text-align: right;\n",
       "    }\n",
       "</style>\n",
       "<table border=\"1\" class=\"dataframe\">\n",
       "  <thead>\n",
       "    <tr style=\"text-align: right;\">\n",
       "      <th></th>\n",
       "      <th>Модель</th>\n",
       "      <th>Accuracy</th>\n",
       "      <th>Время выполения, с.</th>\n",
       "    </tr>\n",
       "  </thead>\n",
       "  <tbody>\n",
       "    <tr>\n",
       "      <th>1</th>\n",
       "      <td>LogisticRegression</td>\n",
       "      <td>0.867278</td>\n",
       "      <td>1.191048</td>\n",
       "    </tr>\n",
       "    <tr>\n",
       "      <th>2</th>\n",
       "      <td>KNeighborsClassifier, k = 18</td>\n",
       "      <td>0.853712</td>\n",
       "      <td>61.038290</td>\n",
       "    </tr>\n",
       "    <tr>\n",
       "      <th>3</th>\n",
       "      <td>GaussianNB</td>\n",
       "      <td>0.845140</td>\n",
       "      <td>0.074069</td>\n",
       "    </tr>\n",
       "    <tr>\n",
       "      <th>4</th>\n",
       "      <td>MultinomialNB</td>\n",
       "      <td>0.800545</td>\n",
       "      <td>0.024437</td>\n",
       "    </tr>\n",
       "    <tr>\n",
       "      <th>5</th>\n",
       "      <td>BernoulliNB</td>\n",
       "      <td>0.796933</td>\n",
       "      <td>0.040594</td>\n",
       "    </tr>\n",
       "  </tbody>\n",
       "</table>\n",
       "</div>"
      ],
      "text/plain": [
       "                         Модель  Accuracy  Время выполения, с.\n",
       "1            LogisticRegression  0.867278             1.191048\n",
       "2  KNeighborsClassifier, k = 18  0.853712            61.038290\n",
       "3                    GaussianNB  0.845140             0.074069\n",
       "4                 MultinomialNB  0.800545             0.024437\n",
       "5                   BernoulliNB  0.796933             0.040594"
      ]
     },
     "execution_count": 130,
     "metadata": {},
     "output_type": "execute_result"
    }
   ],
   "source": [
    "res_accuracy = [n_b_Multi_accuracy, n_b_Gauss_accuracy, n_b_Bern_accuracy, logit_accuracy, np.max(kNN_accuracy)]\n",
    "res_time = [n_b_Multi_time, n_b_Gauss_time, n_b_Bern_time, logit_time, kNN_time[np.where(kNN_accuracy == np.max(kNN_accuracy))[0][0]]]\n",
    "model_name = ['MultinomialNB', 'GaussianNB', 'BernoulliNB', 'LogisticRegression', 'KNeighborsClassifier, k = 18']\n",
    "res_df = pd.DataFrame({'Модель' : model_name, 'Accuracy' : res_accuracy, 'Время выполения, с.' : res_time})\n",
    "res_df = res_df.sort_values('Accuracy', ascending=False)\n",
    "res_df.index = range(1, 5 + 1)\n",
    "res_df"
   ]
  },
  {
   "cell_type": "markdown",
   "metadata": {},
   "source": [
    "* Метрика Accuracy показывает долю верно размеченных единиц.\n",
    "* Самая качественная модель - LogisticRegression.\n",
    "* Самая быстрая - MultinomialNB.\n",
    "* Метод ближайших соседей очень медленной считается - в среднем 1 минуту.\n",
    "* Таким образом, лучшая модель, как самая качественная и достаточно быстрая,  - логистическая регрессия (регуляризатор - L2, количество итераций = 5000, solver - 'lbfgs')."
   ]
  }
 ],
 "metadata": {
  "colab": {
   "collapsed_sections": [],
   "name": "prob1.ipynb",
   "provenance": []
  },
  "kernelspec": {
   "display_name": "Python 3",
   "language": "python",
   "name": "python3"
  },
  "language_info": {
   "codemirror_mode": {
    "name": "ipython",
    "version": 3
   },
   "file_extension": ".py",
   "mimetype": "text/x-python",
   "name": "python",
   "nbconvert_exporter": "python",
   "pygments_lexer": "ipython3",
   "version": "3.8.5"
  }
 },
 "nbformat": 4,
 "nbformat_minor": 4
}
